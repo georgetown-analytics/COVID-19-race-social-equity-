{
 "cells": [
  {
   "cell_type": "code",
   "execution_count": null,
   "metadata": {},
   "outputs": [],
   "source": [
    "import pandas as pd"
   ]
  },
  {
   "cell_type": "code",
   "execution_count": null,
   "metadata": {},
   "outputs": [],
   "source": [
    "#This will list all files in the current directory, make sure the COVID files are in the current directory\n",
    "ls"
   ]
  },
  {
   "cell_type": "code",
   "execution_count": null,
   "metadata": {},
   "outputs": [],
   "source": [
    "df_may17 = pd.read_csv('COVID_Cases_Restricted_Detailed_05172020.csv')\n",
    "df_may29 = pd.read_csv('COVID_Cases_Restricted_Detailed_05292020.csv')\n",
    "df_june = pd.read_csv('COVID_Cases_Restricted_Detailed_Internal_06272020.csv')\n",
    "df_july = pd.read_csv('COVID_Cases_Restricted_Detailed_07312020.csv')\n",
    "df_aug = pd.read_csv('COVID_Cases_Restricted_Detailed_08312020.csv')\n",
    "df_sep = pd.read_csv('COVID_Cases_Restricted_Detailed_09302020.csv')"
   ]
  },
  {
   "cell_type": "code",
   "execution_count": null,
   "metadata": {},
   "outputs": [],
   "source": [
    "with pd.option_context('display.max_rows', None, 'display.max_columns', None): \n",
    "    print(df_july['cdc_report_dt'].value_counts())"
   ]
  },
  {
   "cell_type": "code",
   "execution_count": null,
   "metadata": {},
   "outputs": [],
   "source": [
    "#df_june, df_july, df_aug and df_sep have a combined race_ethnicity column, lets break that out\n",
    "\n",
    "df_june_split = pd.concat([df_june,df_june['race_ethnicity_combined'].str.split(', ', expand = True)], axis = 1)\n",
    "df_june_split.rename(columns={0: 'race_combined', 1: 'ethnicity'}, inplace=True)\n",
    "\n",
    "df_july_split = pd.concat([df_july,df_july['race_ethnicity_combined'].str.split(', ', expand = True)], axis = 1)\n",
    "df_july_split.rename(columns={0: 'race_combined', 1: 'ethnicity'}, inplace=True)\n",
    "\n",
    "df_aug_split = pd.concat([df_aug,df_aug['race_ethnicity_combined'].str.split(', ', expand = True)], axis = 1)\n",
    "df_aug_split.rename(columns={0: 'race_combined', 1: 'ethnicity'}, inplace=True)\n",
    "\n",
    "df_sep_split = pd.concat([df_sep,df_sep['race_ethnicity_combined'].str.split(', ', expand = True)], axis = 1)\n",
    "df_sep_split.rename(columns={0: 'race_combined', 1: 'ethnicity'}, inplace=True)\n",
    "\n",
    "#note at the far right new columns for race_combined and ethnicity\n",
    "df_sep_split.head()"
   ]
  },
  {
   "cell_type": "code",
   "execution_count": null,
   "metadata": {},
   "outputs": [],
   "source": [
    "#these are all the columns in the june (or later) dataframes that not in the two may dataframes\n",
    "for x in df_june_split.columns:\n",
    "    if x not in df_may17.columns or x not in df_may29.columns:\n",
    "        print(x)"
   ]
  },
  {
   "cell_type": "code",
   "execution_count": null,
   "metadata": {},
   "outputs": [],
   "source": [
    "#these are all the columns in the May (or later) dataframes that not in the June (or later) dataframes\n",
    "for x in df_may17.columns:\n",
    "    if x not in df_june_split.columns:\n",
    "        print(x)\n",
    "        \n",
    "#nothing is printed (all the columns in the df_may17 dataframe are in the df_june_split dataframe)"
   ]
  },
  {
   "cell_type": "code",
   "execution_count": null,
   "metadata": {},
   "outputs": [],
   "source": [
    "#just to check all the columns match in the June or later DFs\n",
    "print(df_june_split.columns == df_july_split.columns)\n",
    "print(df_july_split.columns == df_aug_split.columns)\n",
    "print(df_aug_split.columns == df_sep_split.columns)\n",
    "#it turns out the falses are due to different order not different columns (can use for loop like above to check)"
   ]
  },
  {
   "cell_type": "code",
   "execution_count": null,
   "metadata": {},
   "outputs": [],
   "source": [
    "#make a list of data frames that get concated\n",
    "all_dfs = [df_may17,df_may29,df_june_split,df_july_split,df_aug_split,df_sep_split]\n",
    "\n",
    "working_df = pd.concat(all_dfs)\n",
    "working_df.info()"
   ]
  },
  {
   "cell_type": "code",
   "execution_count": null,
   "metadata": {},
   "outputs": [],
   "source": [
    "tr = len(df_may17) + len(df_may29) + len(df_june_split) + len(df_july_split) + len(df_aug_split) + len(df_sep_split)\n",
    "tr1 = len(df_may17) + len(df_may29) + len(df_june) + len(df_july) + len(df_aug) + len(df_sep)\n",
    "\n",
    "print(tr)\n",
    "print(tr1)"
   ]
  },
  {
   "cell_type": "code",
   "execution_count": null,
   "metadata": {},
   "outputs": [],
   "source": [
    "#taking a look at the data in the new working_df\n",
    "working_df['race_combined'].value_counts()"
   ]
  },
  {
   "cell_type": "code",
   "execution_count": null,
   "metadata": {},
   "outputs": [],
   "source": [
    "#Non-hispanic has trailing whitespace maybe?\n",
    "#this probably won't be useful\n",
    "working_df['ethnicity'].value_counts()"
   ]
  },
  {
   "cell_type": "code",
   "execution_count": null,
   "metadata": {},
   "outputs": [],
   "source": [
    "working_df['sex'].value_counts()"
   ]
  },
  {
   "cell_type": "code",
   "execution_count": null,
   "metadata": {},
   "outputs": [],
   "source": [
    "working_df['onset_dt'].dtype"
   ]
  },
  {
   "cell_type": "code",
   "execution_count": null,
   "metadata": {},
   "outputs": [],
   "source": [
    "#Change some series data types to datetime\n",
    "working_df['onset_dt'] = pd.to_datetime(working_df['onset_dt'], yearfirst = True)\n",
    "working_df['pos_spec_dt'] = pd.to_datetime(working_df['pos_spec_dt'], yearfirst = True)\n",
    "working_df['cdc_report_dt'] = pd.to_datetime(working_df['cdc_report_dt'], yearfirst = True, utc = True)\n",
    "working_df.info()"
   ]
  },
  {
   "cell_type": "code",
   "execution_count": null,
   "metadata": {},
   "outputs": [],
   "source": [
    "#it looks like most of the descriptive data (columns hosp_yn to medcond_yn is missing)\n",
    "for x in range(8,29):\n",
    "    print(working_df.iloc[:,x].value_counts())"
   ]
  },
  {
   "cell_type": "code",
   "execution_count": null,
   "metadata": {},
   "outputs": [],
   "source": [
    "pd.options.display.float_format = '{:.2f}'.format\n",
    "pd_pivot = pd.pivot_table(working_df, columns=['race_combined'], index=['res_state'], values ='cdc_report_dt', aggfunc = 'count')\n",
    "pd_pivot['PercentUnknown'] = pd_pivot['Unknown']/pd_pivot.sum(axis=1)\n",
    "pd_pivot['TotalCases'] = pd_pivot.sum(axis=1)\n",
    "pd_pivot.sort_values(by=['TotalCases'], ascending = False)"
   ]
  },
  {
   "cell_type": "code",
   "execution_count": null,
   "metadata": {},
   "outputs": [],
   "source": [
    "working_df['current_status'].value_counts()"
   ]
  },
  {
   "cell_type": "code",
   "execution_count": null,
   "metadata": {},
   "outputs": [],
   "source": [
    "working_df_grouped = working_df.groupby(['race_combined','res_state']).agg({'cdc_report_dt':'count'})\n",
    "with pd.option_context('display.max_rows', None, 'display.max_columns', None): \n",
    "    print(working_df_grouped)"
   ]
  }
 ],
 "metadata": {
  "kernelspec": {
   "display_name": "Python 3",
   "language": "python",
   "name": "python3"
  },
  "language_info": {
   "codemirror_mode": {
    "name": "ipython",
    "version": 3
   },
   "file_extension": ".py",
   "mimetype": "text/x-python",
   "name": "python",
   "nbconvert_exporter": "python",
   "pygments_lexer": "ipython3",
   "version": "3.8.5"
  }
 },
 "nbformat": 4,
 "nbformat_minor": 4
}
