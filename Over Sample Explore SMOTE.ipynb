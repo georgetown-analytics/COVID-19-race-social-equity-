{
 "cells": [
  {
   "cell_type": "code",
   "execution_count": 1,
   "metadata": {},
   "outputs": [],
   "source": [
    "import pandas as pd\n",
    "import numpy as np\n",
    "import matplotlib.pyplot as plt\n",
    "from matplotlib.ticker import FormatStrFormatter\n",
    "import matplotlib as mpl\n",
    "import matplotlib.ticker as plticker\n",
    "import math\n",
    "from sklearn.model_selection import train_test_split\n",
    "#classifer is more appropriate for binary outout (RandomForestRegressor gives a range)\n",
    "#one hot encoding will convert column strings to binaries\n",
    "#make dummies pandas is a function that will do one hot encoding\n",
    "from sklearn.ensemble import RandomForestClassifier\n",
    "from sklearn.neighbors import RadiusNeighborsClassifier\n",
    "from sklearn.ensemble import AdaBoostClassifier\n",
    "from yellowbrick.classifier import classification_report"
   ]
  },
  {
   "cell_type": "code",
   "execution_count": 2,
   "metadata": {},
   "outputs": [
    {
     "data": {
      "text/html": [
       "<div>\n",
       "<style scoped>\n",
       "    .dataframe tbody tr th:only-of-type {\n",
       "        vertical-align: middle;\n",
       "    }\n",
       "\n",
       "    .dataframe tbody tr th {\n",
       "        vertical-align: top;\n",
       "    }\n",
       "\n",
       "    .dataframe thead th {\n",
       "        text-align: right;\n",
       "    }\n",
       "</style>\n",
       "<table border=\"1\" class=\"dataframe\">\n",
       "  <thead>\n",
       "    <tr style=\"text-align: right;\">\n",
       "      <th></th>\n",
       "      <th>race_ethnicity_combined</th>\n",
       "      <th>current_status</th>\n",
       "      <th>cdc_report_dt</th>\n",
       "      <th>sex</th>\n",
       "      <th>onset_dt</th>\n",
       "      <th>pos_spec_dt</th>\n",
       "      <th>hosp_yn</th>\n",
       "      <th>icu_yn</th>\n",
       "      <th>death_yn</th>\n",
       "      <th>hc_work_yn</th>\n",
       "      <th>...</th>\n",
       "      <th>sob_yn</th>\n",
       "      <th>nauseavomit_yn</th>\n",
       "      <th>headache_yn</th>\n",
       "      <th>abdom_yn</th>\n",
       "      <th>diarrhea_yn</th>\n",
       "      <th>medcond_yn</th>\n",
       "      <th>county_fips_code</th>\n",
       "      <th>res_county</th>\n",
       "      <th>res_state</th>\n",
       "      <th>age_group</th>\n",
       "    </tr>\n",
       "  </thead>\n",
       "  <tbody>\n",
       "    <tr>\n",
       "      <th>0</th>\n",
       "      <td>Unknown</td>\n",
       "      <td>Laboratory-confirmed case</td>\n",
       "      <td>2020-09-15</td>\n",
       "      <td>Female</td>\n",
       "      <td>NaN</td>\n",
       "      <td>NaN</td>\n",
       "      <td>Missing</td>\n",
       "      <td>Missing</td>\n",
       "      <td>Missing</td>\n",
       "      <td>Missing</td>\n",
       "      <td>...</td>\n",
       "      <td>Missing</td>\n",
       "      <td>Missing</td>\n",
       "      <td>Missing</td>\n",
       "      <td>Missing</td>\n",
       "      <td>Missing</td>\n",
       "      <td>Missing</td>\n",
       "      <td>72005.0</td>\n",
       "      <td>AGUADILLA</td>\n",
       "      <td>PR</td>\n",
       "      <td>30 - 39 Years</td>\n",
       "    </tr>\n",
       "    <tr>\n",
       "      <th>1</th>\n",
       "      <td>Unknown</td>\n",
       "      <td>Laboratory-confirmed case</td>\n",
       "      <td>2020-09-27</td>\n",
       "      <td>Female</td>\n",
       "      <td>NaN</td>\n",
       "      <td>NaN</td>\n",
       "      <td>Missing</td>\n",
       "      <td>Missing</td>\n",
       "      <td>Missing</td>\n",
       "      <td>Missing</td>\n",
       "      <td>...</td>\n",
       "      <td>Missing</td>\n",
       "      <td>Missing</td>\n",
       "      <td>Missing</td>\n",
       "      <td>Missing</td>\n",
       "      <td>Missing</td>\n",
       "      <td>Missing</td>\n",
       "      <td>72005.0</td>\n",
       "      <td>AGUADILLA</td>\n",
       "      <td>PR</td>\n",
       "      <td>30 - 39 Years</td>\n",
       "    </tr>\n",
       "    <tr>\n",
       "      <th>2</th>\n",
       "      <td>Unknown</td>\n",
       "      <td>Laboratory-confirmed case</td>\n",
       "      <td>2020-09-13</td>\n",
       "      <td>Female</td>\n",
       "      <td>NaN</td>\n",
       "      <td>NaN</td>\n",
       "      <td>Missing</td>\n",
       "      <td>Missing</td>\n",
       "      <td>Missing</td>\n",
       "      <td>Missing</td>\n",
       "      <td>...</td>\n",
       "      <td>Missing</td>\n",
       "      <td>Missing</td>\n",
       "      <td>Missing</td>\n",
       "      <td>Missing</td>\n",
       "      <td>Missing</td>\n",
       "      <td>Missing</td>\n",
       "      <td>72005.0</td>\n",
       "      <td>AGUADILLA</td>\n",
       "      <td>PR</td>\n",
       "      <td>30 - 39 Years</td>\n",
       "    </tr>\n",
       "    <tr>\n",
       "      <th>3</th>\n",
       "      <td>Unknown</td>\n",
       "      <td>Laboratory-confirmed case</td>\n",
       "      <td>2020-07-31</td>\n",
       "      <td>Female</td>\n",
       "      <td>NaN</td>\n",
       "      <td>NaN</td>\n",
       "      <td>Missing</td>\n",
       "      <td>Missing</td>\n",
       "      <td>Missing</td>\n",
       "      <td>Missing</td>\n",
       "      <td>...</td>\n",
       "      <td>Missing</td>\n",
       "      <td>Missing</td>\n",
       "      <td>Missing</td>\n",
       "      <td>Missing</td>\n",
       "      <td>Missing</td>\n",
       "      <td>Missing</td>\n",
       "      <td>72005.0</td>\n",
       "      <td>AGUADILLA</td>\n",
       "      <td>PR</td>\n",
       "      <td>30 - 39 Years</td>\n",
       "    </tr>\n",
       "    <tr>\n",
       "      <th>4</th>\n",
       "      <td>Unknown</td>\n",
       "      <td>Laboratory-confirmed case</td>\n",
       "      <td>2020-10-01</td>\n",
       "      <td>Female</td>\n",
       "      <td>NaN</td>\n",
       "      <td>NaN</td>\n",
       "      <td>Missing</td>\n",
       "      <td>Missing</td>\n",
       "      <td>Missing</td>\n",
       "      <td>Missing</td>\n",
       "      <td>...</td>\n",
       "      <td>Missing</td>\n",
       "      <td>Missing</td>\n",
       "      <td>Missing</td>\n",
       "      <td>Missing</td>\n",
       "      <td>Missing</td>\n",
       "      <td>Missing</td>\n",
       "      <td>72005.0</td>\n",
       "      <td>AGUADILLA</td>\n",
       "      <td>PR</td>\n",
       "      <td>30 - 39 Years</td>\n",
       "    </tr>\n",
       "  </tbody>\n",
       "</table>\n",
       "<p>5 rows × 31 columns</p>\n",
       "</div>"
      ],
      "text/plain": [
       "  race_ethnicity_combined             current_status cdc_report_dt     sex  \\\n",
       "0                 Unknown  Laboratory-confirmed case    2020-09-15  Female   \n",
       "1                 Unknown  Laboratory-confirmed case    2020-09-27  Female   \n",
       "2                 Unknown  Laboratory-confirmed case    2020-09-13  Female   \n",
       "3                 Unknown  Laboratory-confirmed case    2020-07-31  Female   \n",
       "4                 Unknown  Laboratory-confirmed case    2020-10-01  Female   \n",
       "\n",
       "  onset_dt pos_spec_dt  hosp_yn   icu_yn death_yn hc_work_yn  ...   sob_yn  \\\n",
       "0      NaN         NaN  Missing  Missing  Missing    Missing  ...  Missing   \n",
       "1      NaN         NaN  Missing  Missing  Missing    Missing  ...  Missing   \n",
       "2      NaN         NaN  Missing  Missing  Missing    Missing  ...  Missing   \n",
       "3      NaN         NaN  Missing  Missing  Missing    Missing  ...  Missing   \n",
       "4      NaN         NaN  Missing  Missing  Missing    Missing  ...  Missing   \n",
       "\n",
       "  nauseavomit_yn headache_yn abdom_yn diarrhea_yn medcond_yn county_fips_code  \\\n",
       "0        Missing     Missing  Missing     Missing    Missing          72005.0   \n",
       "1        Missing     Missing  Missing     Missing    Missing          72005.0   \n",
       "2        Missing     Missing  Missing     Missing    Missing          72005.0   \n",
       "3        Missing     Missing  Missing     Missing    Missing          72005.0   \n",
       "4        Missing     Missing  Missing     Missing    Missing          72005.0   \n",
       "\n",
       "  res_county res_state      age_group  \n",
       "0  AGUADILLA        PR  30 - 39 Years  \n",
       "1  AGUADILLA        PR  30 - 39 Years  \n",
       "2  AGUADILLA        PR  30 - 39 Years  \n",
       "3  AGUADILLA        PR  30 - 39 Years  \n",
       "4  AGUADILLA        PR  30 - 39 Years  \n",
       "\n",
       "[5 rows x 31 columns]"
      ]
     },
     "execution_count": 2,
     "metadata": {},
     "output_type": "execute_result"
    }
   ],
   "source": [
    "df_dec = pd.read_csv('COVID_Cases_Restricted_Detailed_12042020.csv')\n",
    "df_dec.head()"
   ]
  },
  {
   "cell_type": "code",
   "execution_count": 3,
   "metadata": {},
   "outputs": [
    {
     "data": {
      "text/html": [
       "<div>\n",
       "<style scoped>\n",
       "    .dataframe tbody tr th:only-of-type {\n",
       "        vertical-align: middle;\n",
       "    }\n",
       "\n",
       "    .dataframe tbody tr th {\n",
       "        vertical-align: top;\n",
       "    }\n",
       "\n",
       "    .dataframe thead th {\n",
       "        text-align: right;\n",
       "    }\n",
       "</style>\n",
       "<table border=\"1\" class=\"dataframe\">\n",
       "  <thead>\n",
       "    <tr style=\"text-align: right;\">\n",
       "      <th></th>\n",
       "      <th>race_ethnicity_combined</th>\n",
       "      <th>current_status</th>\n",
       "      <th>cdc_report_dt</th>\n",
       "      <th>sex</th>\n",
       "      <th>onset_dt</th>\n",
       "      <th>pos_spec_dt</th>\n",
       "      <th>hosp_yn</th>\n",
       "      <th>icu_yn</th>\n",
       "      <th>death_yn</th>\n",
       "      <th>hc_work_yn</th>\n",
       "      <th>...</th>\n",
       "      <th>sob_yn</th>\n",
       "      <th>nauseavomit_yn</th>\n",
       "      <th>headache_yn</th>\n",
       "      <th>abdom_yn</th>\n",
       "      <th>diarrhea_yn</th>\n",
       "      <th>medcond_yn</th>\n",
       "      <th>county_fips_code</th>\n",
       "      <th>res_county</th>\n",
       "      <th>res_state</th>\n",
       "      <th>age_group</th>\n",
       "    </tr>\n",
       "  </thead>\n",
       "  <tbody>\n",
       "    <tr>\n",
       "      <th>7</th>\n",
       "      <td>NaN</td>\n",
       "      <td>Laboratory-confirmed case</td>\n",
       "      <td>2020-08-17</td>\n",
       "      <td>NaN</td>\n",
       "      <td>2020-07-25</td>\n",
       "      <td>2020-07-27</td>\n",
       "      <td>Yes</td>\n",
       "      <td>Yes</td>\n",
       "      <td>No</td>\n",
       "      <td>NaN</td>\n",
       "      <td>...</td>\n",
       "      <td>Missing</td>\n",
       "      <td>Yes</td>\n",
       "      <td>Yes</td>\n",
       "      <td>Missing</td>\n",
       "      <td>Yes</td>\n",
       "      <td>Yes</td>\n",
       "      <td>72005.0</td>\n",
       "      <td>AGUADILLA</td>\n",
       "      <td>PR</td>\n",
       "      <td>50 - 59 Years</td>\n",
       "    </tr>\n",
       "    <tr>\n",
       "      <th>49</th>\n",
       "      <td>Unknown</td>\n",
       "      <td>Laboratory-confirmed case</td>\n",
       "      <td>2020-11-10</td>\n",
       "      <td>Female</td>\n",
       "      <td>NaN</td>\n",
       "      <td>2020-11-01</td>\n",
       "      <td>Missing</td>\n",
       "      <td>Missing</td>\n",
       "      <td>Yes</td>\n",
       "      <td>Missing</td>\n",
       "      <td>...</td>\n",
       "      <td>Missing</td>\n",
       "      <td>Missing</td>\n",
       "      <td>Missing</td>\n",
       "      <td>Missing</td>\n",
       "      <td>Missing</td>\n",
       "      <td>Missing</td>\n",
       "      <td>39007.0</td>\n",
       "      <td>ASHTABULA</td>\n",
       "      <td>OH</td>\n",
       "      <td>80+ Years</td>\n",
       "    </tr>\n",
       "    <tr>\n",
       "      <th>55</th>\n",
       "      <td>Unknown</td>\n",
       "      <td>Laboratory-confirmed case</td>\n",
       "      <td>2020-05-11</td>\n",
       "      <td>Female</td>\n",
       "      <td>NaN</td>\n",
       "      <td>NaN</td>\n",
       "      <td>No</td>\n",
       "      <td>No</td>\n",
       "      <td>No</td>\n",
       "      <td>Missing</td>\n",
       "      <td>...</td>\n",
       "      <td>Missing</td>\n",
       "      <td>Missing</td>\n",
       "      <td>Missing</td>\n",
       "      <td>Missing</td>\n",
       "      <td>Missing</td>\n",
       "      <td>Yes</td>\n",
       "      <td>39007.0</td>\n",
       "      <td>ASHTABULA</td>\n",
       "      <td>OH</td>\n",
       "      <td>80+ Years</td>\n",
       "    </tr>\n",
       "    <tr>\n",
       "      <th>56</th>\n",
       "      <td>Unknown</td>\n",
       "      <td>Laboratory-confirmed case</td>\n",
       "      <td>2020-05-11</td>\n",
       "      <td>Female</td>\n",
       "      <td>NaN</td>\n",
       "      <td>NaN</td>\n",
       "      <td>No</td>\n",
       "      <td>No</td>\n",
       "      <td>No</td>\n",
       "      <td>Missing</td>\n",
       "      <td>...</td>\n",
       "      <td>Missing</td>\n",
       "      <td>Yes</td>\n",
       "      <td>Missing</td>\n",
       "      <td>Missing</td>\n",
       "      <td>Missing</td>\n",
       "      <td>Yes</td>\n",
       "      <td>39007.0</td>\n",
       "      <td>ASHTABULA</td>\n",
       "      <td>OH</td>\n",
       "      <td>80+ Years</td>\n",
       "    </tr>\n",
       "    <tr>\n",
       "      <th>58</th>\n",
       "      <td>Unknown</td>\n",
       "      <td>Laboratory-confirmed case</td>\n",
       "      <td>2020-05-11</td>\n",
       "      <td>Female</td>\n",
       "      <td>NaN</td>\n",
       "      <td>NaN</td>\n",
       "      <td>No</td>\n",
       "      <td>No</td>\n",
       "      <td>No</td>\n",
       "      <td>Missing</td>\n",
       "      <td>...</td>\n",
       "      <td>Missing</td>\n",
       "      <td>Missing</td>\n",
       "      <td>Missing</td>\n",
       "      <td>Missing</td>\n",
       "      <td>Missing</td>\n",
       "      <td>Yes</td>\n",
       "      <td>39007.0</td>\n",
       "      <td>ASHTABULA</td>\n",
       "      <td>OH</td>\n",
       "      <td>80+ Years</td>\n",
       "    </tr>\n",
       "  </tbody>\n",
       "</table>\n",
       "<p>5 rows × 31 columns</p>\n",
       "</div>"
      ],
      "text/plain": [
       "   race_ethnicity_combined             current_status cdc_report_dt     sex  \\\n",
       "7                      NaN  Laboratory-confirmed case    2020-08-17     NaN   \n",
       "49                 Unknown  Laboratory-confirmed case    2020-11-10  Female   \n",
       "55                 Unknown  Laboratory-confirmed case    2020-05-11  Female   \n",
       "56                 Unknown  Laboratory-confirmed case    2020-05-11  Female   \n",
       "58                 Unknown  Laboratory-confirmed case    2020-05-11  Female   \n",
       "\n",
       "      onset_dt pos_spec_dt  hosp_yn   icu_yn death_yn hc_work_yn  ...  \\\n",
       "7   2020-07-25  2020-07-27      Yes      Yes       No        NaN  ...   \n",
       "49         NaN  2020-11-01  Missing  Missing      Yes    Missing  ...   \n",
       "55         NaN         NaN       No       No       No    Missing  ...   \n",
       "56         NaN         NaN       No       No       No    Missing  ...   \n",
       "58         NaN         NaN       No       No       No    Missing  ...   \n",
       "\n",
       "     sob_yn nauseavomit_yn headache_yn abdom_yn diarrhea_yn medcond_yn  \\\n",
       "7   Missing            Yes         Yes  Missing         Yes        Yes   \n",
       "49  Missing        Missing     Missing  Missing     Missing    Missing   \n",
       "55  Missing        Missing     Missing  Missing     Missing        Yes   \n",
       "56  Missing            Yes     Missing  Missing     Missing        Yes   \n",
       "58  Missing        Missing     Missing  Missing     Missing        Yes   \n",
       "\n",
       "   county_fips_code res_county res_state      age_group  \n",
       "7           72005.0  AGUADILLA        PR  50 - 59 Years  \n",
       "49          39007.0  ASHTABULA        OH      80+ Years  \n",
       "55          39007.0  ASHTABULA        OH      80+ Years  \n",
       "56          39007.0  ASHTABULA        OH      80+ Years  \n",
       "58          39007.0  ASHTABULA        OH      80+ Years  \n",
       "\n",
       "[5 rows x 31 columns]"
      ]
     },
     "execution_count": 3,
     "metadata": {},
     "output_type": "execute_result"
    }
   ],
   "source": [
    "death_df = df_dec.loc[(df_dec['death_yn'] == 'Yes') | (df_dec['death_yn'] == 'No')]\n",
    "death_df.head()"
   ]
  },
  {
   "cell_type": "code",
   "execution_count": 4,
   "metadata": {},
   "outputs": [
    {
     "data": {
      "text/html": [
       "<div>\n",
       "<style scoped>\n",
       "    .dataframe tbody tr th:only-of-type {\n",
       "        vertical-align: middle;\n",
       "    }\n",
       "\n",
       "    .dataframe tbody tr th {\n",
       "        vertical-align: top;\n",
       "    }\n",
       "\n",
       "    .dataframe thead th {\n",
       "        text-align: right;\n",
       "    }\n",
       "</style>\n",
       "<table border=\"1\" class=\"dataframe\">\n",
       "  <thead>\n",
       "    <tr style=\"text-align: right;\">\n",
       "      <th></th>\n",
       "      <th>race_ethnicity_combined</th>\n",
       "      <th>current_status</th>\n",
       "      <th>cdc_report_dt</th>\n",
       "      <th>sex</th>\n",
       "      <th>onset_dt</th>\n",
       "      <th>pos_spec_dt</th>\n",
       "      <th>hosp_yn</th>\n",
       "      <th>icu_yn</th>\n",
       "      <th>death_yn</th>\n",
       "      <th>hc_work_yn</th>\n",
       "      <th>...</th>\n",
       "      <th>sob_yn</th>\n",
       "      <th>nauseavomit_yn</th>\n",
       "      <th>headache_yn</th>\n",
       "      <th>abdom_yn</th>\n",
       "      <th>diarrhea_yn</th>\n",
       "      <th>medcond_yn</th>\n",
       "      <th>county_fips_code</th>\n",
       "      <th>res_county</th>\n",
       "      <th>res_state</th>\n",
       "      <th>age_group</th>\n",
       "    </tr>\n",
       "  </thead>\n",
       "  <tbody>\n",
       "    <tr>\n",
       "      <th>66</th>\n",
       "      <td>Black, Non-Hispanic</td>\n",
       "      <td>Laboratory-confirmed case</td>\n",
       "      <td>2020-09-24</td>\n",
       "      <td>Female</td>\n",
       "      <td>NaN</td>\n",
       "      <td>NaN</td>\n",
       "      <td>No</td>\n",
       "      <td>Missing</td>\n",
       "      <td>No</td>\n",
       "      <td>Missing</td>\n",
       "      <td>...</td>\n",
       "      <td>Missing</td>\n",
       "      <td>Missing</td>\n",
       "      <td>Missing</td>\n",
       "      <td>Missing</td>\n",
       "      <td>Missing</td>\n",
       "      <td>Missing</td>\n",
       "      <td>16001.0</td>\n",
       "      <td>Ada</td>\n",
       "      <td>ID</td>\n",
       "      <td>20 - 29 Years</td>\n",
       "    </tr>\n",
       "    <tr>\n",
       "      <th>67</th>\n",
       "      <td>Black, Non-Hispanic</td>\n",
       "      <td>Laboratory-confirmed case</td>\n",
       "      <td>2020-06-03</td>\n",
       "      <td>Female</td>\n",
       "      <td>2020-06-02</td>\n",
       "      <td>NaN</td>\n",
       "      <td>No</td>\n",
       "      <td>Missing</td>\n",
       "      <td>No</td>\n",
       "      <td>Missing</td>\n",
       "      <td>...</td>\n",
       "      <td>Missing</td>\n",
       "      <td>Missing</td>\n",
       "      <td>Missing</td>\n",
       "      <td>Missing</td>\n",
       "      <td>Missing</td>\n",
       "      <td>Missing</td>\n",
       "      <td>16001.0</td>\n",
       "      <td>Ada</td>\n",
       "      <td>ID</td>\n",
       "      <td>20 - 29 Years</td>\n",
       "    </tr>\n",
       "    <tr>\n",
       "      <th>68</th>\n",
       "      <td>Black, Non-Hispanic</td>\n",
       "      <td>Laboratory-confirmed case</td>\n",
       "      <td>2020-11-08</td>\n",
       "      <td>Female</td>\n",
       "      <td>NaN</td>\n",
       "      <td>NaN</td>\n",
       "      <td>No</td>\n",
       "      <td>Missing</td>\n",
       "      <td>No</td>\n",
       "      <td>Missing</td>\n",
       "      <td>...</td>\n",
       "      <td>Missing</td>\n",
       "      <td>Missing</td>\n",
       "      <td>Missing</td>\n",
       "      <td>Missing</td>\n",
       "      <td>Missing</td>\n",
       "      <td>Missing</td>\n",
       "      <td>16001.0</td>\n",
       "      <td>Ada</td>\n",
       "      <td>ID</td>\n",
       "      <td>20 - 29 Years</td>\n",
       "    </tr>\n",
       "    <tr>\n",
       "      <th>69</th>\n",
       "      <td>Black, Non-Hispanic</td>\n",
       "      <td>Laboratory-confirmed case</td>\n",
       "      <td>2020-09-09</td>\n",
       "      <td>Female</td>\n",
       "      <td>2020-09-08</td>\n",
       "      <td>NaN</td>\n",
       "      <td>No</td>\n",
       "      <td>Missing</td>\n",
       "      <td>No</td>\n",
       "      <td>Missing</td>\n",
       "      <td>...</td>\n",
       "      <td>Missing</td>\n",
       "      <td>Missing</td>\n",
       "      <td>Missing</td>\n",
       "      <td>Missing</td>\n",
       "      <td>Missing</td>\n",
       "      <td>Missing</td>\n",
       "      <td>16001.0</td>\n",
       "      <td>Ada</td>\n",
       "      <td>ID</td>\n",
       "      <td>20 - 29 Years</td>\n",
       "    </tr>\n",
       "    <tr>\n",
       "      <th>70</th>\n",
       "      <td>Black, Non-Hispanic</td>\n",
       "      <td>Laboratory-confirmed case</td>\n",
       "      <td>2020-07-13</td>\n",
       "      <td>Female</td>\n",
       "      <td>NaN</td>\n",
       "      <td>NaN</td>\n",
       "      <td>No</td>\n",
       "      <td>Missing</td>\n",
       "      <td>No</td>\n",
       "      <td>Missing</td>\n",
       "      <td>...</td>\n",
       "      <td>Missing</td>\n",
       "      <td>Missing</td>\n",
       "      <td>Missing</td>\n",
       "      <td>Missing</td>\n",
       "      <td>Missing</td>\n",
       "      <td>Missing</td>\n",
       "      <td>16001.0</td>\n",
       "      <td>Ada</td>\n",
       "      <td>ID</td>\n",
       "      <td>20 - 29 Years</td>\n",
       "    </tr>\n",
       "  </tbody>\n",
       "</table>\n",
       "<p>5 rows × 31 columns</p>\n",
       "</div>"
      ],
      "text/plain": [
       "   race_ethnicity_combined             current_status cdc_report_dt     sex  \\\n",
       "66     Black, Non-Hispanic  Laboratory-confirmed case    2020-09-24  Female   \n",
       "67     Black, Non-Hispanic  Laboratory-confirmed case    2020-06-03  Female   \n",
       "68     Black, Non-Hispanic  Laboratory-confirmed case    2020-11-08  Female   \n",
       "69     Black, Non-Hispanic  Laboratory-confirmed case    2020-09-09  Female   \n",
       "70     Black, Non-Hispanic  Laboratory-confirmed case    2020-07-13  Female   \n",
       "\n",
       "      onset_dt pos_spec_dt hosp_yn   icu_yn death_yn hc_work_yn  ...   sob_yn  \\\n",
       "66         NaN         NaN      No  Missing       No    Missing  ...  Missing   \n",
       "67  2020-06-02         NaN      No  Missing       No    Missing  ...  Missing   \n",
       "68         NaN         NaN      No  Missing       No    Missing  ...  Missing   \n",
       "69  2020-09-08         NaN      No  Missing       No    Missing  ...  Missing   \n",
       "70         NaN         NaN      No  Missing       No    Missing  ...  Missing   \n",
       "\n",
       "   nauseavomit_yn headache_yn abdom_yn diarrhea_yn medcond_yn  \\\n",
       "66        Missing     Missing  Missing     Missing    Missing   \n",
       "67        Missing     Missing  Missing     Missing    Missing   \n",
       "68        Missing     Missing  Missing     Missing    Missing   \n",
       "69        Missing     Missing  Missing     Missing    Missing   \n",
       "70        Missing     Missing  Missing     Missing    Missing   \n",
       "\n",
       "   county_fips_code res_county res_state      age_group  \n",
       "66          16001.0        Ada        ID  20 - 29 Years  \n",
       "67          16001.0        Ada        ID  20 - 29 Years  \n",
       "68          16001.0        Ada        ID  20 - 29 Years  \n",
       "69          16001.0        Ada        ID  20 - 29 Years  \n",
       "70          16001.0        Ada        ID  20 - 29 Years  \n",
       "\n",
       "[5 rows x 31 columns]"
      ]
     },
     "execution_count": 4,
     "metadata": {},
     "output_type": "execute_result"
    }
   ],
   "source": [
    "death_df_No_Unknowns = death_df.loc[(df_dec['race_ethnicity_combined'] != 'NaN') & (df_dec['race_ethnicity_combined'] != 'Unknown') & (df_dec['race_ethnicity_combined'] != 'Missing')& (df_dec['race_ethnicity_combined'].notna())]\n",
    "death_df_No_Unknowns.head()"
   ]
  },
  {
   "cell_type": "code",
   "execution_count": 5,
   "metadata": {},
   "outputs": [],
   "source": [
    "#combine unknown values (Nan or Unknown or missing race & other columns) into one column"
   ]
  },
  {
   "cell_type": "code",
   "execution_count": 6,
   "metadata": {},
   "outputs": [
    {
     "data": {
      "text/plain": [
       "No         1893563\n",
       "Yes         289359\n",
       "Missing     286030\n",
       "Unknown     145245\n",
       "Name: hosp_yn, dtype: int64"
      ]
     },
     "execution_count": 6,
     "metadata": {},
     "output_type": "execute_result"
    }
   ],
   "source": [
    "death_df_No_Unknowns['hosp_yn'].value_counts()"
   ]
  },
  {
   "cell_type": "code",
   "execution_count": 7,
   "metadata": {},
   "outputs": [],
   "source": [
    "death_df_clean = death_df"
   ]
  },
  {
   "cell_type": "code",
   "execution_count": 8,
   "metadata": {},
   "outputs": [
    {
     "data": {
      "text/plain": [
       "Index(['race_ethnicity_combined', 'current_status', 'cdc_report_dt', 'sex',\n",
       "       'onset_dt', 'pos_spec_dt', 'hosp_yn', 'icu_yn', 'death_yn',\n",
       "       'hc_work_yn', 'pna_yn', 'abxchest_yn', 'acuterespdistress_yn',\n",
       "       'mechvent_yn', 'fever_yn', 'sfever_yn', 'chills_yn', 'myalgia_yn',\n",
       "       'runnose_yn', 'sthroat_yn', 'cough_yn', 'sob_yn', 'nauseavomit_yn',\n",
       "       'headache_yn', 'abdom_yn', 'diarrhea_yn', 'medcond_yn',\n",
       "       'county_fips_code', 'res_county', 'res_state', 'age_group'],\n",
       "      dtype='object')"
      ]
     },
     "execution_count": 8,
     "metadata": {},
     "output_type": "execute_result"
    }
   ],
   "source": [
    "death_df_clean.columns"
   ]
  },
  {
   "cell_type": "code",
   "execution_count": 9,
   "metadata": {},
   "outputs": [
    {
     "data": {
      "text/plain": [
       "Female     2015378\n",
       "Male       1806169\n",
       "Unknown      10100\n",
       "Missing       3784\n",
       "Other            5\n",
       "Name: sex, dtype: int64"
      ]
     },
     "execution_count": 9,
     "metadata": {},
     "output_type": "execute_result"
    }
   ],
   "source": [
    "death_df_clean['sex'].value_counts()"
   ]
  },
  {
   "cell_type": "code",
   "execution_count": 10,
   "metadata": {},
   "outputs": [
    {
     "name": "stderr",
     "output_type": "stream",
     "text": [
      "C:\\ProgramData\\Anaconda3\\lib\\site-packages\\pandas\\core\\indexing.py:966: SettingWithCopyWarning: \n",
      "A value is trying to be set on a copy of a slice from a DataFrame.\n",
      "Try using .loc[row_indexer,col_indexer] = value instead\n",
      "\n",
      "See the caveats in the documentation: https://pandas.pydata.org/pandas-docs/stable/user_guide/indexing.html#returning-a-view-versus-a-copy\n",
      "  self.obj[item] = s\n",
      "C:\\ProgramData\\Anaconda3\\lib\\site-packages\\pandas\\core\\generic.py:6245: SettingWithCopyWarning: \n",
      "A value is trying to be set on a copy of a slice from a DataFrame\n",
      "\n",
      "See the caveats in the documentation: https://pandas.pydata.org/pandas-docs/stable/user_guide/indexing.html#returning-a-view-versus-a-copy\n",
      "  self._update_inplace(new_data)\n"
     ]
    },
    {
     "data": {
      "text/plain": [
       "Female       2015378\n",
       "Male         1806169\n",
       "undefined      52843\n",
       "Name: sex, dtype: int64"
      ]
     },
     "execution_count": 10,
     "metadata": {},
     "output_type": "execute_result"
    }
   ],
   "source": [
    "death_df_clean.loc[(death_df_clean['sex'] == 'Unknown') | (death_df_clean['sex'] == 'Missing') | (death_df_clean['sex'] == 'Other'),'sex'] = 'undefined'\n",
    "death_df_clean['sex'].fillna('undefined', inplace=True)\n",
    "death_df_clean['sex'].value_counts()"
   ]
  },
  {
   "cell_type": "code",
   "execution_count": 11,
   "metadata": {},
   "outputs": [],
   "source": [
    "death_df_clean_columns = death_df_clean.columns"
   ]
  },
  {
   "cell_type": "code",
   "execution_count": 12,
   "metadata": {},
   "outputs": [
    {
     "data": {
      "text/plain": [
       "No     3690813\n",
       "Yes     183577\n",
       "Name: death_yn, dtype: int64"
      ]
     },
     "execution_count": 12,
     "metadata": {},
     "output_type": "execute_result"
    }
   ],
   "source": [
    "death_df_clean['death_yn'].value_counts()"
   ]
  },
  {
   "cell_type": "code",
   "execution_count": 13,
   "metadata": {},
   "outputs": [
    {
     "data": {
      "text/plain": [
       "No           2696186\n",
       "undefined     796880\n",
       "Yes           381324\n",
       "Name: hosp_yn, dtype: int64"
      ]
     },
     "execution_count": 13,
     "metadata": {},
     "output_type": "execute_result"
    }
   ],
   "source": [
    "death_df_clean.loc[(death_df_clean['hosp_yn'] == 'Unknown') | (death_df_clean['hosp_yn'] == 'Missing') | (death_df_clean['hosp_yn'] == 'Other'),'hosp_yn'] = 'undefined'\n",
    "death_df_clean['hosp_yn'].fillna('undefined', inplace=True)\n",
    "death_df_clean['hosp_yn'].value_counts()"
   ]
  },
  {
   "cell_type": "code",
   "execution_count": 14,
   "metadata": {},
   "outputs": [
    {
     "data": {
      "text/plain": [
       "undefined    3141125\n",
       "No            686465\n",
       "Yes            46800\n",
       "Name: icu_yn, dtype: int64"
      ]
     },
     "execution_count": 14,
     "metadata": {},
     "output_type": "execute_result"
    }
   ],
   "source": [
    "death_df_clean.loc[(death_df_clean['icu_yn'] == 'Unknown') | (death_df_clean['icu_yn'] == 'Missing') | (death_df_clean['icu_yn'] == 'Other'),'icu_yn'] = 'undefined'\n",
    "death_df_clean['icu_yn'].fillna('undefined', inplace=True)\n",
    "death_df_clean['icu_yn'].value_counts()"
   ]
  },
  {
   "cell_type": "code",
   "execution_count": 15,
   "metadata": {},
   "outputs": [
    {
     "data": {
      "text/plain": [
       "undefined    2500290\n",
       "No           1234992\n",
       "Yes           139108\n",
       "Name: hc_work_yn, dtype: int64"
      ]
     },
     "execution_count": 15,
     "metadata": {},
     "output_type": "execute_result"
    }
   ],
   "source": [
    "death_df_clean.loc[(death_df_clean['hc_work_yn'] == 'Unknown') | (death_df_clean['hc_work_yn'] == 'Missing') | (death_df_clean['hc_work_yn'] == 'Other'),'hc_work_yn'] = 'undefined'\n",
    "death_df_clean['hc_work_yn'].fillna('undefined', inplace=True)\n",
    "death_df_clean['hc_work_yn'].value_counts()"
   ]
  },
  {
   "cell_type": "code",
   "execution_count": 16,
   "metadata": {},
   "outputs": [
    {
     "data": {
      "text/plain": [
       "undefined    3115831\n",
       "No            703102\n",
       "Yes            55457\n",
       "Name: pna_yn, dtype: int64"
      ]
     },
     "execution_count": 16,
     "metadata": {},
     "output_type": "execute_result"
    }
   ],
   "source": [
    "death_df_clean.loc[(death_df_clean['pna_yn'] == 'Unknown') | (death_df_clean['pna_yn'] == 'Missing') | (death_df_clean['pna_yn'] == 'Other'),'pna_yn'] = 'undefined'\n",
    "death_df_clean['pna_yn'].fillna('undefined', inplace=True)\n",
    "death_df_clean['pna_yn'].value_counts()"
   ]
  },
  {
   "cell_type": "code",
   "execution_count": 17,
   "metadata": {},
   "outputs": [
    {
     "data": {
      "text/plain": [
       "undefined    3524989\n",
       "No            313402\n",
       "Yes            35999\n",
       "Name: abxchest_yn, dtype: int64"
      ]
     },
     "execution_count": 17,
     "metadata": {},
     "output_type": "execute_result"
    }
   ],
   "source": [
    "death_df_clean.loc[(death_df_clean['abxchest_yn'] == 'Unknown') | (death_df_clean['abxchest_yn'] == 'Missing') | (death_df_clean['abxchest_yn'] == 'Other'),'abxchest_yn'] = 'undefined'\n",
    "death_df_clean['abxchest_yn'].fillna('undefined', inplace=True)\n",
    "death_df_clean['abxchest_yn'].value_counts()"
   ]
  },
  {
   "cell_type": "code",
   "execution_count": 18,
   "metadata": {},
   "outputs": [
    {
     "data": {
      "text/plain": [
       "undefined    3140873\n",
       "No            717748\n",
       "Yes            15769\n",
       "Name: acuterespdistress_yn, dtype: int64"
      ]
     },
     "execution_count": 18,
     "metadata": {},
     "output_type": "execute_result"
    }
   ],
   "source": [
    "death_df_clean.loc[(death_df_clean['acuterespdistress_yn'] == 'Unknown') | (death_df_clean['acuterespdistress_yn'] == 'Missing') | (death_df_clean['acuterespdistress_yn'] == 'Other'),'acuterespdistress_yn'] = 'undefined'\n",
    "death_df_clean['acuterespdistress_yn'].fillna('undefined', inplace=True)\n",
    "death_df_clean['acuterespdistress_yn'].value_counts()"
   ]
  },
  {
   "cell_type": "code",
   "execution_count": 19,
   "metadata": {},
   "outputs": [
    {
     "data": {
      "text/plain": [
       "undefined    3246216\n",
       "No            605825\n",
       "Yes            22349\n",
       "Name: mechvent_yn, dtype: int64"
      ]
     },
     "execution_count": 19,
     "metadata": {},
     "output_type": "execute_result"
    }
   ],
   "source": [
    "death_df_clean.loc[(death_df_clean['mechvent_yn'] == 'Unknown') | (death_df_clean['mechvent_yn'] == 'Missing') | (death_df_clean['mechvent_yn'] == 'Other'),'mechvent_yn'] = 'undefined'\n",
    "death_df_clean['mechvent_yn'].fillna('undefined', inplace=True)\n",
    "death_df_clean['mechvent_yn'].value_counts()"
   ]
  },
  {
   "cell_type": "code",
   "execution_count": 20,
   "metadata": {},
   "outputs": [
    {
     "data": {
      "text/plain": [
       "undefined    3066253\n",
       "No            476984\n",
       "Yes           331153\n",
       "Name: fever_yn, dtype: int64"
      ]
     },
     "execution_count": 20,
     "metadata": {},
     "output_type": "execute_result"
    }
   ],
   "source": [
    "death_df_clean.loc[(death_df_clean['fever_yn'] == 'Unknown') | (death_df_clean['fever_yn'] == 'Missing') | (death_df_clean['fever_yn'] == 'Other'),'fever_yn'] = 'undefined'\n",
    "death_df_clean['fever_yn'].fillna('undefined', inplace=True)\n",
    "death_df_clean['fever_yn'].value_counts()"
   ]
  },
  {
   "cell_type": "code",
   "execution_count": 21,
   "metadata": {},
   "outputs": [
    {
     "data": {
      "text/plain": [
       "undefined    3109619\n",
       "No            467469\n",
       "Yes           297302\n",
       "Name: sfever_yn, dtype: int64"
      ]
     },
     "execution_count": 21,
     "metadata": {},
     "output_type": "execute_result"
    }
   ],
   "source": [
    "death_df_clean.loc[(death_df_clean['sfever_yn'] == 'Unknown') | (death_df_clean['sfever_yn'] == 'Missing') | (death_df_clean['sfever_yn'] == 'Other'),'sfever_yn'] = 'undefined'\n",
    "death_df_clean['sfever_yn'].fillna('undefined', inplace=True)\n",
    "death_df_clean['sfever_yn'].value_counts()"
   ]
  },
  {
   "cell_type": "code",
   "execution_count": 22,
   "metadata": {},
   "outputs": [
    {
     "data": {
      "text/plain": [
       "undefined    2977107\n",
       "No            551359\n",
       "Yes           345924\n",
       "Name: chills_yn, dtype: int64"
      ]
     },
     "execution_count": 22,
     "metadata": {},
     "output_type": "execute_result"
    }
   ],
   "source": [
    "death_df_clean.loc[(death_df_clean['chills_yn'] == 'Unknown') | (death_df_clean['chills_yn'] == 'Missing') | (death_df_clean['chills_yn'] == 'Other'),'chills_yn'] = 'undefined'\n",
    "death_df_clean['chills_yn'].fillna('undefined', inplace=True)\n",
    "death_df_clean['chills_yn'].value_counts()"
   ]
  },
  {
   "cell_type": "code",
   "execution_count": 23,
   "metadata": {},
   "outputs": [
    {
     "data": {
      "text/plain": [
       "undefined    2929322\n",
       "Yes           484327\n",
       "No            460741\n",
       "Name: myalgia_yn, dtype: int64"
      ]
     },
     "execution_count": 23,
     "metadata": {},
     "output_type": "execute_result"
    }
   ],
   "source": [
    "death_df_clean.loc[(death_df_clean['myalgia_yn'] == 'Unknown') | (death_df_clean['myalgia_yn'] == 'Missing') | (death_df_clean['myalgia_yn'] == 'Other'),'myalgia_yn'] = 'undefined'\n",
    "death_df_clean['myalgia_yn'].fillna('undefined', inplace=True)\n",
    "death_df_clean['myalgia_yn'].value_counts()"
   ]
  },
  {
   "cell_type": "code",
   "execution_count": 24,
   "metadata": {},
   "outputs": [
    {
     "data": {
      "text/plain": [
       "undefined    3367502\n",
       "No            311490\n",
       "Yes           195398\n",
       "Name: runnose_yn, dtype: int64"
      ]
     },
     "execution_count": 24,
     "metadata": {},
     "output_type": "execute_result"
    }
   ],
   "source": [
    "death_df_clean.loc[(death_df_clean['runnose_yn'] == 'Unknown') | (death_df_clean['runnose_yn'] == 'Missing') | (death_df_clean['runnose_yn'] == 'Other'),'runnose_yn'] = 'undefined'\n",
    "death_df_clean['runnose_yn'].fillna('undefined', inplace=True)\n",
    "death_df_clean['runnose_yn'].value_counts()"
   ]
  },
  {
   "cell_type": "code",
   "execution_count": 25,
   "metadata": {},
   "outputs": [
    {
     "data": {
      "text/plain": [
       "undefined    2965309\n",
       "No            593270\n",
       "Yes           315811\n",
       "Name: sthroat_yn, dtype: int64"
      ]
     },
     "execution_count": 25,
     "metadata": {},
     "output_type": "execute_result"
    }
   ],
   "source": [
    "death_df_clean.loc[(death_df_clean['sthroat_yn'] == 'Unknown') | (death_df_clean['sthroat_yn'] == 'Missing') | (death_df_clean['sthroat_yn'] == 'Other'),'sthroat_yn'] = 'undefined'\n",
    "death_df_clean['sthroat_yn'].fillna('undefined', inplace=True)\n",
    "death_df_clean['sthroat_yn'].value_counts()"
   ]
  },
  {
   "cell_type": "code",
   "execution_count": 26,
   "metadata": {},
   "outputs": [
    {
     "data": {
      "text/plain": [
       "undefined    2883187\n",
       "Yes           596691\n",
       "No            394512\n",
       "Name: cough_yn, dtype: int64"
      ]
     },
     "execution_count": 26,
     "metadata": {},
     "output_type": "execute_result"
    }
   ],
   "source": [
    "death_df_clean.loc[(death_df_clean['cough_yn'] == 'Unknown') | (death_df_clean['cough_yn'] == 'Missing') | (death_df_clean['cough_yn'] == 'Other'),'cough_yn'] = 'undefined'\n",
    "death_df_clean['cough_yn'].fillna('undefined', inplace=True)\n",
    "death_df_clean['cough_yn'].value_counts()"
   ]
  },
  {
   "cell_type": "code",
   "execution_count": 27,
   "metadata": {},
   "outputs": [
    {
     "data": {
      "text/plain": [
       "undefined    2951764\n",
       "No            659385\n",
       "Yes           263241\n",
       "Name: sob_yn, dtype: int64"
      ]
     },
     "execution_count": 27,
     "metadata": {},
     "output_type": "execute_result"
    }
   ],
   "source": [
    "death_df_clean.loc[(death_df_clean['sob_yn'] == 'Unknown') | (death_df_clean['sob_yn'] == 'Missing') | (death_df_clean['sob_yn'] == 'Other'),'sob_yn'] = 'undefined'\n",
    "death_df_clean['sob_yn'].fillna('undefined', inplace=True)\n",
    "death_df_clean['sob_yn'].value_counts()"
   ]
  },
  {
   "cell_type": "code",
   "execution_count": 28,
   "metadata": {},
   "outputs": [
    {
     "data": {
      "text/plain": [
       "undefined    2967746\n",
       "No            752022\n",
       "Yes           154622\n",
       "Name: nauseavomit_yn, dtype: int64"
      ]
     },
     "execution_count": 28,
     "metadata": {},
     "output_type": "execute_result"
    }
   ],
   "source": [
    "death_df_clean.loc[(death_df_clean['nauseavomit_yn'] == 'Unknown') | (death_df_clean['nauseavomit_yn'] == 'Missing') | (death_df_clean['nauseavomit_yn'] == 'Other'),'nauseavomit_yn'] = 'undefined'\n",
    "death_df_clean['nauseavomit_yn'].fillna('undefined', inplace=True)\n",
    "death_df_clean['nauseavomit_yn'].value_counts()"
   ]
  },
  {
   "cell_type": "code",
   "execution_count": 29,
   "metadata": {},
   "outputs": [
    {
     "data": {
      "text/plain": [
       "undefined    2922447\n",
       "Yes           532574\n",
       "No            419369\n",
       "Name: headache_yn, dtype: int64"
      ]
     },
     "execution_count": 29,
     "metadata": {},
     "output_type": "execute_result"
    }
   ],
   "source": [
    "death_df_clean.loc[(death_df_clean['headache_yn'] == 'Unknown') | (death_df_clean['headache_yn'] == 'Missing') | (death_df_clean['headache_yn'] == 'Other'),'headache_yn'] = 'undefined'\n",
    "death_df_clean['headache_yn'].fillna('undefined', inplace=True)\n",
    "death_df_clean['headache_yn'].value_counts()"
   ]
  },
  {
   "cell_type": "code",
   "execution_count": 30,
   "metadata": {},
   "outputs": [
    {
     "data": {
      "text/plain": [
       "undefined    3216782\n",
       "No            575846\n",
       "Yes            81762\n",
       "Name: abdom_yn, dtype: int64"
      ]
     },
     "execution_count": 30,
     "metadata": {},
     "output_type": "execute_result"
    }
   ],
   "source": [
    "death_df_clean.loc[(death_df_clean['abdom_yn'] == 'Unknown') | (death_df_clean['abdom_yn'] == 'Missing') | (death_df_clean['abdom_yn'] == 'Other'),'abdom_yn'] = 'undefined'\n",
    "death_df_clean['abdom_yn'].fillna('undefined', inplace=True)\n",
    "death_df_clean['abdom_yn'].value_counts()"
   ]
  },
  {
   "cell_type": "code",
   "execution_count": 31,
   "metadata": {},
   "outputs": [
    {
     "data": {
      "text/plain": [
       "undefined    2971446\n",
       "No            659523\n",
       "Yes           243421\n",
       "Name: diarrhea_yn, dtype: int64"
      ]
     },
     "execution_count": 31,
     "metadata": {},
     "output_type": "execute_result"
    }
   ],
   "source": [
    "death_df_clean.loc[(death_df_clean['diarrhea_yn'] == 'Unknown') | (death_df_clean['diarrhea_yn'] == 'Missing') | (death_df_clean['diarrhea_yn'] == 'Other'),'diarrhea_yn'] = 'undefined'\n",
    "death_df_clean['diarrhea_yn'].fillna('undefined', inplace=True)\n",
    "death_df_clean['diarrhea_yn'].value_counts()"
   ]
  },
  {
   "cell_type": "code",
   "execution_count": 32,
   "metadata": {},
   "outputs": [
    {
     "data": {
      "text/plain": [
       "undefined    2749014\n",
       "No            565623\n",
       "Yes           559753\n",
       "Name: medcond_yn, dtype: int64"
      ]
     },
     "execution_count": 32,
     "metadata": {},
     "output_type": "execute_result"
    }
   ],
   "source": [
    "death_df_clean.loc[(death_df_clean['medcond_yn'] == 'Unknown') | (death_df_clean['medcond_yn'] == 'Missing') | (death_df_clean['medcond_yn'] == 'Other'),'medcond_yn'] = 'undefined'\n",
    "death_df_clean['medcond_yn'].fillna('undefined', inplace=True)\n",
    "death_df_clean['medcond_yn'].value_counts()"
   ]
  },
  {
   "cell_type": "code",
   "execution_count": 33,
   "metadata": {},
   "outputs": [
    {
     "data": {
      "text/plain": [
       "20 - 29 Years    726624\n",
       "30 - 39 Years    614933\n",
       "40 - 49 Years    571290\n",
       "50 - 59 Years    553352\n",
       "60 - 69 Years    399616\n",
       "10 - 19 Years    391678\n",
       "70 - 79 Years    239628\n",
       "80+ Years        209028\n",
       "0 - 9 Years      144751\n",
       "undefined         23490\n",
       "Name: age_group, dtype: int64"
      ]
     },
     "execution_count": 33,
     "metadata": {},
     "output_type": "execute_result"
    }
   ],
   "source": [
    "death_df_clean.loc[(death_df_clean['age_group'] == 'Unknown') | (death_df_clean['age_group'] == 'Missing') | (death_df_clean['age_group'] == 'Other'),'age_group'] = 'undefined'\n",
    "death_df_clean['age_group'].fillna('undefined', inplace=True)\n",
    "death_df_clean['age_group'].value_counts()"
   ]
  },
  {
   "cell_type": "code",
   "execution_count": 34,
   "metadata": {},
   "outputs": [
    {
     "data": {
      "text/html": [
       "<div>\n",
       "<style scoped>\n",
       "    .dataframe tbody tr th:only-of-type {\n",
       "        vertical-align: middle;\n",
       "    }\n",
       "\n",
       "    .dataframe tbody tr th {\n",
       "        vertical-align: top;\n",
       "    }\n",
       "\n",
       "    .dataframe thead th {\n",
       "        text-align: right;\n",
       "    }\n",
       "</style>\n",
       "<table border=\"1\" class=\"dataframe\">\n",
       "  <thead>\n",
       "    <tr style=\"text-align: right;\">\n",
       "      <th></th>\n",
       "      <th>death_yn_No</th>\n",
       "      <th>death_yn_Yes</th>\n",
       "      <th>race_ethnicity_combined_American Indian/Alaska Native, Non-Hispanic</th>\n",
       "      <th>race_ethnicity_combined_Asian, Non-Hispanic</th>\n",
       "      <th>race_ethnicity_combined_Black, Non-Hispanic</th>\n",
       "      <th>race_ethnicity_combined_Hispanic/Latino</th>\n",
       "      <th>race_ethnicity_combined_Missing</th>\n",
       "      <th>race_ethnicity_combined_Multiple/Other, Non-Hispanic</th>\n",
       "      <th>race_ethnicity_combined_Native Hawaiian/Other Pacific Islander, Non-Hispanic</th>\n",
       "      <th>race_ethnicity_combined_Unknown</th>\n",
       "      <th>...</th>\n",
       "      <th>headache_yn_undefined</th>\n",
       "      <th>abdom_yn_No</th>\n",
       "      <th>abdom_yn_Yes</th>\n",
       "      <th>abdom_yn_undefined</th>\n",
       "      <th>diarrhea_yn_No</th>\n",
       "      <th>diarrhea_yn_Yes</th>\n",
       "      <th>diarrhea_yn_undefined</th>\n",
       "      <th>medcond_yn_No</th>\n",
       "      <th>medcond_yn_Yes</th>\n",
       "      <th>medcond_yn_undefined</th>\n",
       "    </tr>\n",
       "  </thead>\n",
       "  <tbody>\n",
       "    <tr>\n",
       "      <th>7</th>\n",
       "      <td>1</td>\n",
       "      <td>0</td>\n",
       "      <td>0</td>\n",
       "      <td>0</td>\n",
       "      <td>0</td>\n",
       "      <td>0</td>\n",
       "      <td>0</td>\n",
       "      <td>0</td>\n",
       "      <td>0</td>\n",
       "      <td>0</td>\n",
       "      <td>...</td>\n",
       "      <td>0</td>\n",
       "      <td>0</td>\n",
       "      <td>0</td>\n",
       "      <td>1</td>\n",
       "      <td>0</td>\n",
       "      <td>1</td>\n",
       "      <td>0</td>\n",
       "      <td>0</td>\n",
       "      <td>1</td>\n",
       "      <td>0</td>\n",
       "    </tr>\n",
       "    <tr>\n",
       "      <th>49</th>\n",
       "      <td>0</td>\n",
       "      <td>1</td>\n",
       "      <td>0</td>\n",
       "      <td>0</td>\n",
       "      <td>0</td>\n",
       "      <td>0</td>\n",
       "      <td>0</td>\n",
       "      <td>0</td>\n",
       "      <td>0</td>\n",
       "      <td>1</td>\n",
       "      <td>...</td>\n",
       "      <td>1</td>\n",
       "      <td>0</td>\n",
       "      <td>0</td>\n",
       "      <td>1</td>\n",
       "      <td>0</td>\n",
       "      <td>0</td>\n",
       "      <td>1</td>\n",
       "      <td>0</td>\n",
       "      <td>0</td>\n",
       "      <td>1</td>\n",
       "    </tr>\n",
       "    <tr>\n",
       "      <th>55</th>\n",
       "      <td>1</td>\n",
       "      <td>0</td>\n",
       "      <td>0</td>\n",
       "      <td>0</td>\n",
       "      <td>0</td>\n",
       "      <td>0</td>\n",
       "      <td>0</td>\n",
       "      <td>0</td>\n",
       "      <td>0</td>\n",
       "      <td>1</td>\n",
       "      <td>...</td>\n",
       "      <td>1</td>\n",
       "      <td>0</td>\n",
       "      <td>0</td>\n",
       "      <td>1</td>\n",
       "      <td>0</td>\n",
       "      <td>0</td>\n",
       "      <td>1</td>\n",
       "      <td>0</td>\n",
       "      <td>1</td>\n",
       "      <td>0</td>\n",
       "    </tr>\n",
       "    <tr>\n",
       "      <th>56</th>\n",
       "      <td>1</td>\n",
       "      <td>0</td>\n",
       "      <td>0</td>\n",
       "      <td>0</td>\n",
       "      <td>0</td>\n",
       "      <td>0</td>\n",
       "      <td>0</td>\n",
       "      <td>0</td>\n",
       "      <td>0</td>\n",
       "      <td>1</td>\n",
       "      <td>...</td>\n",
       "      <td>1</td>\n",
       "      <td>0</td>\n",
       "      <td>0</td>\n",
       "      <td>1</td>\n",
       "      <td>0</td>\n",
       "      <td>0</td>\n",
       "      <td>1</td>\n",
       "      <td>0</td>\n",
       "      <td>1</td>\n",
       "      <td>0</td>\n",
       "    </tr>\n",
       "    <tr>\n",
       "      <th>58</th>\n",
       "      <td>1</td>\n",
       "      <td>0</td>\n",
       "      <td>0</td>\n",
       "      <td>0</td>\n",
       "      <td>0</td>\n",
       "      <td>0</td>\n",
       "      <td>0</td>\n",
       "      <td>0</td>\n",
       "      <td>0</td>\n",
       "      <td>1</td>\n",
       "      <td>...</td>\n",
       "      <td>1</td>\n",
       "      <td>0</td>\n",
       "      <td>0</td>\n",
       "      <td>1</td>\n",
       "      <td>0</td>\n",
       "      <td>0</td>\n",
       "      <td>1</td>\n",
       "      <td>0</td>\n",
       "      <td>1</td>\n",
       "      <td>0</td>\n",
       "    </tr>\n",
       "  </tbody>\n",
       "</table>\n",
       "<p>5 rows × 84 columns</p>\n",
       "</div>"
      ],
      "text/plain": [
       "    death_yn_No  death_yn_Yes  \\\n",
       "7             1             0   \n",
       "49            0             1   \n",
       "55            1             0   \n",
       "56            1             0   \n",
       "58            1             0   \n",
       "\n",
       "    race_ethnicity_combined_American Indian/Alaska Native, Non-Hispanic  \\\n",
       "7                                                   0                     \n",
       "49                                                  0                     \n",
       "55                                                  0                     \n",
       "56                                                  0                     \n",
       "58                                                  0                     \n",
       "\n",
       "    race_ethnicity_combined_Asian, Non-Hispanic  \\\n",
       "7                                             0   \n",
       "49                                            0   \n",
       "55                                            0   \n",
       "56                                            0   \n",
       "58                                            0   \n",
       "\n",
       "    race_ethnicity_combined_Black, Non-Hispanic  \\\n",
       "7                                             0   \n",
       "49                                            0   \n",
       "55                                            0   \n",
       "56                                            0   \n",
       "58                                            0   \n",
       "\n",
       "    race_ethnicity_combined_Hispanic/Latino  race_ethnicity_combined_Missing  \\\n",
       "7                                         0                                0   \n",
       "49                                        0                                0   \n",
       "55                                        0                                0   \n",
       "56                                        0                                0   \n",
       "58                                        0                                0   \n",
       "\n",
       "    race_ethnicity_combined_Multiple/Other, Non-Hispanic   \\\n",
       "7                                                   0       \n",
       "49                                                  0       \n",
       "55                                                  0       \n",
       "56                                                  0       \n",
       "58                                                  0       \n",
       "\n",
       "    race_ethnicity_combined_Native Hawaiian/Other Pacific Islander, Non-Hispanic  \\\n",
       "7                                                   0                              \n",
       "49                                                  0                              \n",
       "55                                                  0                              \n",
       "56                                                  0                              \n",
       "58                                                  0                              \n",
       "\n",
       "    race_ethnicity_combined_Unknown  ...  headache_yn_undefined  abdom_yn_No  \\\n",
       "7                                 0  ...                      0            0   \n",
       "49                                1  ...                      1            0   \n",
       "55                                1  ...                      1            0   \n",
       "56                                1  ...                      1            0   \n",
       "58                                1  ...                      1            0   \n",
       "\n",
       "    abdom_yn_Yes  abdom_yn_undefined  diarrhea_yn_No  diarrhea_yn_Yes  \\\n",
       "7              0                   1               0                1   \n",
       "49             0                   1               0                0   \n",
       "55             0                   1               0                0   \n",
       "56             0                   1               0                0   \n",
       "58             0                   1               0                0   \n",
       "\n",
       "    diarrhea_yn_undefined  medcond_yn_No  medcond_yn_Yes  medcond_yn_undefined  \n",
       "7                       0              0               1                     0  \n",
       "49                      1              0               0                     1  \n",
       "55                      1              0               1                     0  \n",
       "56                      1              0               1                     0  \n",
       "58                      1              0               1                     0  \n",
       "\n",
       "[5 rows x 84 columns]"
      ]
     },
     "execution_count": 34,
     "metadata": {},
     "output_type": "execute_result"
    }
   ],
   "source": [
    "#one hot encoding\n",
    "death_df_clean_dummy = pd.get_dummies(death_df_clean[['death_yn','race_ethnicity_combined','age_group','sex','hosp_yn','icu_yn','hc_work_yn','pna_yn','abxchest_yn','acuterespdistress_yn','mechvent_yn','fever_yn','sfever_yn','chills_yn','myalgia_yn','runnose_yn','sthroat_yn','cough_yn','sob_yn','nauseavomit_yn','headache_yn','abdom_yn','diarrhea_yn','medcond_yn']],dummy_na=False)\n",
    "death_df_clean_dummy.head()"
   ]
  },
  {
   "cell_type": "code",
   "execution_count": 35,
   "metadata": {},
   "outputs": [],
   "source": [
    "deaths_array = death_df_clean_dummy['death_yn_Yes']\n",
    "other_data = death_df_clean_dummy.iloc[:,2:]"
   ]
  },
  {
   "cell_type": "code",
   "execution_count": 36,
   "metadata": {},
   "outputs": [],
   "source": [
    "X_train, X_test, y_train, y_test = train_test_split(other_data, deaths_array, test_size = 0.2, random_state = 42\n",
    ")"
   ]
  },
  {
   "cell_type": "code",
   "execution_count": 37,
   "metadata": {},
   "outputs": [
    {
     "name": "stderr",
     "output_type": "stream",
     "text": [
      "C:\\ProgramData\\Anaconda3\\lib\\site-packages\\sklearn\\base.py:209: FutureWarning: From version 0.24, get_params will raise an AttributeError if a parameter cannot be retrieved as an instance attribute. Previously it would return None.\n",
      "  warnings.warn('From version 0.24, get_params will raise an '\n"
     ]
    },
    {
     "data": {
      "image/png": "[encoded data removed]",
      "text/plain": [
       "<Figure size 576x396 with 2 Axes>"
      ]
     },
     "metadata": {},
     "output_type": "display_data"
    }
   ],
   "source": [
    "classes = [\"Survived\",\"Died\"]\n",
    "ABC_1 = AdaBoostClassifier(n_estimators=25,random_state=0).fit(X_train, y_train)\n",
    "_ = classification_report(ABC_1, X_test, y_test, classes=classes, support=True, is_fitted=True)"
   ]
  },
  {
   "cell_type": "code",
   "execution_count": 38,
   "metadata": {},
   "outputs": [
    {
     "name": "stderr",
     "output_type": "stream",
     "text": [
      "C:\\ProgramData\\Anaconda3\\lib\\site-packages\\sklearn\\base.py:209: FutureWarning: From version 0.24, get_params will raise an AttributeError if a parameter cannot be retrieved as an instance attribute. Previously it would return None.\n",
      "  warnings.warn('From version 0.24, get_params will raise an '\n"
     ]
    },
    {
     "data": {
      "image/png": "[encoded data removed]",
      "text/plain": [
       "<Figure size 576x396 with 2 Axes>"
      ]
     },
     "metadata": {},
     "output_type": "display_data"
    }
   ],
   "source": [
    "classes = [\"Survived\",\"Died\"]\n",
    "ABC_2 = AdaBoostClassifier(n_estimators=50,random_state=0).fit(X_train, y_train)\n",
    "_ = classification_report(ABC_2, X_test, y_test, classes=classes, support=True, is_fitted=True)"
   ]
  },
  {
   "cell_type": "code",
   "execution_count": 39,
   "metadata": {},
   "outputs": [
    {
     "name": "stderr",
     "output_type": "stream",
     "text": [
      "C:\\ProgramData\\Anaconda3\\lib\\site-packages\\sklearn\\base.py:209: FutureWarning: From version 0.24, get_params will raise an AttributeError if a parameter cannot be retrieved as an instance attribute. Previously it would return None.\n",
      "  warnings.warn('From version 0.24, get_params will raise an '\n"
     ]
    },
    {
     "data": {
      "image/png": "[encoded data removed]",
      "text/plain": [
       "<Figure size 576x396 with 2 Axes>"
      ]
     },
     "metadata": {},
     "output_type": "display_data"
    }
   ],
   "source": [
    "classes = [\"Survived\",\"Died\"]\n",
    "ABC_3 = AdaBoostClassifier(n_estimators=100,random_state=0).fit(X_train, y_train)\n",
    "_ = classification_report(ABC_3, X_test, y_test, classes=classes, support=True, is_fitted=True)"
   ]
  },
  {
   "cell_type": "code",
   "execution_count": 41,
   "metadata": {},
   "outputs": [],
   "source": [
    "from imblearn.over_sampling import SMOTE\n",
    "\n",
    "smote = SMOTE(random_state=0)\n",
    "X_train_rs, y_train_rs = smote.fit_resample(X_train, y_train)"
   ]
  },
  {
   "cell_type": "code",
   "execution_count": 42,
   "metadata": {},
   "outputs": [
    {
     "name": "stderr",
     "output_type": "stream",
     "text": [
      "C:\\ProgramData\\Anaconda3\\lib\\site-packages\\sklearn\\base.py:209: FutureWarning: From version 0.24, get_params will raise an AttributeError if a parameter cannot be retrieved as an instance attribute. Previously it would return None.\n",
      "  warnings.warn('From version 0.24, get_params will raise an '\n"
     ]
    },
    {
     "data": {
      "image/png": "[encoded data removed]",
      "text/plain": [
       "<Figure size 576x396 with 2 Axes>"
      ]
     },
     "metadata": {},
     "output_type": "display_data"
    }
   ],
   "source": [
    "classes = [\"Survived\",\"Died\"]\n",
    "ABC_1_smote = AdaBoostClassifier(n_estimators=25,random_state=0).fit(X_train_rs, y_train_rs)\n",
    "_ = classification_report(ABC_1_smote, X_test, y_test, classes=classes, support=True, is_fitted=True)"
   ]
  },
  {
   "cell_type": "code",
   "execution_count": 43,
   "metadata": {},
   "outputs": [
    {
     "name": "stderr",
     "output_type": "stream",
     "text": [
      "C:\\ProgramData\\Anaconda3\\lib\\site-packages\\sklearn\\base.py:209: FutureWarning: From version 0.24, get_params will raise an AttributeError if a parameter cannot be retrieved as an instance attribute. Previously it would return None.\n",
      "  warnings.warn('From version 0.24, get_params will raise an '\n"
     ]
    },
    {
     "data": {
      "image/png": "[encoded data removed]",
      "text/plain": [
       "<Figure size 576x396 with 2 Axes>"
      ]
     },
     "metadata": {},
     "output_type": "display_data"
    }
   ],
   "source": [
    "classes = [\"Survived\",\"Died\"]\n",
    "ABC_2_smote = AdaBoostClassifier(n_estimators=50,random_state=0).fit(X_train_rs, y_train_rs)\n",
    "_ = classification_report(ABC_2_smote, X_test, y_test, classes=classes, support=True, is_fitted=True)"
   ]
  },
  {
   "cell_type": "code",
   "execution_count": 44,
   "metadata": {},
   "outputs": [
    {
     "name": "stderr",
     "output_type": "stream",
     "text": [
      "C:\\ProgramData\\Anaconda3\\lib\\site-packages\\sklearn\\base.py:209: FutureWarning: From version 0.24, get_params will raise an AttributeError if a parameter cannot be retrieved as an instance attribute. Previously it would return None.\n",
      "  warnings.warn('From version 0.24, get_params will raise an '\n"
     ]
    },
    {
     "data": {
      "image/png": "[encoded data removed]",
      "text/plain": [
       "<Figure size 576x396 with 2 Axes>"
      ]
     },
     "metadata": {},
     "output_type": "display_data"
    }
   ],
   "source": [
    "classes = [\"Survived\",\"Died\"]\n",
    "ABC_3_smote = AdaBoostClassifier(n_estimators=300,random_state=0).fit(X_train_rs, y_train_rs)\n",
    "_ = classification_report(ABC_3_smote, X_test, y_test, classes=classes, support=True, is_fitted=True)"
   ]
  },
  {
   "cell_type": "code",
   "execution_count": null,
   "metadata": {},
   "outputs": [],
   "source": []
  }
 ],
 "metadata": {
  "kernelspec": {
   "display_name": "Python 3",
   "language": "python",
   "name": "python3"
  },
  "language_info": {
   "codemirror_mode": {
    "name": "ipython",
    "version": 3
   },
   "file_extension": ".py",
   "mimetype": "text/x-python",
   "name": "python",
   "nbconvert_exporter": "python",
   "pygments_lexer": "ipython3",
   "version": "3.8.3"
  }
 },
 "nbformat": 4,
 "nbformat_minor": 4
}
