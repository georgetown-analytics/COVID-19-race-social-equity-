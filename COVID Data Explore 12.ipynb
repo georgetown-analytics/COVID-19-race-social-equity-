{
 "cells": [
  {
   "cell_type": "code",
   "execution_count": 1,
   "metadata": {},
   "outputs": [],
   "source": [
    "import numpy as np\n",
    "import matplotlib.mlab as mlab\n",
    "import matplotlib.pyplot as plt\n",
    "import pandas as pd\n",
    "import seaborn as sns"
   ]
  },
  {
   "cell_type": "code",
   "execution_count": 2,
   "metadata": {},
   "outputs": [],
   "source": [
    "df_oct = pd.read_csv('COVID_Cases_Restricted_Detailed_10312020.csv')"
   ]
  },
  {
   "cell_type": "code",
   "execution_count": 97,
   "metadata": {},
   "outputs": [
    {
     "data": {
      "text/html": [
       "<div>\n",
       "<style scoped>\n",
       "    .dataframe tbody tr th:only-of-type {\n",
       "        vertical-align: middle;\n",
       "    }\n",
       "\n",
       "    .dataframe tbody tr th {\n",
       "        vertical-align: top;\n",
       "    }\n",
       "\n",
       "    .dataframe thead th {\n",
       "        text-align: right;\n",
       "    }\n",
       "</style>\n",
       "<table border=\"1\" class=\"dataframe\">\n",
       "  <thead>\n",
       "    <tr style=\"text-align: right;\">\n",
       "      <th></th>\n",
       "      <th>race_ethnicity_combined</th>\n",
       "      <th>current_status</th>\n",
       "      <th>cdc_report_dt</th>\n",
       "      <th>sex</th>\n",
       "      <th>onset_dt</th>\n",
       "      <th>pos_spec_dt</th>\n",
       "      <th>hosp_yn</th>\n",
       "      <th>icu_yn</th>\n",
       "      <th>death_yn</th>\n",
       "      <th>hc_work_yn</th>\n",
       "      <th>...</th>\n",
       "      <th>sob_yn</th>\n",
       "      <th>nauseavomit_yn</th>\n",
       "      <th>headache_yn</th>\n",
       "      <th>abdom_yn</th>\n",
       "      <th>diarrhea_yn</th>\n",
       "      <th>medcond_yn</th>\n",
       "      <th>county_fips_code</th>\n",
       "      <th>res_county</th>\n",
       "      <th>res_state</th>\n",
       "      <th>age_group</th>\n",
       "    </tr>\n",
       "  </thead>\n",
       "  <tbody>\n",
       "    <tr>\n",
       "      <th>0</th>\n",
       "      <td>White, Non-Hispanic</td>\n",
       "      <td>Laboratory-confirmed case</td>\n",
       "      <td>2020-10-01</td>\n",
       "      <td>Male</td>\n",
       "      <td>2020-08-26</td>\n",
       "      <td>NaN</td>\n",
       "      <td>Missing</td>\n",
       "      <td>Missing</td>\n",
       "      <td>Missing</td>\n",
       "      <td>Missing</td>\n",
       "      <td>...</td>\n",
       "      <td>Missing</td>\n",
       "      <td>Missing</td>\n",
       "      <td>Missing</td>\n",
       "      <td>Missing</td>\n",
       "      <td>Missing</td>\n",
       "      <td>Missing</td>\n",
       "      <td>31001.00</td>\n",
       "      <td>ADAMS</td>\n",
       "      <td>NE</td>\n",
       "      <td>10 - 19 Years</td>\n",
       "    </tr>\n",
       "    <tr>\n",
       "      <th>1</th>\n",
       "      <td>White, Non-Hispanic</td>\n",
       "      <td>Laboratory-confirmed case</td>\n",
       "      <td>2020-08-23</td>\n",
       "      <td>Male</td>\n",
       "      <td>2020-07-07</td>\n",
       "      <td>NaN</td>\n",
       "      <td>Missing</td>\n",
       "      <td>Missing</td>\n",
       "      <td>Missing</td>\n",
       "      <td>Missing</td>\n",
       "      <td>...</td>\n",
       "      <td>Missing</td>\n",
       "      <td>Missing</td>\n",
       "      <td>Missing</td>\n",
       "      <td>Missing</td>\n",
       "      <td>Missing</td>\n",
       "      <td>Missing</td>\n",
       "      <td>31001.00</td>\n",
       "      <td>ADAMS</td>\n",
       "      <td>NE</td>\n",
       "      <td>10 - 19 Years</td>\n",
       "    </tr>\n",
       "    <tr>\n",
       "      <th>2</th>\n",
       "      <td>White, Non-Hispanic</td>\n",
       "      <td>Laboratory-confirmed case</td>\n",
       "      <td>2020-10-01</td>\n",
       "      <td>Male</td>\n",
       "      <td>2020-09-02</td>\n",
       "      <td>NaN</td>\n",
       "      <td>Missing</td>\n",
       "      <td>Missing</td>\n",
       "      <td>Missing</td>\n",
       "      <td>Missing</td>\n",
       "      <td>...</td>\n",
       "      <td>Missing</td>\n",
       "      <td>Missing</td>\n",
       "      <td>Missing</td>\n",
       "      <td>Missing</td>\n",
       "      <td>Missing</td>\n",
       "      <td>Missing</td>\n",
       "      <td>31001.00</td>\n",
       "      <td>ADAMS</td>\n",
       "      <td>NE</td>\n",
       "      <td>10 - 19 Years</td>\n",
       "    </tr>\n",
       "  </tbody>\n",
       "</table>\n",
       "<p>3 rows × 31 columns</p>\n",
       "</div>"
      ],
      "text/plain": [
       "  race_ethnicity_combined             current_status cdc_report_dt   sex  \\\n",
       "0     White, Non-Hispanic  Laboratory-confirmed case    2020-10-01  Male   \n",
       "1     White, Non-Hispanic  Laboratory-confirmed case    2020-08-23  Male   \n",
       "2     White, Non-Hispanic  Laboratory-confirmed case    2020-10-01  Male   \n",
       "\n",
       "     onset_dt pos_spec_dt  hosp_yn   icu_yn death_yn hc_work_yn  ...   sob_yn  \\\n",
       "0  2020-08-26         NaN  Missing  Missing  Missing    Missing  ...  Missing   \n",
       "1  2020-07-07         NaN  Missing  Missing  Missing    Missing  ...  Missing   \n",
       "2  2020-09-02         NaN  Missing  Missing  Missing    Missing  ...  Missing   \n",
       "\n",
       "  nauseavomit_yn headache_yn abdom_yn diarrhea_yn medcond_yn county_fips_code  \\\n",
       "0        Missing     Missing  Missing     Missing    Missing         31001.00   \n",
       "1        Missing     Missing  Missing     Missing    Missing         31001.00   \n",
       "2        Missing     Missing  Missing     Missing    Missing         31001.00   \n",
       "\n",
       "  res_county res_state      age_group  \n",
       "0      ADAMS        NE  10 - 19 Years  \n",
       "1      ADAMS        NE  10 - 19 Years  \n",
       "2      ADAMS        NE  10 - 19 Years  \n",
       "\n",
       "[3 rows x 31 columns]"
      ]
     },
     "execution_count": 97,
     "metadata": {},
     "output_type": "execute_result"
    }
   ],
   "source": [
    "df_oct.head(3)"
   ]
  },
  {
   "cell_type": "code",
   "execution_count": 98,
   "metadata": {},
   "outputs": [
    {
     "data": {
      "text/plain": [
       "Unknown                                                 2288379\n",
       "White, Non-Hispanic                                     1529876\n",
       "Hispanic/Latino                                          892783\n",
       "Black, Non-Hispanic                                      556066\n",
       "Multiple/Other, Non-Hispanic                             144115\n",
       "Asian, Non-Hispanic                                       87184\n",
       "American Indian/Alaska Native, Non-Hispanic               32623\n",
       "Native Hawaiian/Other Pacific Islander, Non-Hispanic       7787\n",
       "Name: race_ethnicity_combined, dtype: int64"
      ]
     },
     "execution_count": 98,
     "metadata": {},
     "output_type": "execute_result"
    }
   ],
   "source": [
    "df_oct['race_ethnicity_combined'].value_counts()"
   ]
  },
  {
   "cell_type": "code",
   "execution_count": 99,
   "metadata": {},
   "outputs": [
    {
     "data": {
      "text/plain": [
       "No         2662955\n",
       "Missing    2321809\n",
       "Unknown     617047\n",
       "Yes         158255\n",
       "Name: death_yn, dtype: int64"
      ]
     },
     "execution_count": 99,
     "metadata": {},
     "output_type": "execute_result"
    }
   ],
   "source": [
    "df_oct['death_yn'].value_counts()"
   ]
  },
  {
   "cell_type": "code",
   "execution_count": 100,
   "metadata": {},
   "outputs": [],
   "source": [
    "df_dYes = df_oct[df_oct.death_yn == 'Yes']"
   ]
  },
  {
   "cell_type": "code",
   "execution_count": 101,
   "metadata": {},
   "outputs": [
    {
     "data": {
      "text/plain": [
       "Yes    158255\n",
       "Name: death_yn, dtype: int64"
      ]
     },
     "execution_count": 101,
     "metadata": {},
     "output_type": "execute_result"
    }
   ],
   "source": [
    "df_dYes['death_yn'].value_counts()"
   ]
  },
  {
   "cell_type": "code",
   "execution_count": 102,
   "metadata": {},
   "outputs": [
    {
     "data": {
      "text/html": [
       "<div>\n",
       "<style scoped>\n",
       "    .dataframe tbody tr th:only-of-type {\n",
       "        vertical-align: middle;\n",
       "    }\n",
       "\n",
       "    .dataframe tbody tr th {\n",
       "        vertical-align: top;\n",
       "    }\n",
       "\n",
       "    .dataframe thead th {\n",
       "        text-align: right;\n",
       "    }\n",
       "</style>\n",
       "<table border=\"1\" class=\"dataframe\">\n",
       "  <thead>\n",
       "    <tr style=\"text-align: right;\">\n",
       "      <th></th>\n",
       "      <th>death_yn</th>\n",
       "    </tr>\n",
       "    <tr>\n",
       "      <th>race_ethnicity_combined</th>\n",
       "      <th></th>\n",
       "    </tr>\n",
       "  </thead>\n",
       "  <tbody>\n",
       "    <tr>\n",
       "      <th>American Indian/Alaska Native, Non-Hispanic</th>\n",
       "      <td>850</td>\n",
       "    </tr>\n",
       "    <tr>\n",
       "      <th>Asian, Non-Hispanic</th>\n",
       "      <td>4899</td>\n",
       "    </tr>\n",
       "    <tr>\n",
       "      <th>Black, Non-Hispanic</th>\n",
       "      <td>26169</td>\n",
       "    </tr>\n",
       "    <tr>\n",
       "      <th>Hispanic/Latino</th>\n",
       "      <td>20951</td>\n",
       "    </tr>\n",
       "    <tr>\n",
       "      <th>Multiple/Other, Non-Hispanic</th>\n",
       "      <td>4987</td>\n",
       "    </tr>\n",
       "    <tr>\n",
       "      <th>Native Hawaiian/Other Pacific Islander, Non-Hispanic</th>\n",
       "      <td>117</td>\n",
       "    </tr>\n",
       "    <tr>\n",
       "      <th>Unknown</th>\n",
       "      <td>22728</td>\n",
       "    </tr>\n",
       "    <tr>\n",
       "      <th>White, Non-Hispanic</th>\n",
       "      <td>71235</td>\n",
       "    </tr>\n",
       "  </tbody>\n",
       "</table>\n",
       "</div>"
      ],
      "text/plain": [
       "                                                    death_yn\n",
       "race_ethnicity_combined                                     \n",
       "American Indian/Alaska Native, Non-Hispanic              850\n",
       "Asian, Non-Hispanic                                     4899\n",
       "Black, Non-Hispanic                                    26169\n",
       "Hispanic/Latino                                        20951\n",
       "Multiple/Other, Non-Hispanic                            4987\n",
       "Native Hawaiian/Other Pacific Islander, Non-His...       117\n",
       "Unknown                                                22728\n",
       "White, Non-Hispanic                                    71235"
      ]
     },
     "execution_count": 102,
     "metadata": {},
     "output_type": "execute_result"
    }
   ],
   "source": [
    "df_dYes = df_dYes[['death_yn','race_ethnicity_combined']].groupby('race_ethnicity_combined').count()\n",
    "df_dYes"
   ]
  },
  {
   "cell_type": "code",
   "execution_count": 103,
   "metadata": {},
   "outputs": [],
   "source": [
    "df_dYes.to_csv('Covid Deaths by ethnicity YTD Oct.csv')"
   ]
  },
  {
   "cell_type": "code",
   "execution_count": 104,
   "metadata": {},
   "outputs": [
    {
     "data": {
      "text/html": [
       "<div>\n",
       "<style scoped>\n",
       "    .dataframe tbody tr th:only-of-type {\n",
       "        vertical-align: middle;\n",
       "    }\n",
       "\n",
       "    .dataframe tbody tr th {\n",
       "        vertical-align: top;\n",
       "    }\n",
       "\n",
       "    .dataframe thead th {\n",
       "        text-align: right;\n",
       "    }\n",
       "</style>\n",
       "<table border=\"1\" class=\"dataframe\">\n",
       "  <thead>\n",
       "    <tr style=\"text-align: right;\">\n",
       "      <th></th>\n",
       "      <th>race_ethnicity_combined</th>\n",
       "      <th>death_yn</th>\n",
       "    </tr>\n",
       "  </thead>\n",
       "  <tbody>\n",
       "    <tr>\n",
       "      <th>0</th>\n",
       "      <td>American Indian/Alaska Native, Non-Hispanic</td>\n",
       "      <td>850</td>\n",
       "    </tr>\n",
       "    <tr>\n",
       "      <th>1</th>\n",
       "      <td>Asian, Non-Hispanic</td>\n",
       "      <td>4899</td>\n",
       "    </tr>\n",
       "    <tr>\n",
       "      <th>2</th>\n",
       "      <td>Black, Non-Hispanic</td>\n",
       "      <td>26169</td>\n",
       "    </tr>\n",
       "    <tr>\n",
       "      <th>3</th>\n",
       "      <td>Hispanic/Latino</td>\n",
       "      <td>20951</td>\n",
       "    </tr>\n",
       "    <tr>\n",
       "      <th>4</th>\n",
       "      <td>Multiple/Other, Non-Hispanic</td>\n",
       "      <td>4987</td>\n",
       "    </tr>\n",
       "    <tr>\n",
       "      <th>5</th>\n",
       "      <td>Native Hawaiian/Other Pacific Islander, Non-Hi...</td>\n",
       "      <td>117</td>\n",
       "    </tr>\n",
       "    <tr>\n",
       "      <th>7</th>\n",
       "      <td>White, Non-Hispanic</td>\n",
       "      <td>71235</td>\n",
       "    </tr>\n",
       "  </tbody>\n",
       "</table>\n",
       "</div>"
      ],
      "text/plain": [
       "                             race_ethnicity_combined  death_yn\n",
       "0        American Indian/Alaska Native, Non-Hispanic       850\n",
       "1                                Asian, Non-Hispanic      4899\n",
       "2                                Black, Non-Hispanic     26169\n",
       "3                                    Hispanic/Latino     20951\n",
       "4                      Multiple/Other, Non-Hispanic       4987\n",
       "5  Native Hawaiian/Other Pacific Islander, Non-Hi...       117\n",
       "7                                White, Non-Hispanic     71235"
      ]
     },
     "execution_count": 104,
     "metadata": {},
     "output_type": "execute_result"
    }
   ],
   "source": [
    "df_oct_deaths = pd.read_csv('Deaths by ethnicity.csv')\n",
    "df_oct_deaths = df_oct_deaths.drop(df_oct_deaths.index[6])\n",
    "df_oct_deaths"
   ]
  },
  {
   "cell_type": "code",
   "execution_count": 105,
   "metadata": {},
   "outputs": [
    {
     "data": {
      "text/plain": [
       "<matplotlib.axes._subplots.AxesSubplot at 0x2a24be4d430>"
      ]
     },
     "execution_count": 105,
     "metadata": {},
     "output_type": "execute_result"
    },
    {
     "data": {
      "image/png": "[encoded data removed]",
      "text/plain": [
       "<Figure size 432x288 with 1 Axes>"
      ]
     },
     "metadata": {
      "needs_background": "light"
     },
     "output_type": "display_data"
    }
   ],
   "source": [
    "df_oct_deaths.plot(kind='bar',x='race_ethnicity_combined',y='death_yn')"
   ]
  },
  {
   "cell_type": "code",
   "execution_count": 106,
   "metadata": {},
   "outputs": [
    {
     "data": {
      "text/html": [
       "<div>\n",
       "<style scoped>\n",
       "    .dataframe tbody tr th:only-of-type {\n",
       "        vertical-align: middle;\n",
       "    }\n",
       "\n",
       "    .dataframe tbody tr th {\n",
       "        vertical-align: top;\n",
       "    }\n",
       "\n",
       "    .dataframe thead th {\n",
       "        text-align: right;\n",
       "    }\n",
       "</style>\n",
       "<table border=\"1\" class=\"dataframe\">\n",
       "  <thead>\n",
       "    <tr style=\"text-align: right;\">\n",
       "      <th></th>\n",
       "      <th>race_ethnicity_combined</th>\n",
       "      <th>death_yn</th>\n",
       "    </tr>\n",
       "  </thead>\n",
       "  <tbody>\n",
       "    <tr>\n",
       "      <th>0</th>\n",
       "      <td>nan</td>\n",
       "      <td>129208</td>\n",
       "    </tr>\n",
       "  </tbody>\n",
       "</table>\n",
       "</div>"
      ],
      "text/plain": [
       "   race_ethnicity_combined  death_yn\n",
       "0                      nan    129208"
      ]
     },
     "execution_count": 106,
     "metadata": {},
     "output_type": "execute_result"
    }
   ],
   "source": [
    "sum_row = df_oct_deaths[['death_yn']].sum()\n",
    "df_sum = pd.DataFrame(data=sum_row).T\n",
    "df_sum=df_sum.reindex(columns=df_oct_deaths.columns)\n",
    "df_sum"
   ]
  },
  {
   "cell_type": "code",
   "execution_count": 107,
   "metadata": {},
   "outputs": [
    {
     "data": {
      "text/html": [
       "<div>\n",
       "<style scoped>\n",
       "    .dataframe tbody tr th:only-of-type {\n",
       "        vertical-align: middle;\n",
       "    }\n",
       "\n",
       "    .dataframe tbody tr th {\n",
       "        vertical-align: top;\n",
       "    }\n",
       "\n",
       "    .dataframe thead th {\n",
       "        text-align: right;\n",
       "    }\n",
       "</style>\n",
       "<table border=\"1\" class=\"dataframe\">\n",
       "  <thead>\n",
       "    <tr style=\"text-align: right;\">\n",
       "      <th></th>\n",
       "      <th>race_ethnicity_combined</th>\n",
       "      <th>death_yn</th>\n",
       "    </tr>\n",
       "  </thead>\n",
       "  <tbody>\n",
       "    <tr>\n",
       "      <th>0</th>\n",
       "      <td>American Indian/Alaska Native, Non-Hispanic</td>\n",
       "      <td>850</td>\n",
       "    </tr>\n",
       "    <tr>\n",
       "      <th>1</th>\n",
       "      <td>Asian, Non-Hispanic</td>\n",
       "      <td>4899</td>\n",
       "    </tr>\n",
       "    <tr>\n",
       "      <th>2</th>\n",
       "      <td>Black, Non-Hispanic</td>\n",
       "      <td>26169</td>\n",
       "    </tr>\n",
       "    <tr>\n",
       "      <th>3</th>\n",
       "      <td>Hispanic/Latino</td>\n",
       "      <td>20951</td>\n",
       "    </tr>\n",
       "    <tr>\n",
       "      <th>4</th>\n",
       "      <td>Multiple/Other, Non-Hispanic</td>\n",
       "      <td>4987</td>\n",
       "    </tr>\n",
       "    <tr>\n",
       "      <th>5</th>\n",
       "      <td>Native Hawaiian/Other Pacific Islander, Non-Hi...</td>\n",
       "      <td>117</td>\n",
       "    </tr>\n",
       "    <tr>\n",
       "      <th>6</th>\n",
       "      <td>White, Non-Hispanic</td>\n",
       "      <td>71235</td>\n",
       "    </tr>\n",
       "    <tr>\n",
       "      <th>7</th>\n",
       "      <td>NaN</td>\n",
       "      <td>129208</td>\n",
       "    </tr>\n",
       "  </tbody>\n",
       "</table>\n",
       "</div>"
      ],
      "text/plain": [
       "                             race_ethnicity_combined  death_yn\n",
       "0        American Indian/Alaska Native, Non-Hispanic       850\n",
       "1                                Asian, Non-Hispanic      4899\n",
       "2                                Black, Non-Hispanic     26169\n",
       "3                                    Hispanic/Latino     20951\n",
       "4                      Multiple/Other, Non-Hispanic       4987\n",
       "5  Native Hawaiian/Other Pacific Islander, Non-Hi...       117\n",
       "6                                White, Non-Hispanic     71235\n",
       "7                                                NaN    129208"
      ]
     },
     "execution_count": 107,
     "metadata": {},
     "output_type": "execute_result"
    }
   ],
   "source": [
    "df_oct_deaths = df_oct_deaths.append(df_sum,ignore_index=True)\n",
    "df_oct_deaths"
   ]
  },
  {
   "cell_type": "code",
   "execution_count": 108,
   "metadata": {},
   "outputs": [
    {
     "data": {
      "text/html": [
       "<div>\n",
       "<style scoped>\n",
       "    .dataframe tbody tr th:only-of-type {\n",
       "        vertical-align: middle;\n",
       "    }\n",
       "\n",
       "    .dataframe tbody tr th {\n",
       "        vertical-align: top;\n",
       "    }\n",
       "\n",
       "    .dataframe thead th {\n",
       "        text-align: right;\n",
       "    }\n",
       "</style>\n",
       "<table border=\"1\" class=\"dataframe\">\n",
       "  <thead>\n",
       "    <tr style=\"text-align: right;\">\n",
       "      <th></th>\n",
       "      <th>race_ethnicity_combined</th>\n",
       "      <th>death_yn</th>\n",
       "      <th>deaths in % of total</th>\n",
       "    </tr>\n",
       "  </thead>\n",
       "  <tbody>\n",
       "    <tr>\n",
       "      <th>0</th>\n",
       "      <td>American Indian/Alaska Native, Non-Hispanic</td>\n",
       "      <td>850</td>\n",
       "      <td>0.66</td>\n",
       "    </tr>\n",
       "    <tr>\n",
       "      <th>1</th>\n",
       "      <td>Asian, Non-Hispanic</td>\n",
       "      <td>4899</td>\n",
       "      <td>3.79</td>\n",
       "    </tr>\n",
       "    <tr>\n",
       "      <th>2</th>\n",
       "      <td>Black, Non-Hispanic</td>\n",
       "      <td>26169</td>\n",
       "      <td>20.25</td>\n",
       "    </tr>\n",
       "    <tr>\n",
       "      <th>3</th>\n",
       "      <td>Hispanic/Latino</td>\n",
       "      <td>20951</td>\n",
       "      <td>16.21</td>\n",
       "    </tr>\n",
       "    <tr>\n",
       "      <th>4</th>\n",
       "      <td>Multiple/Other, Non-Hispanic</td>\n",
       "      <td>4987</td>\n",
       "      <td>3.86</td>\n",
       "    </tr>\n",
       "    <tr>\n",
       "      <th>5</th>\n",
       "      <td>Native Hawaiian/Other Pacific Islander, Non-Hi...</td>\n",
       "      <td>117</td>\n",
       "      <td>0.09</td>\n",
       "    </tr>\n",
       "    <tr>\n",
       "      <th>6</th>\n",
       "      <td>White, Non-Hispanic</td>\n",
       "      <td>71235</td>\n",
       "      <td>55.13</td>\n",
       "    </tr>\n",
       "    <tr>\n",
       "      <th>7</th>\n",
       "      <td>NaN</td>\n",
       "      <td>129208</td>\n",
       "      <td>100.00</td>\n",
       "    </tr>\n",
       "  </tbody>\n",
       "</table>\n",
       "</div>"
      ],
      "text/plain": [
       "                             race_ethnicity_combined  death_yn  \\\n",
       "0        American Indian/Alaska Native, Non-Hispanic       850   \n",
       "1                                Asian, Non-Hispanic      4899   \n",
       "2                                Black, Non-Hispanic     26169   \n",
       "3                                    Hispanic/Latino     20951   \n",
       "4                      Multiple/Other, Non-Hispanic       4987   \n",
       "5  Native Hawaiian/Other Pacific Islander, Non-Hi...       117   \n",
       "6                                White, Non-Hispanic     71235   \n",
       "7                                                NaN    129208   \n",
       "\n",
       "   deaths in % of total  \n",
       "0                  0.66  \n",
       "1                  3.79  \n",
       "2                 20.25  \n",
       "3                 16.21  \n",
       "4                  3.86  \n",
       "5                  0.09  \n",
       "6                 55.13  \n",
       "7                100.00  "
      ]
     },
     "execution_count": 108,
     "metadata": {},
     "output_type": "execute_result"
    }
   ],
   "source": [
    "df_oct_deaths['deaths in % of total'] = df_oct_deaths.death_yn / df_oct_deaths.death_yn[7] *100\n",
    "pd.options.display.float_format = '{:.2f}'.format\n",
    "df_oct_deaths"
   ]
  },
  {
   "attachments": {},
   "cell_type": "markdown",
   "metadata": {},
   "source": [
    "###US Total population breakdown from census.gov:\n",
    "https://www.census.gov/quickfacts/fact/table/US/PST045219"
   ]
  },
  {
   "cell_type": "code",
   "execution_count": 109,
   "metadata": {},
   "outputs": [
    {
     "data": {
      "text/html": [
       "<div>\n",
       "<style scoped>\n",
       "    .dataframe tbody tr th:only-of-type {\n",
       "        vertical-align: middle;\n",
       "    }\n",
       "\n",
       "    .dataframe tbody tr th {\n",
       "        vertical-align: top;\n",
       "    }\n",
       "\n",
       "    .dataframe thead th {\n",
       "        text-align: right;\n",
       "    }\n",
       "</style>\n",
       "<table border=\"1\" class=\"dataframe\">\n",
       "  <thead>\n",
       "    <tr style=\"text-align: right;\">\n",
       "      <th></th>\n",
       "      <th>race_ethnicity_combined</th>\n",
       "      <th>death_yn</th>\n",
       "      <th>deaths in % of total</th>\n",
       "      <th>% total US population</th>\n",
       "      <th>Delta %P Covid deaths to total population</th>\n",
       "    </tr>\n",
       "  </thead>\n",
       "  <tbody>\n",
       "    <tr>\n",
       "      <th>0</th>\n",
       "      <td>American Indian/Alaska Native, Non-Hispanic</td>\n",
       "      <td>850</td>\n",
       "      <td>0.66</td>\n",
       "      <td>1.30</td>\n",
       "      <td>-0.64</td>\n",
       "    </tr>\n",
       "    <tr>\n",
       "      <th>1</th>\n",
       "      <td>Asian, Non-Hispanic</td>\n",
       "      <td>4899</td>\n",
       "      <td>3.79</td>\n",
       "      <td>5.90</td>\n",
       "      <td>-2.11</td>\n",
       "    </tr>\n",
       "    <tr>\n",
       "      <th>2</th>\n",
       "      <td>Black, Non-Hispanic</td>\n",
       "      <td>26169</td>\n",
       "      <td>20.25</td>\n",
       "      <td>13.40</td>\n",
       "      <td>6.85</td>\n",
       "    </tr>\n",
       "    <tr>\n",
       "      <th>3</th>\n",
       "      <td>Hispanic/Latino</td>\n",
       "      <td>20951</td>\n",
       "      <td>16.21</td>\n",
       "      <td>18.50</td>\n",
       "      <td>-2.29</td>\n",
       "    </tr>\n",
       "    <tr>\n",
       "      <th>4</th>\n",
       "      <td>Multiple/Other, Non-Hispanic</td>\n",
       "      <td>4987</td>\n",
       "      <td>3.86</td>\n",
       "      <td>2.80</td>\n",
       "      <td>1.06</td>\n",
       "    </tr>\n",
       "    <tr>\n",
       "      <th>5</th>\n",
       "      <td>Native Hawaiian/Other Pacific Islander, Non-Hi...</td>\n",
       "      <td>117</td>\n",
       "      <td>0.09</td>\n",
       "      <td>0.20</td>\n",
       "      <td>-0.11</td>\n",
       "    </tr>\n",
       "    <tr>\n",
       "      <th>6</th>\n",
       "      <td>White, Non-Hispanic</td>\n",
       "      <td>71235</td>\n",
       "      <td>55.13</td>\n",
       "      <td>60.10</td>\n",
       "      <td>-4.97</td>\n",
       "    </tr>\n",
       "    <tr>\n",
       "      <th>7</th>\n",
       "      <td>NaN</td>\n",
       "      <td>129208</td>\n",
       "      <td>100.00</td>\n",
       "      <td>100.00</td>\n",
       "      <td>0.00</td>\n",
       "    </tr>\n",
       "  </tbody>\n",
       "</table>\n",
       "</div>"
      ],
      "text/plain": [
       "                             race_ethnicity_combined  death_yn  \\\n",
       "0        American Indian/Alaska Native, Non-Hispanic       850   \n",
       "1                                Asian, Non-Hispanic      4899   \n",
       "2                                Black, Non-Hispanic     26169   \n",
       "3                                    Hispanic/Latino     20951   \n",
       "4                      Multiple/Other, Non-Hispanic       4987   \n",
       "5  Native Hawaiian/Other Pacific Islander, Non-Hi...       117   \n",
       "6                                White, Non-Hispanic     71235   \n",
       "7                                                NaN    129208   \n",
       "\n",
       "   deaths in % of total  % total US population  \\\n",
       "0                  0.66                   1.30   \n",
       "1                  3.79                   5.90   \n",
       "2                 20.25                  13.40   \n",
       "3                 16.21                  18.50   \n",
       "4                  3.86                   2.80   \n",
       "5                  0.09                   0.20   \n",
       "6                 55.13                  60.10   \n",
       "7                100.00                 100.00   \n",
       "\n",
       "   Delta %P Covid deaths to total population  \n",
       "0                                      -0.64  \n",
       "1                                      -2.11  \n",
       "2                                       6.85  \n",
       "3                                      -2.29  \n",
       "4                                       1.06  \n",
       "5                                      -0.11  \n",
       "6                                      -4.97  \n",
       "7                                       0.00  "
      ]
     },
     "execution_count": 109,
     "metadata": {},
     "output_type": "execute_result"
    }
   ],
   "source": [
    "df_oct_deaths['% total US population'] = [1.3, 5.9, 13.4, 18.5, 2.8, 0.2, 60.1, 100.0]\n",
    "df_oct_deaths['Delta %P Covid deaths to total population'] = df_oct_deaths[\"deaths in % of total\"] - df_oct_deaths[\"% total US population\"]\n",
    "df_oct_deaths"
   ]
  },
  {
   "cell_type": "code",
   "execution_count": null,
   "metadata": {},
   "outputs": [],
   "source": []
  }
 ],
 "metadata": {
  "kernelspec": {
   "display_name": "Python 3",
   "language": "python",
   "name": "python3"
  },
  "language_info": {
   "codemirror_mode": {
    "name": "ipython",
    "version": 3
   },
   "file_extension": ".py",
   "mimetype": "text/x-python",
   "name": "python",
   "nbconvert_exporter": "python",
   "pygments_lexer": "ipython3",
   "version": "3.8.3"
  }
 },
 "nbformat": 4,
 "nbformat_minor": 4
}
