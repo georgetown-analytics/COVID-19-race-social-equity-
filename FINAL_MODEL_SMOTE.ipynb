{
 "cells": [
  {
   "cell_type": "code",
   "execution_count": 2,
   "metadata": {},
   "outputs": [],
   "source": [
    "import pandas as pd\n",
    "import numpy as np\n",
    "from sklearn.model_selection import train_test_split\n",
    "from sklearn import tree\n",
    "from sklearn.naive_bayes import MultinomialNB\n",
    "from sklearn.svm import SVC\n",
    "from sklearn.linear_model import LogisticRegression\n",
    "from yellowbrick.classifier import ClassificationReport\n",
    "from yellowbrick.model_selection import FeatureImportances\n",
    "from sklearn import datasets\n",
    "from sklearn.tree import DecisionTreeClassifier\n",
    "from sklearn.linear_model import LogisticRegression\n",
    "from sklearn.metrics import roc_curve, roc_auc_score\n",
    "from sklearn.model_selection import train_test_split\n",
    "import matplotlib.pyplot as plt\n",
    "from sklearn.preprocessing import StandardScaler\n",
    "from scipy.stats import randint\n",
    "from sklearn.model_selection import RandomizedSearchCV\n",
    "from sklearn.metrics import accuracy_score\n",
    "from yellowbrick.datasets import load_credit\n",
    "from yellowbrick.classifier import confusion_matrix\n",
    "from sklearn.linear_model import LogisticRegression\n",
    "from sklearn.model_selection import train_test_split as tts\n",
    "from sklearn.metrics import precision_recall_curve\n",
    "import matplotlib.pyplot as plt\n",
    "from yellowbrick.datasets import load_spam\n",
    "from sklearn.linear_model import RidgeClassifier\n",
    "from yellowbrick.classifier import PrecisionRecallCurve\n",
    "from sklearn.model_selection import train_test_split as tts\n",
    "from imblearn.over_sampling import RandomOverSampler"
   ]
  },
  {
   "cell_type": "code",
   "execution_count": 3,
   "metadata": {},
   "outputs": [
    {
     "data": {
      "text/html": [
       "<div>\n",
       "<style scoped>\n",
       "    .dataframe tbody tr th:only-of-type {\n",
       "        vertical-align: middle;\n",
       "    }\n",
       "\n",
       "    .dataframe tbody tr th {\n",
       "        vertical-align: top;\n",
       "    }\n",
       "\n",
       "    .dataframe thead th {\n",
       "        text-align: right;\n",
       "    }\n",
       "</style>\n",
       "<table border=\"1\" class=\"dataframe\">\n",
       "  <thead>\n",
       "    <tr style=\"text-align: right;\">\n",
       "      <th></th>\n",
       "      <th>race_ethnicity_combined</th>\n",
       "      <th>current_status</th>\n",
       "      <th>cdc_report_dt</th>\n",
       "      <th>sex</th>\n",
       "      <th>onset_dt</th>\n",
       "      <th>pos_spec_dt</th>\n",
       "      <th>hosp_yn</th>\n",
       "      <th>icu_yn</th>\n",
       "      <th>death_yn</th>\n",
       "      <th>hc_work_yn</th>\n",
       "      <th>...</th>\n",
       "      <th>sob_yn</th>\n",
       "      <th>nauseavomit_yn</th>\n",
       "      <th>headache_yn</th>\n",
       "      <th>abdom_yn</th>\n",
       "      <th>diarrhea_yn</th>\n",
       "      <th>medcond_yn</th>\n",
       "      <th>county_fips_code</th>\n",
       "      <th>res_county</th>\n",
       "      <th>res_state</th>\n",
       "      <th>age_group</th>\n",
       "    </tr>\n",
       "  </thead>\n",
       "  <tbody>\n",
       "    <tr>\n",
       "      <th>0</th>\n",
       "      <td>Unknown</td>\n",
       "      <td>Laboratory-confirmed case</td>\n",
       "      <td>2020-09-15</td>\n",
       "      <td>Female</td>\n",
       "      <td>NaN</td>\n",
       "      <td>NaN</td>\n",
       "      <td>Missing</td>\n",
       "      <td>Missing</td>\n",
       "      <td>Missing</td>\n",
       "      <td>Missing</td>\n",
       "      <td>...</td>\n",
       "      <td>Missing</td>\n",
       "      <td>Missing</td>\n",
       "      <td>Missing</td>\n",
       "      <td>Missing</td>\n",
       "      <td>Missing</td>\n",
       "      <td>Missing</td>\n",
       "      <td>72005.0</td>\n",
       "      <td>AGUADILLA</td>\n",
       "      <td>PR</td>\n",
       "      <td>30 - 39 Years</td>\n",
       "    </tr>\n",
       "    <tr>\n",
       "      <th>1</th>\n",
       "      <td>Unknown</td>\n",
       "      <td>Laboratory-confirmed case</td>\n",
       "      <td>2020-09-27</td>\n",
       "      <td>Female</td>\n",
       "      <td>NaN</td>\n",
       "      <td>NaN</td>\n",
       "      <td>Missing</td>\n",
       "      <td>Missing</td>\n",
       "      <td>Missing</td>\n",
       "      <td>Missing</td>\n",
       "      <td>...</td>\n",
       "      <td>Missing</td>\n",
       "      <td>Missing</td>\n",
       "      <td>Missing</td>\n",
       "      <td>Missing</td>\n",
       "      <td>Missing</td>\n",
       "      <td>Missing</td>\n",
       "      <td>72005.0</td>\n",
       "      <td>AGUADILLA</td>\n",
       "      <td>PR</td>\n",
       "      <td>30 - 39 Years</td>\n",
       "    </tr>\n",
       "    <tr>\n",
       "      <th>2</th>\n",
       "      <td>Unknown</td>\n",
       "      <td>Laboratory-confirmed case</td>\n",
       "      <td>2020-09-13</td>\n",
       "      <td>Female</td>\n",
       "      <td>NaN</td>\n",
       "      <td>NaN</td>\n",
       "      <td>Missing</td>\n",
       "      <td>Missing</td>\n",
       "      <td>Missing</td>\n",
       "      <td>Missing</td>\n",
       "      <td>...</td>\n",
       "      <td>Missing</td>\n",
       "      <td>Missing</td>\n",
       "      <td>Missing</td>\n",
       "      <td>Missing</td>\n",
       "      <td>Missing</td>\n",
       "      <td>Missing</td>\n",
       "      <td>72005.0</td>\n",
       "      <td>AGUADILLA</td>\n",
       "      <td>PR</td>\n",
       "      <td>30 - 39 Years</td>\n",
       "    </tr>\n",
       "    <tr>\n",
       "      <th>3</th>\n",
       "      <td>Unknown</td>\n",
       "      <td>Laboratory-confirmed case</td>\n",
       "      <td>2020-07-31</td>\n",
       "      <td>Female</td>\n",
       "      <td>NaN</td>\n",
       "      <td>NaN</td>\n",
       "      <td>Missing</td>\n",
       "      <td>Missing</td>\n",
       "      <td>Missing</td>\n",
       "      <td>Missing</td>\n",
       "      <td>...</td>\n",
       "      <td>Missing</td>\n",
       "      <td>Missing</td>\n",
       "      <td>Missing</td>\n",
       "      <td>Missing</td>\n",
       "      <td>Missing</td>\n",
       "      <td>Missing</td>\n",
       "      <td>72005.0</td>\n",
       "      <td>AGUADILLA</td>\n",
       "      <td>PR</td>\n",
       "      <td>30 - 39 Years</td>\n",
       "    </tr>\n",
       "    <tr>\n",
       "      <th>4</th>\n",
       "      <td>Unknown</td>\n",
       "      <td>Laboratory-confirmed case</td>\n",
       "      <td>2020-10-01</td>\n",
       "      <td>Female</td>\n",
       "      <td>NaN</td>\n",
       "      <td>NaN</td>\n",
       "      <td>Missing</td>\n",
       "      <td>Missing</td>\n",
       "      <td>Missing</td>\n",
       "      <td>Missing</td>\n",
       "      <td>...</td>\n",
       "      <td>Missing</td>\n",
       "      <td>Missing</td>\n",
       "      <td>Missing</td>\n",
       "      <td>Missing</td>\n",
       "      <td>Missing</td>\n",
       "      <td>Missing</td>\n",
       "      <td>72005.0</td>\n",
       "      <td>AGUADILLA</td>\n",
       "      <td>PR</td>\n",
       "      <td>30 - 39 Years</td>\n",
       "    </tr>\n",
       "  </tbody>\n",
       "</table>\n",
       "<p>5 rows × 31 columns</p>\n",
       "</div>"
      ],
      "text/plain": [
       "  race_ethnicity_combined             current_status cdc_report_dt     sex  \\\n",
       "0                 Unknown  Laboratory-confirmed case    2020-09-15  Female   \n",
       "1                 Unknown  Laboratory-confirmed case    2020-09-27  Female   \n",
       "2                 Unknown  Laboratory-confirmed case    2020-09-13  Female   \n",
       "3                 Unknown  Laboratory-confirmed case    2020-07-31  Female   \n",
       "4                 Unknown  Laboratory-confirmed case    2020-10-01  Female   \n",
       "\n",
       "  onset_dt pos_spec_dt  hosp_yn   icu_yn death_yn hc_work_yn  ...   sob_yn  \\\n",
       "0      NaN         NaN  Missing  Missing  Missing    Missing  ...  Missing   \n",
       "1      NaN         NaN  Missing  Missing  Missing    Missing  ...  Missing   \n",
       "2      NaN         NaN  Missing  Missing  Missing    Missing  ...  Missing   \n",
       "3      NaN         NaN  Missing  Missing  Missing    Missing  ...  Missing   \n",
       "4      NaN         NaN  Missing  Missing  Missing    Missing  ...  Missing   \n",
       "\n",
       "  nauseavomit_yn headache_yn abdom_yn diarrhea_yn medcond_yn county_fips_code  \\\n",
       "0        Missing     Missing  Missing     Missing    Missing          72005.0   \n",
       "1        Missing     Missing  Missing     Missing    Missing          72005.0   \n",
       "2        Missing     Missing  Missing     Missing    Missing          72005.0   \n",
       "3        Missing     Missing  Missing     Missing    Missing          72005.0   \n",
       "4        Missing     Missing  Missing     Missing    Missing          72005.0   \n",
       "\n",
       "  res_county res_state      age_group  \n",
       "0  AGUADILLA        PR  30 - 39 Years  \n",
       "1  AGUADILLA        PR  30 - 39 Years  \n",
       "2  AGUADILLA        PR  30 - 39 Years  \n",
       "3  AGUADILLA        PR  30 - 39 Years  \n",
       "4  AGUADILLA        PR  30 - 39 Years  \n",
       "\n",
       "[5 rows x 31 columns]"
      ]
     },
     "execution_count": 3,
     "metadata": {},
     "output_type": "execute_result"
    }
   ],
   "source": [
    "df_dec = pd.read_csv(r'~/Desktop/covid/COVID_Cases_Restricted_Detailed_12042020.csv')\n",
    "df_dec.head()"
   ]
  },
  {
   "cell_type": "code",
   "execution_count": 4,
   "metadata": {},
   "outputs": [
    {
     "data": {
      "text/html": [
       "<div>\n",
       "<style scoped>\n",
       "    .dataframe tbody tr th:only-of-type {\n",
       "        vertical-align: middle;\n",
       "    }\n",
       "\n",
       "    .dataframe tbody tr th {\n",
       "        vertical-align: top;\n",
       "    }\n",
       "\n",
       "    .dataframe thead th {\n",
       "        text-align: right;\n",
       "    }\n",
       "</style>\n",
       "<table border=\"1\" class=\"dataframe\">\n",
       "  <thead>\n",
       "    <tr style=\"text-align: right;\">\n",
       "      <th></th>\n",
       "      <th>race_ethnicity_combined</th>\n",
       "      <th>current_status</th>\n",
       "      <th>cdc_report_dt</th>\n",
       "      <th>sex</th>\n",
       "      <th>onset_dt</th>\n",
       "      <th>pos_spec_dt</th>\n",
       "      <th>hosp_yn</th>\n",
       "      <th>icu_yn</th>\n",
       "      <th>death_yn</th>\n",
       "      <th>hc_work_yn</th>\n",
       "      <th>...</th>\n",
       "      <th>sob_yn</th>\n",
       "      <th>nauseavomit_yn</th>\n",
       "      <th>headache_yn</th>\n",
       "      <th>abdom_yn</th>\n",
       "      <th>diarrhea_yn</th>\n",
       "      <th>medcond_yn</th>\n",
       "      <th>county_fips_code</th>\n",
       "      <th>res_county</th>\n",
       "      <th>res_state</th>\n",
       "      <th>age_group</th>\n",
       "    </tr>\n",
       "  </thead>\n",
       "  <tbody>\n",
       "    <tr>\n",
       "      <th>7</th>\n",
       "      <td>NaN</td>\n",
       "      <td>Laboratory-confirmed case</td>\n",
       "      <td>2020-08-17</td>\n",
       "      <td>NaN</td>\n",
       "      <td>2020-07-25</td>\n",
       "      <td>2020-07-27</td>\n",
       "      <td>Yes</td>\n",
       "      <td>Yes</td>\n",
       "      <td>No</td>\n",
       "      <td>NaN</td>\n",
       "      <td>...</td>\n",
       "      <td>Missing</td>\n",
       "      <td>Yes</td>\n",
       "      <td>Yes</td>\n",
       "      <td>Missing</td>\n",
       "      <td>Yes</td>\n",
       "      <td>Yes</td>\n",
       "      <td>72005.0</td>\n",
       "      <td>AGUADILLA</td>\n",
       "      <td>PR</td>\n",
       "      <td>50 - 59 Years</td>\n",
       "    </tr>\n",
       "    <tr>\n",
       "      <th>49</th>\n",
       "      <td>Unknown</td>\n",
       "      <td>Laboratory-confirmed case</td>\n",
       "      <td>2020-11-10</td>\n",
       "      <td>Female</td>\n",
       "      <td>NaN</td>\n",
       "      <td>2020-11-01</td>\n",
       "      <td>Missing</td>\n",
       "      <td>Missing</td>\n",
       "      <td>Yes</td>\n",
       "      <td>Missing</td>\n",
       "      <td>...</td>\n",
       "      <td>Missing</td>\n",
       "      <td>Missing</td>\n",
       "      <td>Missing</td>\n",
       "      <td>Missing</td>\n",
       "      <td>Missing</td>\n",
       "      <td>Missing</td>\n",
       "      <td>39007.0</td>\n",
       "      <td>ASHTABULA</td>\n",
       "      <td>OH</td>\n",
       "      <td>80+ Years</td>\n",
       "    </tr>\n",
       "    <tr>\n",
       "      <th>55</th>\n",
       "      <td>Unknown</td>\n",
       "      <td>Laboratory-confirmed case</td>\n",
       "      <td>2020-05-11</td>\n",
       "      <td>Female</td>\n",
       "      <td>NaN</td>\n",
       "      <td>NaN</td>\n",
       "      <td>No</td>\n",
       "      <td>No</td>\n",
       "      <td>No</td>\n",
       "      <td>Missing</td>\n",
       "      <td>...</td>\n",
       "      <td>Missing</td>\n",
       "      <td>Missing</td>\n",
       "      <td>Missing</td>\n",
       "      <td>Missing</td>\n",
       "      <td>Missing</td>\n",
       "      <td>Yes</td>\n",
       "      <td>39007.0</td>\n",
       "      <td>ASHTABULA</td>\n",
       "      <td>OH</td>\n",
       "      <td>80+ Years</td>\n",
       "    </tr>\n",
       "    <tr>\n",
       "      <th>56</th>\n",
       "      <td>Unknown</td>\n",
       "      <td>Laboratory-confirmed case</td>\n",
       "      <td>2020-05-11</td>\n",
       "      <td>Female</td>\n",
       "      <td>NaN</td>\n",
       "      <td>NaN</td>\n",
       "      <td>No</td>\n",
       "      <td>No</td>\n",
       "      <td>No</td>\n",
       "      <td>Missing</td>\n",
       "      <td>...</td>\n",
       "      <td>Missing</td>\n",
       "      <td>Yes</td>\n",
       "      <td>Missing</td>\n",
       "      <td>Missing</td>\n",
       "      <td>Missing</td>\n",
       "      <td>Yes</td>\n",
       "      <td>39007.0</td>\n",
       "      <td>ASHTABULA</td>\n",
       "      <td>OH</td>\n",
       "      <td>80+ Years</td>\n",
       "    </tr>\n",
       "    <tr>\n",
       "      <th>58</th>\n",
       "      <td>Unknown</td>\n",
       "      <td>Laboratory-confirmed case</td>\n",
       "      <td>2020-05-11</td>\n",
       "      <td>Female</td>\n",
       "      <td>NaN</td>\n",
       "      <td>NaN</td>\n",
       "      <td>No</td>\n",
       "      <td>No</td>\n",
       "      <td>No</td>\n",
       "      <td>Missing</td>\n",
       "      <td>...</td>\n",
       "      <td>Missing</td>\n",
       "      <td>Missing</td>\n",
       "      <td>Missing</td>\n",
       "      <td>Missing</td>\n",
       "      <td>Missing</td>\n",
       "      <td>Yes</td>\n",
       "      <td>39007.0</td>\n",
       "      <td>ASHTABULA</td>\n",
       "      <td>OH</td>\n",
       "      <td>80+ Years</td>\n",
       "    </tr>\n",
       "  </tbody>\n",
       "</table>\n",
       "<p>5 rows × 31 columns</p>\n",
       "</div>"
      ],
      "text/plain": [
       "   race_ethnicity_combined             current_status cdc_report_dt     sex  \\\n",
       "7                      NaN  Laboratory-confirmed case    2020-08-17     NaN   \n",
       "49                 Unknown  Laboratory-confirmed case    2020-11-10  Female   \n",
       "55                 Unknown  Laboratory-confirmed case    2020-05-11  Female   \n",
       "56                 Unknown  Laboratory-confirmed case    2020-05-11  Female   \n",
       "58                 Unknown  Laboratory-confirmed case    2020-05-11  Female   \n",
       "\n",
       "      onset_dt pos_spec_dt  hosp_yn   icu_yn death_yn hc_work_yn  ...  \\\n",
       "7   2020-07-25  2020-07-27      Yes      Yes       No        NaN  ...   \n",
       "49         NaN  2020-11-01  Missing  Missing      Yes    Missing  ...   \n",
       "55         NaN         NaN       No       No       No    Missing  ...   \n",
       "56         NaN         NaN       No       No       No    Missing  ...   \n",
       "58         NaN         NaN       No       No       No    Missing  ...   \n",
       "\n",
       "     sob_yn nauseavomit_yn headache_yn abdom_yn diarrhea_yn medcond_yn  \\\n",
       "7   Missing            Yes         Yes  Missing         Yes        Yes   \n",
       "49  Missing        Missing     Missing  Missing     Missing    Missing   \n",
       "55  Missing        Missing     Missing  Missing     Missing        Yes   \n",
       "56  Missing            Yes     Missing  Missing     Missing        Yes   \n",
       "58  Missing        Missing     Missing  Missing     Missing        Yes   \n",
       "\n",
       "   county_fips_code res_county res_state      age_group  \n",
       "7           72005.0  AGUADILLA        PR  50 - 59 Years  \n",
       "49          39007.0  ASHTABULA        OH      80+ Years  \n",
       "55          39007.0  ASHTABULA        OH      80+ Years  \n",
       "56          39007.0  ASHTABULA        OH      80+ Years  \n",
       "58          39007.0  ASHTABULA        OH      80+ Years  \n",
       "\n",
       "[5 rows x 31 columns]"
      ]
     },
     "execution_count": 4,
     "metadata": {},
     "output_type": "execute_result"
    }
   ],
   "source": [
    "death_df = df_dec.loc[(df_dec['death_yn'] == 'Yes') | (df_dec['death_yn'] == 'No')]\n",
    "death_df.head()"
   ]
  },
  {
   "cell_type": "code",
   "execution_count": 5,
   "metadata": {},
   "outputs": [
    {
     "name": "stdout",
     "output_type": "stream",
     "text": [
      "    death_yn_No  death_yn_Yes  death_yn_nan  \\\n",
      "7             1             0             0   \n",
      "49            0             1             0   \n",
      "55            1             0             0   \n",
      "56            1             0             0   \n",
      "58            1             0             0   \n",
      "\n",
      "    race_ethnicity_combined_American Indian/Alaska Native, Non-Hispanic  \\\n",
      "7                                                   0                     \n",
      "49                                                  0                     \n",
      "55                                                  0                     \n",
      "56                                                  0                     \n",
      "58                                                  0                     \n",
      "\n",
      "    race_ethnicity_combined_Asian, Non-Hispanic  \\\n",
      "7                                             0   \n",
      "49                                            0   \n",
      "55                                            0   \n",
      "56                                            0   \n",
      "58                                            0   \n",
      "\n",
      "    race_ethnicity_combined_Black, Non-Hispanic  \\\n",
      "7                                             0   \n",
      "49                                            0   \n",
      "55                                            0   \n",
      "56                                            0   \n",
      "58                                            0   \n",
      "\n",
      "    race_ethnicity_combined_Hispanic/Latino  race_ethnicity_combined_Missing  \\\n",
      "7                                         0                                0   \n",
      "49                                        0                                0   \n",
      "55                                        0                                0   \n",
      "56                                        0                                0   \n",
      "58                                        0                                0   \n",
      "\n",
      "    race_ethnicity_combined_Multiple/Other, Non-Hispanic   \\\n",
      "7                                                   0       \n",
      "49                                                  0       \n",
      "55                                                  0       \n",
      "56                                                  0       \n",
      "58                                                  0       \n",
      "\n",
      "    race_ethnicity_combined_Native Hawaiian/Other Pacific Islander, Non-Hispanic  \\\n",
      "7                                                   0                              \n",
      "49                                                  0                              \n",
      "55                                                  0                              \n",
      "56                                                  0                              \n",
      "58                                                  0                              \n",
      "\n",
      "    race_ethnicity_combined_Unknown  \\\n",
      "7                                 0   \n",
      "49                                1   \n",
      "55                                1   \n",
      "56                                1   \n",
      "58                                1   \n",
      "\n",
      "    race_ethnicity_combined_White, Non-Hispanic  race_ethnicity_combined_nan  \\\n",
      "7                                             0                            1   \n",
      "49                                            0                            0   \n",
      "55                                            0                            0   \n",
      "56                                            0                            0   \n",
      "58                                            0                            0   \n",
      "\n",
      "    age_group_0 - 9 Years  age_group_10 - 19 Years  age_group_20 - 29 Years  \\\n",
      "7                       0                        0                        0   \n",
      "49                      0                        0                        0   \n",
      "55                      0                        0                        0   \n",
      "56                      0                        0                        0   \n",
      "58                      0                        0                        0   \n",
      "\n",
      "    age_group_30 - 39 Years  age_group_40 - 49 Years  age_group_50 - 59 Years  \\\n",
      "7                         0                        0                        1   \n",
      "49                        0                        0                        0   \n",
      "55                        0                        0                        0   \n",
      "56                        0                        0                        0   \n",
      "58                        0                        0                        0   \n",
      "\n",
      "    age_group_60 - 69 Years  age_group_70 - 79 Years  age_group_80+ Years  \\\n",
      "7                         0                        0                    0   \n",
      "49                        0                        0                    1   \n",
      "55                        0                        0                    1   \n",
      "56                        0                        0                    1   \n",
      "58                        0                        0                    1   \n",
      "\n",
      "    age_group_Unknown  age_group_nan  sex_Female  sex_Male  sex_Missing  \\\n",
      "7                   0              0           0         0            0   \n",
      "49                  0              0           1         0            0   \n",
      "55                  0              0           1         0            0   \n",
      "56                  0              0           1         0            0   \n",
      "58                  0              0           1         0            0   \n",
      "\n",
      "    sex_Other  sex_Unknown  sex_nan  hosp_yn_Missing  hosp_yn_No  \\\n",
      "7           0            0        1                0           0   \n",
      "49          0            0        0                1           0   \n",
      "55          0            0        0                0           1   \n",
      "56          0            0        0                0           1   \n",
      "58          0            0        0                0           1   \n",
      "\n",
      "    hosp_yn_Unknown  hosp_yn_Yes  hosp_yn_nan  icu_yn_Missing  icu_yn_No  \\\n",
      "7                 0            1            0               0          0   \n",
      "49                0            0            0               1          0   \n",
      "55                0            0            0               0          1   \n",
      "56                0            0            0               0          1   \n",
      "58                0            0            0               0          1   \n",
      "\n",
      "    icu_yn_Unknown  icu_yn_Yes  icu_yn_nan  hc_work_yn_Missing  hc_work_yn_No  \\\n",
      "7                0           1           0                   0              0   \n",
      "49               0           0           0                   1              0   \n",
      "55               0           0           0                   1              0   \n",
      "56               0           0           0                   1              0   \n",
      "58               0           0           0                   1              0   \n",
      "\n",
      "    hc_work_yn_Unknown  hc_work_yn_Yes  hc_work_yn_nan  pna_yn_Missing  \\\n",
      "7                    0               0               1               0   \n",
      "49                   0               0               0               1   \n",
      "55                   0               0               0               1   \n",
      "56                   0               0               0               0   \n",
      "58                   0               0               0               1   \n",
      "\n",
      "    pna_yn_No  pna_yn_Unknown  pna_yn_Yes  pna_yn_nan  abxchest_yn_Missing  \\\n",
      "7           0               0           1           0                    0   \n",
      "49          0               0           0           0                    1   \n",
      "55          0               0           0           0                    1   \n",
      "56          1               0           0           0                    1   \n",
      "58          0               0           0           0                    1   \n",
      "\n",
      "    abxchest_yn_No  abxchest_yn_Unknown  abxchest_yn_Yes  abxchest_yn_nan  \\\n",
      "7                0                    0                1                0   \n",
      "49               0                    0                0                0   \n",
      "55               0                    0                0                0   \n",
      "56               0                    0                0                0   \n",
      "58               0                    0                0                0   \n",
      "\n",
      "    acuterespdistress_yn_Missing  acuterespdistress_yn_No  \\\n",
      "7                              0                        0   \n",
      "49                             1                        0   \n",
      "55                             1                        0   \n",
      "56                             1                        0   \n",
      "58                             1                        0   \n",
      "\n",
      "    acuterespdistress_yn_Unknown  acuterespdistress_yn_Yes  \\\n",
      "7                              0                         1   \n",
      "49                             0                         0   \n",
      "55                             0                         0   \n",
      "56                             0                         0   \n",
      "58                             0                         0   \n",
      "\n",
      "    acuterespdistress_yn_nan  mechvent_yn_Missing  mechvent_yn_No  \\\n",
      "7                          0                    0               1   \n",
      "49                         0                    1               0   \n",
      "55                         0                    1               0   \n",
      "56                         0                    1               0   \n",
      "58                         0                    1               0   \n",
      "\n",
      "    mechvent_yn_Unknown  mechvent_yn_Yes  mechvent_yn_nan  fever_yn_Missing  \\\n",
      "7                     0                0                0                 0   \n",
      "49                    0                0                0                 1   \n",
      "55                    0                0                0                 1   \n",
      "56                    0                0                0                 1   \n",
      "58                    0                0                0                 1   \n",
      "\n",
      "    fever_yn_No  fever_yn_Unknown  fever_yn_Yes  fever_yn_nan  \\\n",
      "7             0                 0             1             0   \n",
      "49            0                 0             0             0   \n",
      "55            0                 0             0             0   \n",
      "56            0                 0             0             0   \n",
      "58            0                 0             0             0   \n",
      "\n",
      "    sfever_yn_Missing  sfever_yn_No  sfever_yn_Unknown  sfever_yn_Yes  \\\n",
      "7                   1             0                  0              0   \n",
      "49                  1             0                  0              0   \n",
      "55                  1             0                  0              0   \n",
      "56                  1             0                  0              0   \n",
      "58                  1             0                  0              0   \n",
      "\n",
      "    sfever_yn_nan  chills_yn_Missing  chills_yn_No  chills_yn_Unknown  \\\n",
      "7               0                  1             0                  0   \n",
      "49              0                  1             0                  0   \n",
      "55              0                  1             0                  0   \n",
      "56              0                  1             0                  0   \n",
      "58              0                  1             0                  0   \n",
      "\n",
      "    chills_yn_Yes  chills_yn_nan  myalgia_yn_Missing  myalgia_yn_No  \\\n",
      "7               0              0                   0              0   \n",
      "49              0              0                   1              0   \n",
      "55              0              0                   1              0   \n",
      "56              0              0                   1              0   \n",
      "58              0              0                   1              0   \n",
      "\n",
      "    myalgia_yn_Unknown  myalgia_yn_Yes  myalgia_yn_nan  runnose_yn_Missing  \\\n",
      "7                    0               1               0                   1   \n",
      "49                   0               0               0                   1   \n",
      "55                   0               0               0                   1   \n",
      "56                   0               0               0                   1   \n",
      "58                   0               0               0                   1   \n",
      "\n",
      "    runnose_yn_No  runnose_yn_Unknown  runnose_yn_Yes  runnose_yn_nan  \\\n",
      "7               0                   0               0               0   \n",
      "49              0                   0               0               0   \n",
      "55              0                   0               0               0   \n",
      "56              0                   0               0               0   \n",
      "58              0                   0               0               0   \n",
      "\n",
      "    sthroat_yn_Missing  sthroat_yn_No  sthroat_yn_Unknown  sthroat_yn_Yes  \\\n",
      "7                    1              0                   0               0   \n",
      "49                   1              0                   0               0   \n",
      "55                   1              0                   0               0   \n",
      "56                   1              0                   0               0   \n",
      "58                   1              0                   0               0   \n",
      "\n",
      "    sthroat_yn_nan  cough_yn_Missing  cough_yn_No  cough_yn_Unknown  \\\n",
      "7                0                 0            0                 0   \n",
      "49               0                 1            0                 0   \n",
      "55               0                 1            0                 0   \n",
      "56               0                 1            0                 0   \n",
      "58               0                 1            0                 0   \n",
      "\n",
      "    cough_yn_Yes  cough_yn_nan  sob_yn_Missing  sob_yn_No  sob_yn_Unknown  \\\n",
      "7              1             0               1          0               0   \n",
      "49             0             0               1          0               0   \n",
      "55             0             0               1          0               0   \n",
      "56             0             0               1          0               0   \n",
      "58             0             0               1          0               0   \n",
      "\n",
      "    sob_yn_Yes  sob_yn_nan  nauseavomit_yn_Missing  nauseavomit_yn_No  \\\n",
      "7            0           0                       0                  0   \n",
      "49           0           0                       1                  0   \n",
      "55           0           0                       1                  0   \n",
      "56           0           0                       0                  0   \n",
      "58           0           0                       1                  0   \n",
      "\n",
      "    nauseavomit_yn_Unknown  nauseavomit_yn_Yes  nauseavomit_yn_nan  \\\n",
      "7                        0                   1                   0   \n",
      "49                       0                   0                   0   \n",
      "55                       0                   0                   0   \n",
      "56                       0                   1                   0   \n",
      "58                       0                   0                   0   \n",
      "\n",
      "    headache_yn_Missing  headache_yn_No  headache_yn_Unknown  headache_yn_Yes  \\\n",
      "7                     0               0                    0                1   \n",
      "49                    1               0                    0                0   \n",
      "55                    1               0                    0                0   \n",
      "56                    1               0                    0                0   \n",
      "58                    1               0                    0                0   \n",
      "\n",
      "    headache_yn_nan  abdom_yn_Missing  abdom_yn_No  abdom_yn_Unknown  \\\n",
      "7                 0                 1            0                 0   \n",
      "49                0                 1            0                 0   \n",
      "55                0                 1            0                 0   \n",
      "56                0                 1            0                 0   \n",
      "58                0                 1            0                 0   \n",
      "\n",
      "    abdom_yn_Yes  abdom_yn_nan  diarrhea_yn_Missing  diarrhea_yn_No  \\\n",
      "7              0             0                    0               0   \n",
      "49             0             0                    1               0   \n",
      "55             0             0                    1               0   \n",
      "56             0             0                    1               0   \n",
      "58             0             0                    1               0   \n",
      "\n",
      "    diarrhea_yn_Unknown  diarrhea_yn_Yes  diarrhea_yn_nan  medcond_yn_Missing  \\\n",
      "7                     0                1                0                   0   \n",
      "49                    0                0                0                   1   \n",
      "55                    0                0                0                   0   \n",
      "56                    0                0                0                   0   \n",
      "58                    0                0                0                   0   \n",
      "\n",
      "    medcond_yn_No  medcond_yn_Unknown  medcond_yn_Yes  medcond_yn_nan  \n",
      "7               0                   0               1               0  \n",
      "49              0                   0               0               0  \n",
      "55              0                   0               1               0  \n",
      "56              0                   0               1               0  \n",
      "58              0                   0               1               0  \n"
     ]
    }
   ],
   "source": [
    "#one hot encoding\n",
    "death_dummy = pd.get_dummies(death_df[['death_yn','race_ethnicity_combined','age_group','sex','hosp_yn','icu_yn','hc_work_yn','pna_yn','abxchest_yn','acuterespdistress_yn','mechvent_yn','fever_yn','sfever_yn','chills_yn','myalgia_yn','runnose_yn','sthroat_yn','cough_yn','sob_yn','nauseavomit_yn','headache_yn','abdom_yn','diarrhea_yn','medcond_yn']],dummy_na=True)\n",
    "\n",
    "with pd.option_context('display.max_rows', 20, 'display.max_columns', None): \n",
    "    print(death_dummy.head())"
   ]
  },
  {
   "cell_type": "code",
   "execution_count": 6,
   "metadata": {},
   "outputs": [
    {
     "data": {
      "text/html": [
       "<div>\n",
       "<style scoped>\n",
       "    .dataframe tbody tr th:only-of-type {\n",
       "        vertical-align: middle;\n",
       "    }\n",
       "\n",
       "    .dataframe tbody tr th {\n",
       "        vertical-align: top;\n",
       "    }\n",
       "\n",
       "    .dataframe thead th {\n",
       "        text-align: right;\n",
       "    }\n",
       "</style>\n",
       "<table border=\"1\" class=\"dataframe\">\n",
       "  <thead>\n",
       "    <tr style=\"text-align: right;\">\n",
       "      <th></th>\n",
       "      <th>death_yn_No</th>\n",
       "      <th>death_yn_Yes</th>\n",
       "      <th>death_yn_nan</th>\n",
       "      <th>race_ethnicity_combined_American Indian/Alaska Native, Non-Hispanic</th>\n",
       "      <th>race_ethnicity_combined_Asian, Non-Hispanic</th>\n",
       "      <th>race_ethnicity_combined_Black, Non-Hispanic</th>\n",
       "      <th>race_ethnicity_combined_Hispanic/Latino</th>\n",
       "      <th>race_ethnicity_combined_Missing</th>\n",
       "      <th>race_ethnicity_combined_Multiple/Other, Non-Hispanic</th>\n",
       "      <th>race_ethnicity_combined_Native Hawaiian/Other Pacific Islander, Non-Hispanic</th>\n",
       "      <th>...</th>\n",
       "      <th>death_myalgia_missing_combined</th>\n",
       "      <th>death_runnose_missing_combined</th>\n",
       "      <th>death_sthroat_missing_combined</th>\n",
       "      <th>death_cough_missing_combined</th>\n",
       "      <th>death_sob_missing_combined</th>\n",
       "      <th>death_nauseavomit_missing_combined</th>\n",
       "      <th>death_headache_missing_combined</th>\n",
       "      <th>death_abdom_missing_combined</th>\n",
       "      <th>death_diarrhea_missing_combined</th>\n",
       "      <th>death_medcond_missing_combined</th>\n",
       "    </tr>\n",
       "  </thead>\n",
       "  <tbody>\n",
       "    <tr>\n",
       "      <th>7</th>\n",
       "      <td>1</td>\n",
       "      <td>0</td>\n",
       "      <td>0</td>\n",
       "      <td>0</td>\n",
       "      <td>0</td>\n",
       "      <td>0</td>\n",
       "      <td>0</td>\n",
       "      <td>0</td>\n",
       "      <td>0</td>\n",
       "      <td>0</td>\n",
       "      <td>...</td>\n",
       "      <td>0</td>\n",
       "      <td>1</td>\n",
       "      <td>0</td>\n",
       "      <td>0</td>\n",
       "      <td>1</td>\n",
       "      <td>0</td>\n",
       "      <td>0</td>\n",
       "      <td>1</td>\n",
       "      <td>0</td>\n",
       "      <td>0</td>\n",
       "    </tr>\n",
       "    <tr>\n",
       "      <th>49</th>\n",
       "      <td>0</td>\n",
       "      <td>1</td>\n",
       "      <td>0</td>\n",
       "      <td>0</td>\n",
       "      <td>0</td>\n",
       "      <td>0</td>\n",
       "      <td>0</td>\n",
       "      <td>0</td>\n",
       "      <td>0</td>\n",
       "      <td>0</td>\n",
       "      <td>...</td>\n",
       "      <td>1</td>\n",
       "      <td>1</td>\n",
       "      <td>1</td>\n",
       "      <td>1</td>\n",
       "      <td>1</td>\n",
       "      <td>1</td>\n",
       "      <td>1</td>\n",
       "      <td>1</td>\n",
       "      <td>1</td>\n",
       "      <td>1</td>\n",
       "    </tr>\n",
       "    <tr>\n",
       "      <th>55</th>\n",
       "      <td>1</td>\n",
       "      <td>0</td>\n",
       "      <td>0</td>\n",
       "      <td>0</td>\n",
       "      <td>0</td>\n",
       "      <td>0</td>\n",
       "      <td>0</td>\n",
       "      <td>0</td>\n",
       "      <td>0</td>\n",
       "      <td>0</td>\n",
       "      <td>...</td>\n",
       "      <td>1</td>\n",
       "      <td>1</td>\n",
       "      <td>1</td>\n",
       "      <td>1</td>\n",
       "      <td>1</td>\n",
       "      <td>1</td>\n",
       "      <td>1</td>\n",
       "      <td>1</td>\n",
       "      <td>1</td>\n",
       "      <td>0</td>\n",
       "    </tr>\n",
       "    <tr>\n",
       "      <th>56</th>\n",
       "      <td>1</td>\n",
       "      <td>0</td>\n",
       "      <td>0</td>\n",
       "      <td>0</td>\n",
       "      <td>0</td>\n",
       "      <td>0</td>\n",
       "      <td>0</td>\n",
       "      <td>0</td>\n",
       "      <td>0</td>\n",
       "      <td>0</td>\n",
       "      <td>...</td>\n",
       "      <td>1</td>\n",
       "      <td>1</td>\n",
       "      <td>0</td>\n",
       "      <td>1</td>\n",
       "      <td>1</td>\n",
       "      <td>0</td>\n",
       "      <td>1</td>\n",
       "      <td>1</td>\n",
       "      <td>1</td>\n",
       "      <td>0</td>\n",
       "    </tr>\n",
       "    <tr>\n",
       "      <th>58</th>\n",
       "      <td>1</td>\n",
       "      <td>0</td>\n",
       "      <td>0</td>\n",
       "      <td>0</td>\n",
       "      <td>0</td>\n",
       "      <td>0</td>\n",
       "      <td>0</td>\n",
       "      <td>0</td>\n",
       "      <td>0</td>\n",
       "      <td>0</td>\n",
       "      <td>...</td>\n",
       "      <td>1</td>\n",
       "      <td>1</td>\n",
       "      <td>1</td>\n",
       "      <td>1</td>\n",
       "      <td>1</td>\n",
       "      <td>1</td>\n",
       "      <td>1</td>\n",
       "      <td>1</td>\n",
       "      <td>1</td>\n",
       "      <td>0</td>\n",
       "    </tr>\n",
       "  </tbody>\n",
       "</table>\n",
       "<p>5 rows × 153 columns</p>\n",
       "</div>"
      ],
      "text/plain": [
       "    death_yn_No  death_yn_Yes  death_yn_nan  \\\n",
       "7             1             0             0   \n",
       "49            0             1             0   \n",
       "55            1             0             0   \n",
       "56            1             0             0   \n",
       "58            1             0             0   \n",
       "\n",
       "    race_ethnicity_combined_American Indian/Alaska Native, Non-Hispanic  \\\n",
       "7                                                   0                     \n",
       "49                                                  0                     \n",
       "55                                                  0                     \n",
       "56                                                  0                     \n",
       "58                                                  0                     \n",
       "\n",
       "    race_ethnicity_combined_Asian, Non-Hispanic  \\\n",
       "7                                             0   \n",
       "49                                            0   \n",
       "55                                            0   \n",
       "56                                            0   \n",
       "58                                            0   \n",
       "\n",
       "    race_ethnicity_combined_Black, Non-Hispanic  \\\n",
       "7                                             0   \n",
       "49                                            0   \n",
       "55                                            0   \n",
       "56                                            0   \n",
       "58                                            0   \n",
       "\n",
       "    race_ethnicity_combined_Hispanic/Latino  race_ethnicity_combined_Missing  \\\n",
       "7                                         0                                0   \n",
       "49                                        0                                0   \n",
       "55                                        0                                0   \n",
       "56                                        0                                0   \n",
       "58                                        0                                0   \n",
       "\n",
       "    race_ethnicity_combined_Multiple/Other, Non-Hispanic   \\\n",
       "7                                                   0       \n",
       "49                                                  0       \n",
       "55                                                  0       \n",
       "56                                                  0       \n",
       "58                                                  0       \n",
       "\n",
       "    race_ethnicity_combined_Native Hawaiian/Other Pacific Islander, Non-Hispanic  \\\n",
       "7                                                   0                              \n",
       "49                                                  0                              \n",
       "55                                                  0                              \n",
       "56                                                  0                              \n",
       "58                                                  0                              \n",
       "\n",
       "    ...  death_myalgia_missing_combined  death_runnose_missing_combined  \\\n",
       "7   ...                               0                               1   \n",
       "49  ...                               1                               1   \n",
       "55  ...                               1                               1   \n",
       "56  ...                               1                               1   \n",
       "58  ...                               1                               1   \n",
       "\n",
       "    death_sthroat_missing_combined  death_cough_missing_combined  \\\n",
       "7                                0                             0   \n",
       "49                               1                             1   \n",
       "55                               1                             1   \n",
       "56                               0                             1   \n",
       "58                               1                             1   \n",
       "\n",
       "    death_sob_missing_combined  death_nauseavomit_missing_combined  \\\n",
       "7                            1                                   0   \n",
       "49                           1                                   1   \n",
       "55                           1                                   1   \n",
       "56                           1                                   0   \n",
       "58                           1                                   1   \n",
       "\n",
       "    death_headache_missing_combined  death_abdom_missing_combined  \\\n",
       "7                                 0                             1   \n",
       "49                                1                             1   \n",
       "55                                1                             1   \n",
       "56                                1                             1   \n",
       "58                                1                             1   \n",
       "\n",
       "    death_diarrhea_missing_combined  death_medcond_missing_combined  \n",
       "7                                 0                               0  \n",
       "49                                1                               1  \n",
       "55                                1                               0  \n",
       "56                                1                               0  \n",
       "58                                1                               0  \n",
       "\n",
       "[5 rows x 153 columns]"
      ]
     },
     "execution_count": 6,
     "metadata": {},
     "output_type": "execute_result"
    }
   ],
   "source": [
    "death_dummy_race_missing =death_dummy['race_ethnicity_combined_Missing']+ death_dummy['race_ethnicity_combined_Unknown']+death_dummy['race_ethnicity_combined_nan']\n",
    "death_dummy['death_race_missing_combined'] = death_dummy_race_missing \n",
    "death_dummy_age_missing =death_dummy['age_group_Unknown']+ death_dummy['age_group_nan']\n",
    "death_dummy['death_age_missing_combined'] = death_dummy_age_missing \n",
    "death_dummy_sex_missing =death_dummy['sex_Missing']+ death_dummy['sex_Unknown']+death_dummy['sex_nan']\n",
    "death_dummy['death_sex_missing_combined'] = death_dummy_sex_missing \n",
    "death_dummy_hosp_missing =death_dummy['hosp_yn_Missing']+ death_dummy['hosp_yn_Unknown']+death_dummy['hosp_yn_nan']\n",
    "death_dummy['death_hosp_missing_combined'] = death_dummy_hosp_missing \n",
    "death_dummy_icu_missing =death_dummy['icu_yn_Missing']+ death_dummy['icu_yn_Unknown']+death_dummy['icu_yn_nan']\n",
    "death_dummy['death_icu_missing_combined'] = death_dummy_icu_missing \n",
    "death_dummy_hc_missing =death_dummy['hc_work_yn_Missing']+ death_dummy['hc_work_yn_Unknown']+death_dummy['hc_work_yn_nan']\n",
    "death_dummy['death_hc_missing_combined'] = death_dummy_hc_missing \n",
    "death_dummy_pna_missing =death_dummy['pna_yn_Missing']+ death_dummy['pna_yn_Unknown']+death_dummy['pna_yn_nan']\n",
    "death_dummy['death_pna_missing_combined'] = death_dummy_pna_missing\n",
    "death_dummy_abxchest_missing =death_dummy['abxchest_yn_Missing']+ death_dummy['abxchest_yn_Unknown']+death_dummy['abxchest_yn_nan']\n",
    "death_dummy['death_abxchest_missing_combined'] = death_dummy_abxchest_missing\n",
    "death_dummy_acuterespdistress_missing =death_dummy['acuterespdistress_yn_Missing']+ death_dummy['acuterespdistress_yn_Unknown']+death_dummy['acuterespdistress_yn_nan']\n",
    "death_dummy['death_acuterespdistress_missing_combined'] = death_dummy_acuterespdistress_missing\n",
    "death_dummy_mechvent_missing =death_dummy['mechvent_yn_Missing']+ death_dummy['mechvent_yn_Unknown']+death_dummy['mechvent_yn_nan']\n",
    "death_dummy['death_mechvent_missing_combined'] = death_dummy_mechvent_missing\n",
    "death_dummy_fever_missing =death_dummy['fever_yn_Missing']+ death_dummy['fever_yn_Unknown']+death_dummy['fever_yn_nan']\n",
    "death_dummy['death_fever_missing_combined'] = death_dummy_fever_missing\n",
    "death_dummy_sfever_missing =death_dummy['sfever_yn_Missing']+ death_dummy['sfever_yn_Unknown']+death_dummy['sfever_yn_nan']\n",
    "death_dummy['death_sfever_missing_combined'] = death_dummy_sfever_missing\n",
    "death_dummy_chills_missing =death_dummy['chills_yn_Missing']+ death_dummy['chills_yn_Unknown']+death_dummy['chills_yn_nan']\n",
    "death_dummy['death_chills_missing_combined'] = death_dummy_chills_missing\n",
    "death_dummy_myalgia_missing =death_dummy['myalgia_yn_Missing']+ death_dummy['myalgia_yn_Unknown']+death_dummy['myalgia_yn_nan']\n",
    "death_dummy['death_myalgia_missing_combined'] = death_dummy_myalgia_missing\n",
    "death_dummy_runnose_missing =death_dummy['runnose_yn_Missing']+ death_dummy['runnose_yn_Unknown']+death_dummy['runnose_yn_nan']\n",
    "death_dummy['death_runnose_missing_combined'] = death_dummy_runnose_missing\n",
    "death_dummy_sthroat_missing =death_dummy['pna_yn_Missing']+ death_dummy['sthroat_yn_Unknown']+death_dummy['sthroat_yn_nan']\n",
    "death_dummy['death_sthroat_missing_combined'] = death_dummy_sthroat_missing\n",
    "death_dummy_cough_missing =death_dummy['cough_yn_Missing']+ death_dummy['cough_yn_Unknown']+death_dummy['cough_yn_nan']\n",
    "death_dummy['death_cough_missing_combined'] = death_dummy_cough_missing\n",
    "death_dummy_sob_missing =death_dummy['sob_yn_Missing']+ death_dummy['sob_yn_Unknown']+death_dummy['sob_yn_nan']\n",
    "death_dummy['death_sob_missing_combined'] = death_dummy_sob_missing\n",
    "death_dummy_nauseavomit_missing =death_dummy['nauseavomit_yn_Missing']+ death_dummy['nauseavomit_yn_Unknown']+death_dummy['nauseavomit_yn_nan']\n",
    "death_dummy['death_nauseavomit_missing_combined'] = death_dummy_nauseavomit_missing\n",
    "death_dummy_headache_missing =death_dummy['headache_yn_Missing']+ death_dummy['headache_yn_Unknown']+death_dummy['headache_yn_nan']\n",
    "death_dummy['death_headache_missing_combined'] = death_dummy_headache_missing\n",
    "death_dummy_abdom_missing =death_dummy['abdom_yn_Missing']+ death_dummy['abdom_yn_Unknown']+death_dummy['abdom_yn_nan']\n",
    "death_dummy['death_abdom_missing_combined'] = death_dummy_abdom_missing\n",
    "death_dummy_diarrhea_missing =death_dummy['diarrhea_yn_Missing']+ death_dummy['diarrhea_yn_Unknown']+death_dummy['diarrhea_yn_nan']\n",
    "death_dummy['death_diarrhea_missing_combined'] = death_dummy_diarrhea_missing\n",
    "death_dummy_medcond_missing =death_dummy['medcond_yn_Missing']+ death_dummy['medcond_yn_Unknown']+death_dummy['medcond_yn_nan']\n",
    "death_dummy['death_medcond_missing_combined'] = death_dummy_medcond_missing\n",
    "death_dummy.head()"
   ]
  },
  {
   "cell_type": "code",
   "execution_count": 7,
   "metadata": {
    "scrolled": true
   },
   "outputs": [
    {
     "name": "stdout",
     "output_type": "stream",
     "text": [
      "         death_yn_No  death_yn_Yes  death_yn_nan  \\\n",
      "7                  1             0             0   \n",
      "49                 0             1             0   \n",
      "55                 1             0             0   \n",
      "56                 1             0             0   \n",
      "58                 1             0             0   \n",
      "...              ...           ...           ...   \n",
      "8405074            1             0             0   \n",
      "8405075            1             0             0   \n",
      "8405076            1             0             0   \n",
      "8405077            1             0             0   \n",
      "8405078            1             0             0   \n",
      "\n",
      "         race_ethnicity_combined_American Indian/Alaska Native, Non-Hispanic  \\\n",
      "7                                                        0                     \n",
      "49                                                       0                     \n",
      "55                                                       0                     \n",
      "56                                                       0                     \n",
      "58                                                       0                     \n",
      "...                                                    ...                     \n",
      "8405074                                                  0                     \n",
      "8405075                                                  0                     \n",
      "8405076                                                  0                     \n",
      "8405077                                                  0                     \n",
      "8405078                                                  0                     \n",
      "\n",
      "         race_ethnicity_combined_Asian, Non-Hispanic  \\\n",
      "7                                                  0   \n",
      "49                                                 0   \n",
      "55                                                 0   \n",
      "56                                                 0   \n",
      "58                                                 0   \n",
      "...                                              ...   \n",
      "8405074                                            0   \n",
      "8405075                                            0   \n",
      "8405076                                            0   \n",
      "8405077                                            0   \n",
      "8405078                                            0   \n",
      "\n",
      "         race_ethnicity_combined_Black, Non-Hispanic  \\\n",
      "7                                                  0   \n",
      "49                                                 0   \n",
      "55                                                 0   \n",
      "56                                                 0   \n",
      "58                                                 0   \n",
      "...                                              ...   \n",
      "8405074                                            0   \n",
      "8405075                                            0   \n",
      "8405076                                            0   \n",
      "8405077                                            0   \n",
      "8405078                                            0   \n",
      "\n",
      "         race_ethnicity_combined_Hispanic/Latino  \\\n",
      "7                                              0   \n",
      "49                                             0   \n",
      "55                                             0   \n",
      "56                                             0   \n",
      "58                                             0   \n",
      "...                                          ...   \n",
      "8405074                                        1   \n",
      "8405075                                        1   \n",
      "8405076                                        1   \n",
      "8405077                                        1   \n",
      "8405078                                        1   \n",
      "\n",
      "         race_ethnicity_combined_Multiple/Other, Non-Hispanic   \\\n",
      "7                                                        0       \n",
      "49                                                       0       \n",
      "55                                                       0       \n",
      "56                                                       0       \n",
      "58                                                       0       \n",
      "...                                                    ...       \n",
      "8405074                                                  0       \n",
      "8405075                                                  0       \n",
      "8405076                                                  0       \n",
      "8405077                                                  0       \n",
      "8405078                                                  0       \n",
      "\n",
      "         race_ethnicity_combined_Native Hawaiian/Other Pacific Islander, Non-Hispanic  \\\n",
      "7                                                        0                              \n",
      "49                                                       0                              \n",
      "55                                                       0                              \n",
      "56                                                       0                              \n",
      "58                                                       0                              \n",
      "...                                                    ...                              \n",
      "8405074                                                  0                              \n",
      "8405075                                                  0                              \n",
      "8405076                                                  0                              \n",
      "8405077                                                  0                              \n",
      "8405078                                                  0                              \n",
      "\n",
      "         race_ethnicity_combined_White, Non-Hispanic  age_group_0 - 9 Years  \\\n",
      "7                                                  0                      0   \n",
      "49                                                 0                      0   \n",
      "55                                                 0                      0   \n",
      "56                                                 0                      0   \n",
      "58                                                 0                      0   \n",
      "...                                              ...                    ...   \n",
      "8405074                                            0                      0   \n",
      "8405075                                            0                      0   \n",
      "8405076                                            0                      0   \n",
      "8405077                                            0                      0   \n",
      "8405078                                            0                      0   \n",
      "\n",
      "         age_group_10 - 19 Years  age_group_20 - 29 Years  \\\n",
      "7                              0                        0   \n",
      "49                             0                        0   \n",
      "55                             0                        0   \n",
      "56                             0                        0   \n",
      "58                             0                        0   \n",
      "...                          ...                      ...   \n",
      "8405074                        1                        0   \n",
      "8405075                        1                        0   \n",
      "8405076                        1                        0   \n",
      "8405077                        1                        0   \n",
      "8405078                        1                        0   \n",
      "\n",
      "         age_group_30 - 39 Years  age_group_40 - 49 Years  \\\n",
      "7                              0                        0   \n",
      "49                             0                        0   \n",
      "55                             0                        0   \n",
      "56                             0                        0   \n",
      "58                             0                        0   \n",
      "...                          ...                      ...   \n",
      "8405074                        0                        0   \n",
      "8405075                        0                        0   \n",
      "8405076                        0                        0   \n",
      "8405077                        0                        0   \n",
      "8405078                        0                        0   \n",
      "\n",
      "         age_group_50 - 59 Years  age_group_60 - 69 Years  \\\n",
      "7                              1                        0   \n",
      "49                             0                        0   \n",
      "55                             0                        0   \n",
      "56                             0                        0   \n",
      "58                             0                        0   \n",
      "...                          ...                      ...   \n",
      "8405074                        0                        0   \n",
      "8405075                        0                        0   \n",
      "8405076                        0                        0   \n",
      "8405077                        0                        0   \n",
      "8405078                        0                        0   \n",
      "\n",
      "         age_group_70 - 79 Years  age_group_80+ Years  sex_Female  sex_Male  \\\n",
      "7                              0                    0           0         0   \n",
      "49                             0                    1           1         0   \n",
      "55                             0                    1           1         0   \n",
      "56                             0                    1           1         0   \n",
      "58                             0                    1           1         0   \n",
      "...                          ...                  ...         ...       ...   \n",
      "8405074                        0                    0           0         1   \n",
      "8405075                        0                    0           0         1   \n",
      "8405076                        0                    0           0         1   \n",
      "8405077                        0                    0           0         1   \n",
      "8405078                        0                    0           0         1   \n",
      "\n",
      "         sex_Other  hosp_yn_No  hosp_yn_Yes  icu_yn_No  icu_yn_Yes  \\\n",
      "7                0           0            1          0           1   \n",
      "49               0           0            0          0           0   \n",
      "55               0           1            0          1           0   \n",
      "56               0           1            0          1           0   \n",
      "58               0           1            0          1           0   \n",
      "...            ...         ...          ...        ...         ...   \n",
      "8405074          0           1            0          0           0   \n",
      "8405075          0           1            0          0           0   \n",
      "8405076          0           0            0          0           0   \n",
      "8405077          0           1            0          0           0   \n",
      "8405078          0           1            0          0           0   \n",
      "\n",
      "         hc_work_yn_No  hc_work_yn_Yes  pna_yn_No  pna_yn_Yes  abxchest_yn_No  \\\n",
      "7                    0               0          0           1               0   \n",
      "49                   0               0          0           0               0   \n",
      "55                   0               0          0           0               0   \n",
      "56                   0               0          1           0               0   \n",
      "58                   0               0          0           0               0   \n",
      "...                ...             ...        ...         ...             ...   \n",
      "8405074              0               0          0           0               0   \n",
      "8405075              0               0          0           0               0   \n",
      "8405076              0               0          0           0               0   \n",
      "8405077              0               0          0           0               0   \n",
      "8405078              0               0          0           0               0   \n",
      "\n",
      "         abxchest_yn_Yes  acuterespdistress_yn_No  acuterespdistress_yn_Yes  \\\n",
      "7                      1                        0                         1   \n",
      "49                     0                        0                         0   \n",
      "55                     0                        0                         0   \n",
      "56                     0                        0                         0   \n",
      "58                     0                        0                         0   \n",
      "...                  ...                      ...                       ...   \n",
      "8405074                0                        0                         0   \n",
      "8405075                0                        0                         0   \n",
      "8405076                0                        0                         0   \n",
      "8405077                0                        0                         0   \n",
      "8405078                0                        0                         0   \n",
      "\n",
      "         mechvent_yn_No  mechvent_yn_Yes  fever_yn_No  fever_yn_Yes  \\\n",
      "7                     1                0            0             1   \n",
      "49                    0                0            0             0   \n",
      "55                    0                0            0             0   \n",
      "56                    0                0            0             0   \n",
      "58                    0                0            0             0   \n",
      "...                 ...              ...          ...           ...   \n",
      "8405074               0                0            0             0   \n",
      "8405075               0                0            0             0   \n",
      "8405076               0                0            0             0   \n",
      "8405077               0                0            0             0   \n",
      "8405078               0                0            0             0   \n",
      "\n",
      "         sfever_yn_No  sfever_yn_Yes  chills_yn_No  chills_yn_Yes  \\\n",
      "7                   0              0             0              0   \n",
      "49                  0              0             0              0   \n",
      "55                  0              0             0              0   \n",
      "56                  0              0             0              0   \n",
      "58                  0              0             0              0   \n",
      "...               ...            ...           ...            ...   \n",
      "8405074             0              0             0              0   \n",
      "8405075             0              0             0              0   \n",
      "8405076             0              0             0              0   \n",
      "8405077             0              0             0              0   \n",
      "8405078             0              0             0              0   \n",
      "\n",
      "         myalgia_yn_No  myalgia_yn_Yes  runnose_yn_No  runnose_yn_Yes  \\\n",
      "7                    0               1              0               0   \n",
      "49                   0               0              0               0   \n",
      "55                   0               0              0               0   \n",
      "56                   0               0              0               0   \n",
      "58                   0               0              0               0   \n",
      "...                ...             ...            ...             ...   \n",
      "8405074              0               0              0               0   \n",
      "8405075              0               0              0               0   \n",
      "8405076              0               0              0               0   \n",
      "8405077              0               0              0               0   \n",
      "8405078              0               0              0               0   \n",
      "\n",
      "         sthroat_yn_No  sthroat_yn_Yes  cough_yn_No  cough_yn_Yes  sob_yn_No  \\\n",
      "7                    0               0            0             1          0   \n",
      "49                   0               0            0             0          0   \n",
      "55                   0               0            0             0          0   \n",
      "56                   0               0            0             0          0   \n",
      "58                   0               0            0             0          0   \n",
      "...                ...             ...          ...           ...        ...   \n",
      "8405074              0               0            0             0          0   \n",
      "8405075              0               0            0             0          0   \n",
      "8405076              0               0            0             0          0   \n",
      "8405077              0               0            0             0          0   \n",
      "8405078              0               0            0             0          0   \n",
      "\n",
      "         sob_yn_Yes  nauseavomit_yn_No  nauseavomit_yn_Yes  headache_yn_No  \\\n",
      "7                 0                  0                   1               0   \n",
      "49                0                  0                   0               0   \n",
      "55                0                  0                   0               0   \n",
      "56                0                  0                   1               0   \n",
      "58                0                  0                   0               0   \n",
      "...             ...                ...                 ...             ...   \n",
      "8405074           0                  0                   0               0   \n",
      "8405075           0                  0                   0               0   \n",
      "8405076           0                  0                   0               0   \n",
      "8405077           0                  0                   0               0   \n",
      "8405078           0                  0                   0               0   \n",
      "\n",
      "         headache_yn_Yes  abdom_yn_No  abdom_yn_Yes  diarrhea_yn_No  \\\n",
      "7                      1            0             0               0   \n",
      "49                     0            0             0               0   \n",
      "55                     0            0             0               0   \n",
      "56                     0            0             0               0   \n",
      "58                     0            0             0               0   \n",
      "...                  ...          ...           ...             ...   \n",
      "8405074                0            0             0               0   \n",
      "8405075                0            0             0               0   \n",
      "8405076                0            0             0               0   \n",
      "8405077                0            0             0               0   \n",
      "8405078                0            0             0               0   \n",
      "\n",
      "         diarrhea_yn_Yes  medcond_yn_No  medcond_yn_Yes  \\\n",
      "7                      1              0               1   \n",
      "49                     0              0               0   \n",
      "55                     0              0               1   \n",
      "56                     0              0               1   \n",
      "58                     0              0               1   \n",
      "...                  ...            ...             ...   \n",
      "8405074                0              0               0   \n",
      "8405075                0              0               0   \n",
      "8405076                0              0               0   \n",
      "8405077                0              0               0   \n",
      "8405078                0              0               0   \n",
      "\n",
      "         death_race_missing_combined  death_age_missing_combined  \\\n",
      "7                                  1                           0   \n",
      "49                                 1                           0   \n",
      "55                                 1                           0   \n",
      "56                                 1                           0   \n",
      "58                                 1                           0   \n",
      "...                              ...                         ...   \n",
      "8405074                            0                           0   \n",
      "8405075                            0                           0   \n",
      "8405076                            0                           0   \n",
      "8405077                            0                           0   \n",
      "8405078                            0                           0   \n",
      "\n",
      "         death_sex_missing_combined  death_hosp_missing_combined  \\\n",
      "7                                 1                            0   \n",
      "49                                0                            1   \n",
      "55                                0                            0   \n",
      "56                                0                            0   \n",
      "58                                0                            0   \n",
      "...                             ...                          ...   \n",
      "8405074                           0                            0   \n",
      "8405075                           0                            0   \n",
      "8405076                           0                            1   \n",
      "8405077                           0                            0   \n",
      "8405078                           0                            0   \n",
      "\n",
      "         death_icu_missing_combined  death_hc_missing_combined  \\\n",
      "7                                 0                          1   \n",
      "49                                1                          1   \n",
      "55                                0                          1   \n",
      "56                                0                          1   \n",
      "58                                0                          1   \n",
      "...                             ...                        ...   \n",
      "8405074                           1                          1   \n",
      "8405075                           1                          1   \n",
      "8405076                           1                          1   \n",
      "8405077                           1                          1   \n",
      "8405078                           1                          1   \n",
      "\n",
      "         death_pna_missing_combined  death_abxchest_missing_combined  \\\n",
      "7                                 0                                0   \n",
      "49                                1                                1   \n",
      "55                                1                                1   \n",
      "56                                0                                1   \n",
      "58                                1                                1   \n",
      "...                             ...                              ...   \n",
      "8405074                           1                                1   \n",
      "8405075                           1                                1   \n",
      "8405076                           1                                1   \n",
      "8405077                           1                                1   \n",
      "8405078                           1                                1   \n",
      "\n",
      "         death_acuterespdistress_missing_combined  \\\n",
      "7                                               0   \n",
      "49                                              1   \n",
      "55                                              1   \n",
      "56                                              1   \n",
      "58                                              1   \n",
      "...                                           ...   \n",
      "8405074                                         1   \n",
      "8405075                                         1   \n",
      "8405076                                         1   \n",
      "8405077                                         1   \n",
      "8405078                                         1   \n",
      "\n",
      "         death_mechvent_missing_combined  death_fever_missing_combined  \\\n",
      "7                                      0                             0   \n",
      "49                                     1                             1   \n",
      "55                                     1                             1   \n",
      "56                                     1                             1   \n",
      "58                                     1                             1   \n",
      "...                                  ...                           ...   \n",
      "8405074                                1                             1   \n",
      "8405075                                1                             1   \n",
      "8405076                                1                             1   \n",
      "8405077                                1                             1   \n",
      "8405078                                1                             1   \n",
      "\n",
      "         death_sfever_missing_combined  death_chills_missing_combined  \\\n",
      "7                                    1                              1   \n",
      "49                                   1                              1   \n",
      "55                                   1                              1   \n",
      "56                                   1                              1   \n",
      "58                                   1                              1   \n",
      "...                                ...                            ...   \n",
      "8405074                              1                              1   \n",
      "8405075                              1                              1   \n",
      "8405076                              1                              1   \n",
      "8405077                              1                              1   \n",
      "8405078                              1                              1   \n",
      "\n",
      "         death_myalgia_missing_combined  death_runnose_missing_combined  \\\n",
      "7                                     0                               1   \n",
      "49                                    1                               1   \n",
      "55                                    1                               1   \n",
      "56                                    1                               1   \n",
      "58                                    1                               1   \n",
      "...                                 ...                             ...   \n",
      "8405074                               1                               1   \n",
      "8405075                               1                               1   \n",
      "8405076                               1                               1   \n",
      "8405077                               1                               1   \n",
      "8405078                               1                               1   \n",
      "\n",
      "         death_sthroat_missing_combined  death_cough_missing_combined  \\\n",
      "7                                     0                             0   \n",
      "49                                    1                             1   \n",
      "55                                    1                             1   \n",
      "56                                    0                             1   \n",
      "58                                    1                             1   \n",
      "...                                 ...                           ...   \n",
      "8405074                               1                             1   \n",
      "8405075                               1                             1   \n",
      "8405076                               1                             1   \n",
      "8405077                               1                             1   \n",
      "8405078                               1                             1   \n",
      "\n",
      "         death_sob_missing_combined  death_nauseavomit_missing_combined  \\\n",
      "7                                 1                                   0   \n",
      "49                                1                                   1   \n",
      "55                                1                                   1   \n",
      "56                                1                                   0   \n",
      "58                                1                                   1   \n",
      "...                             ...                                 ...   \n",
      "8405074                           1                                   1   \n",
      "8405075                           1                                   1   \n",
      "8405076                           1                                   1   \n",
      "8405077                           1                                   1   \n",
      "8405078                           1                                   1   \n",
      "\n",
      "         death_headache_missing_combined  death_abdom_missing_combined  \\\n",
      "7                                      0                             1   \n",
      "49                                     1                             1   \n",
      "55                                     1                             1   \n",
      "56                                     1                             1   \n",
      "58                                     1                             1   \n",
      "...                                  ...                           ...   \n",
      "8405074                                1                             1   \n",
      "8405075                                1                             1   \n",
      "8405076                                1                             1   \n",
      "8405077                                1                             1   \n",
      "8405078                                1                             1   \n",
      "\n",
      "         death_diarrhea_missing_combined  death_medcond_missing_combined  \n",
      "7                                      0                               0  \n",
      "49                                     1                               1  \n",
      "55                                     1                               0  \n",
      "56                                     1                               0  \n",
      "58                                     1                               0  \n",
      "...                                  ...                             ...  \n",
      "8405074                                1                               1  \n",
      "8405075                                1                               1  \n",
      "8405076                                1                               1  \n",
      "8405077                                1                               1  \n",
      "8405078                                1                               1  \n",
      "\n",
      "[3874390 rows x 85 columns]\n"
     ]
    }
   ],
   "source": [
    "death_dummy.drop(['race_ethnicity_combined_Missing','race_ethnicity_combined_Unknown','race_ethnicity_combined_nan','age_group_Unknown','age_group_nan','sex_Missing','sex_Unknown','sex_nan',\n",
    "                  'hosp_yn_Missing','hosp_yn_Unknown','hosp_yn_nan','icu_yn_Missing','icu_yn_Unknown','icu_yn_nan','hc_work_yn_Missing','hc_work_yn_Unknown','hc_work_yn_nan',\n",
    "                  'pna_yn_Missing','pna_yn_Unknown','pna_yn_nan','abxchest_yn_Missing','abxchest_yn_Unknown','abxchest_yn_nan','acuterespdistress_yn_Missing','acuterespdistress_yn_Unknown','acuterespdistress_yn_nan',\n",
    "                  'mechvent_yn_Missing','mechvent_yn_Unknown','mechvent_yn_nan','fever_yn_Missing','fever_yn_Unknown','fever_yn_nan','sfever_yn_Missing','sfever_yn_Unknown','sfever_yn_nan',\n",
    "                  'chills_yn_Missing','chills_yn_Unknown','chills_yn_nan','myalgia_yn_Missing','myalgia_yn_Unknown','myalgia_yn_nan','runnose_yn_Missing','runnose_yn_Unknown','runnose_yn_nan',\n",
    "                  'sthroat_yn_Missing','sthroat_yn_Unknown','sthroat_yn_nan','cough_yn_Missing','cough_yn_Unknown','cough_yn_nan','sob_yn_Missing','sob_yn_Unknown','sob_yn_nan',\n",
    "                  'nauseavomit_yn_Missing','nauseavomit_yn_Unknown','nauseavomit_yn_nan','headache_yn_Missing','headache_yn_Unknown','headache_yn_nan',\n",
    "                  'abdom_yn_Missing','abdom_yn_Unknown','abdom_yn_nan','diarrhea_yn_Missing','diarrhea_yn_Unknown','diarrhea_yn_nan','medcond_yn_Missing','medcond_yn_Unknown','medcond_yn_nan'],axis ='columns',inplace = True)\n",
    "\n",
    "with pd.option_context('display.max_rows', 20, 'display.max_columns', None): \n",
    "    print(death_dummy)"
   ]
  },
  {
   "cell_type": "code",
   "execution_count": 8,
   "metadata": {},
   "outputs": [],
   "source": [
    "deaths_array = death_dummy['death_yn_Yes']\n",
    "other_data = death_dummy.iloc[:,3:]"
   ]
  },
  {
   "cell_type": "code",
   "execution_count": 9,
   "metadata": {},
   "outputs": [],
   "source": [
    "X_train, X_test, y_train, y_test = train_test_split(other_data, deaths_array, test_size = 0.2)"
   ]
  },
  {
   "cell_type": "markdown",
   "metadata": {},
   "source": [
    "# Decision Tree"
   ]
  },
  {
   "cell_type": "code",
   "execution_count": 10,
   "metadata": {},
   "outputs": [],
   "source": [
    "model = tree.DecisionTreeClassifier()"
   ]
  },
  {
   "cell_type": "code",
   "execution_count": 11,
   "metadata": {
    "scrolled": true
   },
   "outputs": [
    {
     "data": {
      "text/plain": [
       "DecisionTreeClassifier()"
      ]
     },
     "execution_count": 11,
     "metadata": {},
     "output_type": "execute_result"
    }
   ],
   "source": [
    "model.fit(X_train,y_train)"
   ]
  },
  {
   "cell_type": "code",
   "execution_count": 12,
   "metadata": {},
   "outputs": [
    {
     "data": {
      "text/plain": [
       "0.9614932931377584"
      ]
     },
     "execution_count": 12,
     "metadata": {},
     "output_type": "execute_result"
    }
   ],
   "source": [
    "pred = model.predict(X_test)\n",
    "score = accuracy_score(y_test,pred)\n",
    "score"
   ]
  },
  {
   "cell_type": "code",
   "execution_count": 14,
   "metadata": {},
   "outputs": [
    {
     "name": "stderr",
     "output_type": "stream",
     "text": [
      "/Users/yogiandyobi/anaconda3/lib/python3.8/site-packages/sklearn/base.py:209: FutureWarning: From version 0.24, get_params will raise an AttributeError if a parameter cannot be retrieved as an instance attribute. Previously it would return None.\n",
      "  warnings.warn('From version 0.24, get_params will raise an '\n"
     ]
    },
    {
     "data": {
      "image/png": "[encoded data removed]",
      "text/plain": [
       "<Figure size 576x396 with 1 Axes>"
      ]
     },
     "metadata": {},
     "output_type": "display_data"
    },
    {
     "data": {
      "text/plain": [
       "<Figure size 576x396 with 0 Axes>"
      ]
     },
     "metadata": {},
     "output_type": "display_data"
    }
   ],
   "source": [
    "#Load the classification dataset\n",
    "X = other_data\n",
    "y = deaths_array\n",
    "\n",
    "#Create the train and test data\n",
    "X_train, X_test, y_train, y_test = tts(X, y, test_size=0.2)\n",
    "\n",
    "# Instantiate the visualizer with the classification model\n",
    "confusion_matrix(\n",
    "    tree.DecisionTreeClassifier(),\n",
    "    X_train, y_train, X_test, y_test,\n",
    "    classes=['Survived', 'Dead']\n",
    ")\n",
    "plt.tight_layout()"
   ]
  },
  {
   "cell_type": "code",
   "execution_count": 15,
   "metadata": {
    "scrolled": true
   },
   "outputs": [
    {
     "name": "stderr",
     "output_type": "stream",
     "text": [
      "/Users/yogiandyobi/anaconda3/lib/python3.8/site-packages/sklearn/base.py:209: FutureWarning: From version 0.24, get_params will raise an AttributeError if a parameter cannot be retrieved as an instance attribute. Previously it would return None.\n",
      "  warnings.warn('From version 0.24, get_params will raise an '\n"
     ]
    },
    {
     "data": {
      "image/png": "[encoded data removed]",
      "text/plain": [
       "<Figure size 576x396 with 2 Axes>"
      ]
     },
     "metadata": {},
     "output_type": "display_data"
    },
    {
     "data": {
      "text/plain": [
       "<AxesSubplot:title={'center':'DecisionTreeClassifier Classification Report'}>"
      ]
     },
     "execution_count": 15,
     "metadata": {},
     "output_type": "execute_result"
    }
   ],
   "source": [
    "target = ['Survived','Died']\n",
    "visualizer = ClassificationReport(model, classes=target, support=True)\n",
    "visualizer.fit(X_train, y_train)      \n",
    "visualizer.score(X_test, y_test)  \n",
    "visualizer.show()"
   ]
  },
  {
   "cell_type": "markdown",
   "metadata": {},
   "source": [
    "# Decision Tree With Oversampling"
   ]
  },
  {
   "cell_type": "code",
   "execution_count": 16,
   "metadata": {
    "scrolled": true
   },
   "outputs": [],
   "source": [
    "ros = RandomOverSampler(random_state=0)\n",
    "X_train_resampled, y_train_resampled = ros.fit_resample(X_train, y_train)"
   ]
  },
  {
   "cell_type": "code",
   "execution_count": 17,
   "metadata": {},
   "outputs": [],
   "source": [
    "model = tree.DecisionTreeClassifier()"
   ]
  },
  {
   "cell_type": "code",
   "execution_count": 18,
   "metadata": {},
   "outputs": [
    {
     "data": {
      "text/plain": [
       "DecisionTreeClassifier()"
      ]
     },
     "execution_count": 18,
     "metadata": {},
     "output_type": "execute_result"
    }
   ],
   "source": [
    "model.fit(X_train_resampled, y_train_resampled)"
   ]
  },
  {
   "cell_type": "code",
   "execution_count": 19,
   "metadata": {},
   "outputs": [
    {
     "data": {
      "text/plain": [
       "0.905853566625972"
      ]
     },
     "execution_count": 19,
     "metadata": {},
     "output_type": "execute_result"
    }
   ],
   "source": [
    "model.score(X_test, y_test)"
   ]
  },
  {
   "cell_type": "code",
   "execution_count": 20,
   "metadata": {},
   "outputs": [
    {
     "name": "stderr",
     "output_type": "stream",
     "text": [
      "/Users/yogiandyobi/anaconda3/lib/python3.8/site-packages/sklearn/base.py:209: FutureWarning: From version 0.24, get_params will raise an AttributeError if a parameter cannot be retrieved as an instance attribute. Previously it would return None.\n",
      "  warnings.warn('From version 0.24, get_params will raise an '\n"
     ]
    },
    {
     "data": {
      "image/png": "[encoded data removed]",
      "text/plain": [
       "<Figure size 576x396 with 1 Axes>"
      ]
     },
     "metadata": {},
     "output_type": "display_data"
    },
    {
     "data": {
      "text/plain": [
       "<Figure size 576x396 with 0 Axes>"
      ]
     },
     "metadata": {},
     "output_type": "display_data"
    }
   ],
   "source": [
    "#Load the classification dataset\n",
    "X = other_data\n",
    "y = deaths_array\n",
    "\n",
    "#Create the train and test data\n",
    "X_train_resampled, X_test, y_train_resampled, y_test = tts(X, y, test_size=0.2)\n",
    "\n",
    "# Instantiate the visualizer with the classification model\n",
    "confusion_matrix(\n",
    "    tree.DecisionTreeClassifier(),\n",
    "    X_train_resampled, y_train_resampled, X_test, y_test,\n",
    "    classes=['Survived', 'Dead']\n",
    ")\n",
    "plt.tight_layout()"
   ]
  },
  {
   "cell_type": "code",
   "execution_count": 21,
   "metadata": {},
   "outputs": [
    {
     "name": "stderr",
     "output_type": "stream",
     "text": [
      "/Users/yogiandyobi/anaconda3/lib/python3.8/site-packages/sklearn/base.py:209: FutureWarning: From version 0.24, get_params will raise an AttributeError if a parameter cannot be retrieved as an instance attribute. Previously it would return None.\n",
      "  warnings.warn('From version 0.24, get_params will raise an '\n"
     ]
    },
    {
     "data": {
      "image/png": "[encoded data removed]",
      "text/plain": [
       "<Figure size 576x396 with 2 Axes>"
      ]
     },
     "metadata": {},
     "output_type": "display_data"
    },
    {
     "data": {
      "text/plain": [
       "<AxesSubplot:title={'center':'DecisionTreeClassifier Classification Report'}>"
      ]
     },
     "execution_count": 21,
     "metadata": {},
     "output_type": "execute_result"
    }
   ],
   "source": [
    "target = ['Survived','Died']\n",
    "visualizer = ClassificationReport(model, classes=target, support=True)\n",
    "visualizer.fit(X_train_resampled, y_train_resampled)      \n",
    "visualizer.score(X_test, y_test)  \n",
    "visualizer.show()"
   ]
  },
  {
   "cell_type": "markdown",
   "metadata": {},
   "source": [
    "# Naive Bayes"
   ]
  },
  {
   "cell_type": "code",
   "execution_count": 22,
   "metadata": {},
   "outputs": [],
   "source": [
    "model = MultinomialNB()"
   ]
  },
  {
   "cell_type": "code",
   "execution_count": 23,
   "metadata": {},
   "outputs": [
    {
     "data": {
      "text/plain": [
       "MultinomialNB()"
      ]
     },
     "execution_count": 23,
     "metadata": {},
     "output_type": "execute_result"
    }
   ],
   "source": [
    "model.fit(X_train,y_train)"
   ]
  },
  {
   "cell_type": "code",
   "execution_count": 24,
   "metadata": {},
   "outputs": [
    {
     "data": {
      "text/plain": [
       "0.9458753507003683"
      ]
     },
     "execution_count": 24,
     "metadata": {},
     "output_type": "execute_result"
    }
   ],
   "source": [
    "model.score(X_test, y_test)"
   ]
  },
  {
   "cell_type": "code",
   "execution_count": 25,
   "metadata": {},
   "outputs": [
    {
     "name": "stderr",
     "output_type": "stream",
     "text": [
      "/Users/yogiandyobi/anaconda3/lib/python3.8/site-packages/sklearn/base.py:209: FutureWarning: From version 0.24, get_params will raise an AttributeError if a parameter cannot be retrieved as an instance attribute. Previously it would return None.\n",
      "  warnings.warn('From version 0.24, get_params will raise an '\n"
     ]
    },
    {
     "data": {
      "image/png": "[encoded data removed]",
      "text/plain": [
       "<Figure size 576x396 with 1 Axes>"
      ]
     },
     "metadata": {},
     "output_type": "display_data"
    },
    {
     "data": {
      "text/plain": [
       "<Figure size 576x396 with 0 Axes>"
      ]
     },
     "metadata": {},
     "output_type": "display_data"
    }
   ],
   "source": [
    "#Load the classification dataset\n",
    "X = other_data\n",
    "y = deaths_array\n",
    "\n",
    "#Create the train and test data\n",
    "X_train, X_test, y_train, y_test = tts(X, y, test_size=0.2)\n",
    "\n",
    "# Instantiate the visualizer with the classification model\n",
    "confusion_matrix(\n",
    "    MultinomialNB(),\n",
    "    X_train, y_train, X_test, y_test,\n",
    "    classes=['Survived', 'Dead']\n",
    ")\n",
    "plt.tight_layout()"
   ]
  },
  {
   "cell_type": "code",
   "execution_count": 26,
   "metadata": {},
   "outputs": [
    {
     "name": "stderr",
     "output_type": "stream",
     "text": [
      "/Users/yogiandyobi/anaconda3/lib/python3.8/site-packages/sklearn/base.py:209: FutureWarning: From version 0.24, get_params will raise an AttributeError if a parameter cannot be retrieved as an instance attribute. Previously it would return None.\n",
      "  warnings.warn('From version 0.24, get_params will raise an '\n"
     ]
    },
    {
     "data": {
      "image/png": "[encoded data removed]",
      "text/plain": [
       "<Figure size 576x396 with 2 Axes>"
      ]
     },
     "metadata": {},
     "output_type": "display_data"
    },
    {
     "data": {
      "text/plain": [
       "<AxesSubplot:title={'center':'MultinomialNB Classification Report'}>"
      ]
     },
     "execution_count": 26,
     "metadata": {},
     "output_type": "execute_result"
    }
   ],
   "source": [
    "target = ['Survived','Died']\n",
    "visualizer = ClassificationReport(model, classes=target, support=True)\n",
    "visualizer.fit(X_train, y_train)      \n",
    "visualizer.score(X_test, y_test)  \n",
    "visualizer.show()"
   ]
  },
  {
   "cell_type": "markdown",
   "metadata": {},
   "source": [
    "# Naive Bayes With Oversampling"
   ]
  },
  {
   "cell_type": "code",
   "execution_count": 27,
   "metadata": {},
   "outputs": [],
   "source": [
    "ros = RandomOverSampler(random_state=0)\n",
    "X_train_resampled, y_train_resampled = ros.fit_resample(X_train, y_train)"
   ]
  },
  {
   "cell_type": "code",
   "execution_count": 28,
   "metadata": {},
   "outputs": [],
   "source": [
    "model = MultinomialNB()"
   ]
  },
  {
   "cell_type": "code",
   "execution_count": 29,
   "metadata": {},
   "outputs": [
    {
     "data": {
      "text/plain": [
       "MultinomialNB()"
      ]
     },
     "execution_count": 29,
     "metadata": {},
     "output_type": "execute_result"
    }
   ],
   "source": [
    "model.fit(X_train_resampled, y_train_resampled)"
   ]
  },
  {
   "cell_type": "code",
   "execution_count": 30,
   "metadata": {},
   "outputs": [
    {
     "name": "stderr",
     "output_type": "stream",
     "text": [
      "/Users/yogiandyobi/anaconda3/lib/python3.8/site-packages/sklearn/base.py:209: FutureWarning: From version 0.24, get_params will raise an AttributeError if a parameter cannot be retrieved as an instance attribute. Previously it would return None.\n",
      "  warnings.warn('From version 0.24, get_params will raise an '\n"
     ]
    },
    {
     "data": {
      "image/png": "[encoded data removed]",
      "text/plain": [
       "<Figure size 576x396 with 1 Axes>"
      ]
     },
     "metadata": {},
     "output_type": "display_data"
    },
    {
     "data": {
      "text/plain": [
       "<Figure size 576x396 with 0 Axes>"
      ]
     },
     "metadata": {},
     "output_type": "display_data"
    }
   ],
   "source": [
    "#Load the classification dataset\n",
    "X = other_data\n",
    "y = deaths_array\n",
    "\n",
    "#Create the train and test data\n",
    "X_train_resampled, X_test, y_train_resampled, y_test = tts(X, y, test_size=0.2)\n",
    "\n",
    "# Instantiate the visualizer with the classification model\n",
    "confusion_matrix(\n",
    "    MultinomialNB(),\n",
    "    X_train_resampled, y_train_resampled, X_test, y_test,\n",
    "    classes=['Survived', 'Dead']\n",
    ")\n",
    "plt.tight_layout()"
   ]
  },
  {
   "cell_type": "code",
   "execution_count": 31,
   "metadata": {},
   "outputs": [
    {
     "name": "stderr",
     "output_type": "stream",
     "text": [
      "/Users/yogiandyobi/anaconda3/lib/python3.8/site-packages/sklearn/base.py:209: FutureWarning: From version 0.24, get_params will raise an AttributeError if a parameter cannot be retrieved as an instance attribute. Previously it would return None.\n",
      "  warnings.warn('From version 0.24, get_params will raise an '\n"
     ]
    },
    {
     "data": {
      "image/png": "[encoded data removed]",
      "text/plain": [
       "<Figure size 576x396 with 2 Axes>"
      ]
     },
     "metadata": {},
     "output_type": "display_data"
    },
    {
     "data": {
      "text/plain": [
       "<AxesSubplot:title={'center':'MultinomialNB Classification Report'}>"
      ]
     },
     "execution_count": 31,
     "metadata": {},
     "output_type": "execute_result"
    }
   ],
   "source": [
    "target = ['Survived','Died']\n",
    "visualizer = ClassificationReport(model, classes=target, support=True)\n",
    "visualizer.fit(X_train_resampled, y_train_resampled)      \n",
    "visualizer.score(X_test, y_test)  \n",
    "visualizer.show()"
   ]
  },
  {
   "cell_type": "markdown",
   "metadata": {},
   "source": [
    "# Logistic Regression"
   ]
  },
  {
   "cell_type": "code",
   "execution_count": 32,
   "metadata": {},
   "outputs": [],
   "source": [
    "model = LogisticRegression()"
   ]
  },
  {
   "cell_type": "code",
   "execution_count": 33,
   "metadata": {
    "scrolled": true
   },
   "outputs": [
    {
     "name": "stderr",
     "output_type": "stream",
     "text": [
      "/Users/yogiandyobi/anaconda3/lib/python3.8/site-packages/sklearn/linear_model/_logistic.py:762: ConvergenceWarning: lbfgs failed to converge (status=1):\n",
      "STOP: TOTAL NO. of ITERATIONS REACHED LIMIT.\n",
      "\n",
      "Increase the number of iterations (max_iter) or scale the data as shown in:\n",
      "    https://scikit-learn.org/stable/modules/preprocessing.html\n",
      "Please also refer to the documentation for alternative solver options:\n",
      "    https://scikit-learn.org/stable/modules/linear_model.html#logistic-regression\n",
      "  n_iter_i = _check_optimize_result(\n"
     ]
    },
    {
     "data": {
      "text/plain": [
       "LogisticRegression()"
      ]
     },
     "execution_count": 33,
     "metadata": {},
     "output_type": "execute_result"
    }
   ],
   "source": [
    "model.fit(X_train,y_train)"
   ]
  },
  {
   "cell_type": "code",
   "execution_count": 34,
   "metadata": {},
   "outputs": [
    {
     "data": {
      "text/plain": [
       "0.9619849834425548"
      ]
     },
     "execution_count": 34,
     "metadata": {},
     "output_type": "execute_result"
    }
   ],
   "source": [
    "model.score(X_test, y_test)"
   ]
  },
  {
   "cell_type": "code",
   "execution_count": 35,
   "metadata": {},
   "outputs": [
    {
     "name": "stderr",
     "output_type": "stream",
     "text": [
      "/Users/yogiandyobi/anaconda3/lib/python3.8/site-packages/sklearn/base.py:209: FutureWarning: From version 0.24, get_params will raise an AttributeError if a parameter cannot be retrieved as an instance attribute. Previously it would return None.\n",
      "  warnings.warn('From version 0.24, get_params will raise an '\n",
      "/Users/yogiandyobi/anaconda3/lib/python3.8/site-packages/sklearn/linear_model/_logistic.py:762: ConvergenceWarning: lbfgs failed to converge (status=1):\n",
      "STOP: TOTAL NO. of ITERATIONS REACHED LIMIT.\n",
      "\n",
      "Increase the number of iterations (max_iter) or scale the data as shown in:\n",
      "    https://scikit-learn.org/stable/modules/preprocessing.html\n",
      "Please also refer to the documentation for alternative solver options:\n",
      "    https://scikit-learn.org/stable/modules/linear_model.html#logistic-regression\n",
      "  n_iter_i = _check_optimize_result(\n"
     ]
    },
    {
     "data": {
      "image/png": "[encoded data removed]",
      "text/plain": [
       "<Figure size 576x396 with 1 Axes>"
      ]
     },
     "metadata": {},
     "output_type": "display_data"
    },
    {
     "data": {
      "text/plain": [
       "<Figure size 576x396 with 0 Axes>"
      ]
     },
     "metadata": {},
     "output_type": "display_data"
    }
   ],
   "source": [
    "#Load the classification dataset\n",
    "X = other_data\n",
    "y = deaths_array\n",
    "\n",
    "#Create the train and test data\n",
    "X_train, X_test, y_train, y_test = tts(X, y, test_size=0.2)\n",
    "\n",
    "# Instantiate the visualizer with the classification model\n",
    "confusion_matrix(\n",
    "    LogisticRegression(),\n",
    "    X_train, y_train, X_test, y_test,\n",
    "    classes=['Survived', 'Dead']\n",
    ")\n",
    "plt.tight_layout()"
   ]
  },
  {
   "cell_type": "code",
   "execution_count": 36,
   "metadata": {
    "scrolled": true
   },
   "outputs": [
    {
     "name": "stderr",
     "output_type": "stream",
     "text": [
      "/Users/yogiandyobi/anaconda3/lib/python3.8/site-packages/sklearn/base.py:209: FutureWarning: From version 0.24, get_params will raise an AttributeError if a parameter cannot be retrieved as an instance attribute. Previously it would return None.\n",
      "  warnings.warn('From version 0.24, get_params will raise an '\n"
     ]
    },
    {
     "data": {
      "image/png": "[encoded data removed]",
      "text/plain": [
       "<Figure size 576x396 with 2 Axes>"
      ]
     },
     "metadata": {},
     "output_type": "display_data"
    },
    {
     "data": {
      "text/plain": [
       "<AxesSubplot:title={'center':'LogisticRegression Classification Report'}>"
      ]
     },
     "execution_count": 36,
     "metadata": {},
     "output_type": "execute_result"
    }
   ],
   "source": [
    "target = ['Survived','Died']\n",
    "visualizer = ClassificationReport(model, classes=target, support=True)\n",
    "visualizer.fit(X_train, y_train)      \n",
    "visualizer.score(X_test, y_test)  \n",
    "visualizer.show()"
   ]
  },
  {
   "cell_type": "markdown",
   "metadata": {},
   "source": [
    "# Logistic Regression With Oversampling"
   ]
  },
  {
   "cell_type": "code",
   "execution_count": 37,
   "metadata": {},
   "outputs": [],
   "source": [
    "ros = RandomOverSampler(random_state=0)\n",
    "X_train_resampled, y_train_resampled = ros.fit_resample(X_train, y_train)"
   ]
  },
  {
   "cell_type": "code",
   "execution_count": 38,
   "metadata": {},
   "outputs": [],
   "source": [
    "model = LogisticRegression()"
   ]
  },
  {
   "cell_type": "code",
   "execution_count": 40,
   "metadata": {},
   "outputs": [
    {
     "name": "stderr",
     "output_type": "stream",
     "text": [
      "/Users/yogiandyobi/anaconda3/lib/python3.8/site-packages/sklearn/linear_model/_logistic.py:762: ConvergenceWarning: lbfgs failed to converge (status=1):\n",
      "STOP: TOTAL NO. of ITERATIONS REACHED LIMIT.\n",
      "\n",
      "Increase the number of iterations (max_iter) or scale the data as shown in:\n",
      "    https://scikit-learn.org/stable/modules/preprocessing.html\n",
      "Please also refer to the documentation for alternative solver options:\n",
      "    https://scikit-learn.org/stable/modules/linear_model.html#logistic-regression\n",
      "  n_iter_i = _check_optimize_result(\n"
     ]
    },
    {
     "data": {
      "text/plain": [
       "LogisticRegression()"
      ]
     },
     "execution_count": 40,
     "metadata": {},
     "output_type": "execute_result"
    }
   ],
   "source": [
    "model.fit(X_train_resampled, y_train_resampled)"
   ]
  },
  {
   "cell_type": "code",
   "execution_count": 41,
   "metadata": {},
   "outputs": [
    {
     "data": {
      "text/plain": [
       "0.8970625053234187"
      ]
     },
     "execution_count": 41,
     "metadata": {},
     "output_type": "execute_result"
    }
   ],
   "source": [
    "model.score(X_test, y_test)"
   ]
  },
  {
   "cell_type": "code",
   "execution_count": 42,
   "metadata": {},
   "outputs": [
    {
     "name": "stderr",
     "output_type": "stream",
     "text": [
      "/Users/yogiandyobi/anaconda3/lib/python3.8/site-packages/sklearn/base.py:209: FutureWarning: From version 0.24, get_params will raise an AttributeError if a parameter cannot be retrieved as an instance attribute. Previously it would return None.\n",
      "  warnings.warn('From version 0.24, get_params will raise an '\n",
      "/Users/yogiandyobi/anaconda3/lib/python3.8/site-packages/sklearn/linear_model/_logistic.py:762: ConvergenceWarning: lbfgs failed to converge (status=1):\n",
      "STOP: TOTAL NO. of ITERATIONS REACHED LIMIT.\n",
      "\n",
      "Increase the number of iterations (max_iter) or scale the data as shown in:\n",
      "    https://scikit-learn.org/stable/modules/preprocessing.html\n",
      "Please also refer to the documentation for alternative solver options:\n",
      "    https://scikit-learn.org/stable/modules/linear_model.html#logistic-regression\n",
      "  n_iter_i = _check_optimize_result(\n"
     ]
    },
    {
     "data": {
      "image/png": "[encoded data removed]",
      "text/plain": [
       "<Figure size 576x396 with 1 Axes>"
      ]
     },
     "metadata": {},
     "output_type": "display_data"
    },
    {
     "data": {
      "text/plain": [
       "<Figure size 576x396 with 0 Axes>"
      ]
     },
     "metadata": {},
     "output_type": "display_data"
    }
   ],
   "source": [
    "#Load the classification dataset\n",
    "X = other_data\n",
    "y = deaths_array\n",
    "\n",
    "#Create the train and test data\n",
    "X_train_resampled, X_test, y_train_resampled, y_test = tts(X, y, test_size=0.2)\n",
    "\n",
    "# Instantiate the visualizer with the classification model\n",
    "confusion_matrix(\n",
    "    LogisticRegression(),\n",
    "    X_train_resampled, y_train_resampled, X_test, y_test,\n",
    "    classes=['Survived', 'Dead']\n",
    ")\n",
    "plt.tight_layout()"
   ]
  },
  {
   "cell_type": "code",
   "execution_count": 43,
   "metadata": {},
   "outputs": [
    {
     "name": "stderr",
     "output_type": "stream",
     "text": [
      "/Users/yogiandyobi/anaconda3/lib/python3.8/site-packages/sklearn/base.py:209: FutureWarning: From version 0.24, get_params will raise an AttributeError if a parameter cannot be retrieved as an instance attribute. Previously it would return None.\n",
      "  warnings.warn('From version 0.24, get_params will raise an '\n"
     ]
    },
    {
     "data": {
      "image/png": "[encoded data removed]",
      "text/plain": [
       "<Figure size 576x396 with 2 Axes>"
      ]
     },
     "metadata": {},
     "output_type": "display_data"
    },
    {
     "data": {
      "text/plain": [
       "<AxesSubplot:title={'center':'LogisticRegression Classification Report'}>"
      ]
     },
     "execution_count": 43,
     "metadata": {},
     "output_type": "execute_result"
    }
   ],
   "source": [
    "target = ['Survived','Died']\n",
    "visualizer = ClassificationReport(model, classes=target, support=True)\n",
    "visualizer.fit(X_train_resampled, y_train_resampled)      \n",
    "visualizer.score(X_test, y_test)  \n",
    "visualizer.show()"
   ]
  },
  {
   "cell_type": "markdown",
   "metadata": {},
   "source": [
    "#training model SVC takes forever\n",
    "\n",
    "model = SVC(kernel='linear')\n",
    "model.fit(X_train,y_train)\n",
    "model.score(X_test,y_test)\n",
    "\n",
    "target = ['Survived','Died']\n",
    "visualizer = ClassificationReport(model, classes=target, support=True)\n",
    "visualizer.fit(X_train, y_train)      \n",
    "visualizer.score(X_test, y_test)  \n",
    "visualizer.show()"
   ]
  },
  {
   "cell_type": "markdown",
   "metadata": {},
   "source": [
    "# Roc-Auc Curve"
   ]
  },
  {
   "cell_type": "code",
   "execution_count": 44,
   "metadata": {},
   "outputs": [],
   "source": [
    "X = other_data\n",
    "y = deaths_array\n",
    "X_train_resampled, X_test, y_train_resampled, y_test = tts(X, y, test_size=0.2)\n",
    "\n"
   ]
  },
  {
   "cell_type": "code",
   "execution_count": 45,
   "metadata": {},
   "outputs": [],
   "source": [
    "clf_tree = DecisionTreeClassifier()\n",
    "clf_reg = LogisticRegression()\n",
    "clf_naive = MultinomialNB()"
   ]
  },
  {
   "cell_type": "code",
   "execution_count": 46,
   "metadata": {},
   "outputs": [
    {
     "name": "stderr",
     "output_type": "stream",
     "text": [
      "/Users/yogiandyobi/anaconda3/lib/python3.8/site-packages/sklearn/linear_model/_logistic.py:762: ConvergenceWarning: lbfgs failed to converge (status=1):\n",
      "STOP: TOTAL NO. of ITERATIONS REACHED LIMIT.\n",
      "\n",
      "Increase the number of iterations (max_iter) or scale the data as shown in:\n",
      "    https://scikit-learn.org/stable/modules/preprocessing.html\n",
      "Please also refer to the documentation for alternative solver options:\n",
      "    https://scikit-learn.org/stable/modules/linear_model.html#logistic-regression\n",
      "  n_iter_i = _check_optimize_result(\n"
     ]
    },
    {
     "data": {
      "text/plain": [
       "MultinomialNB()"
      ]
     },
     "execution_count": 46,
     "metadata": {},
     "output_type": "execute_result"
    }
   ],
   "source": [
    "clf_tree.fit(X_train_resampled, y_train_resampled)\n",
    "clf_reg.fit(X_train_resampled, y_train_resampled)\n",
    "clf_naive.fit(X_train_resampled, y_train_resampled)"
   ]
  },
  {
   "cell_type": "code",
   "execution_count": 47,
   "metadata": {},
   "outputs": [],
   "source": [
    "y_score1 = clf_tree.predict_proba(X_test)[:,1]\n",
    "y_score2 = clf_reg.predict_proba(X_test)[:,1]\n",
    "y_score3 = clf_naive.predict_proba(X_test)[:,1]"
   ]
  },
  {
   "cell_type": "code",
   "execution_count": 48,
   "metadata": {},
   "outputs": [
    {
     "name": "stdout",
     "output_type": "stream",
     "text": [
      "roc_auc_score for DecisionTree:  0.8936476419836199\n",
      "roc_auc_score for Logistic Regression:  0.9615033082309665\n",
      "roc_auc_score for Naive Bayes:  0.9372942517653504\n"
     ]
    }
   ],
   "source": [
    "false_positive_rate1, true_positive_rate1, threshold1 = roc_curve(y_test, y_score1)\n",
    "false_positive_rate2, true_positive_rate2, threshold2 = roc_curve(y_test, y_score2)\n",
    "false_positive_rate3, true_positive_rate3, threshold3 = roc_curve(y_test, y_score3)\n",
    "print('roc_auc_score for DecisionTree: ', roc_auc_score(y_test, y_score1))\n",
    "print('roc_auc_score for Logistic Regression: ', roc_auc_score(y_test, y_score2))\n",
    "print('roc_auc_score for Naive Bayes: ', roc_auc_score(y_test, y_score3))"
   ]
  },
  {
   "cell_type": "code",
   "execution_count": 49,
   "metadata": {},
   "outputs": [
    {
     "data": {
      "image/png": "[encoded data removed]",
      "text/plain": [
       "<Figure size 720x720 with 1 Axes>"
      ]
     },
     "metadata": {},
     "output_type": "display_data"
    },
    {
     "data": {
      "image/png": "[encoded data removed]",
      "text/plain": [
       "<Figure size 720x720 with 1 Axes>"
      ]
     },
     "metadata": {},
     "output_type": "display_data"
    },
    {
     "data": {
      "image/png": "[encoded data removed]",
      "text/plain": [
       "<Figure size 720x720 with 1 Axes>"
      ]
     },
     "metadata": {},
     "output_type": "display_data"
    }
   ],
   "source": [
    "plt.subplots(1, figsize=(10,10))\n",
    "plt.title('Receiver Operating Characteristic - DecisionTree')\n",
    "plt.plot(false_positive_rate1, true_positive_rate1)\n",
    "plt.plot([0, 1], ls=\"--\")\n",
    "plt.plot([0, 0], [1, 0] , c=\".7\"), plt.plot([1, 1] , c=\".7\")\n",
    "plt.ylabel('True Positive Rate')\n",
    "plt.xlabel('False Positive Rate')\n",
    "plt.show()\n",
    "\n",
    "plt.subplots(1, figsize=(10,10))\n",
    "plt.title('Receiver Operating Characteristic - Logistic Regression')\n",
    "plt.plot(false_positive_rate2, true_positive_rate2)\n",
    "plt.plot([0, 1], ls=\"--\")\n",
    "plt.plot([0, 0], [1, 0] , c=\".7\"), plt.plot([1, 1] , c=\".7\")\n",
    "plt.ylabel('True Positive Rate')\n",
    "plt.xlabel('False Positive Rate')\n",
    "plt.show()\n",
    "\n",
    "plt.subplots(1, figsize=(10,10))\n",
    "plt.title('Receiver Operating Characteristic - Naive Bayes')\n",
    "plt.plot(false_positive_rate3, true_positive_rate3)\n",
    "plt.plot([0, 1], ls=\"--\")\n",
    "plt.plot([0, 0], [1, 0] , c=\".7\"), plt.plot([1, 1] , c=\".7\")\n",
    "plt.ylabel('True Positive Rate')\n",
    "plt.xlabel('False Positive Rate')\n",
    "plt.show()"
   ]
  },
  {
   "cell_type": "markdown",
   "metadata": {},
   "source": [
    "# PR Curve"
   ]
  },
  {
   "cell_type": "code",
   "execution_count": 50,
   "metadata": {},
   "outputs": [
    {
     "name": "stderr",
     "output_type": "stream",
     "text": [
      "/Users/yogiandyobi/anaconda3/lib/python3.8/site-packages/sklearn/base.py:209: FutureWarning: From version 0.24, get_params will raise an AttributeError if a parameter cannot be retrieved as an instance attribute. Previously it would return None.\n",
      "  warnings.warn('From version 0.24, get_params will raise an '\n"
     ]
    },
    {
     "data": {
      "image/png": "[encoded data removed]",
      "text/plain": [
       "<Figure size 576x396 with 1 Axes>"
      ]
     },
     "metadata": {},
     "output_type": "display_data"
    },
    {
     "name": "stderr",
     "output_type": "stream",
     "text": [
      "/Users/yogiandyobi/anaconda3/lib/python3.8/site-packages/sklearn/base.py:209: FutureWarning: From version 0.24, get_params will raise an AttributeError if a parameter cannot be retrieved as an instance attribute. Previously it would return None.\n",
      "  warnings.warn('From version 0.24, get_params will raise an '\n",
      "/Users/yogiandyobi/anaconda3/lib/python3.8/site-packages/sklearn/linear_model/_logistic.py:762: ConvergenceWarning: lbfgs failed to converge (status=1):\n",
      "STOP: TOTAL NO. of ITERATIONS REACHED LIMIT.\n",
      "\n",
      "Increase the number of iterations (max_iter) or scale the data as shown in:\n",
      "    https://scikit-learn.org/stable/modules/preprocessing.html\n",
      "Please also refer to the documentation for alternative solver options:\n",
      "    https://scikit-learn.org/stable/modules/linear_model.html#logistic-regression\n",
      "  n_iter_i = _check_optimize_result(\n"
     ]
    },
    {
     "data": {
      "image/png": "[encoded data removed]",
      "text/plain": [
       "<Figure size 576x396 with 1 Axes>"
      ]
     },
     "metadata": {},
     "output_type": "display_data"
    },
    {
     "name": "stderr",
     "output_type": "stream",
     "text": [
      "/Users/yogiandyobi/anaconda3/lib/python3.8/site-packages/sklearn/base.py:209: FutureWarning: From version 0.24, get_params will raise an AttributeError if a parameter cannot be retrieved as an instance attribute. Previously it would return None.\n",
      "  warnings.warn('From version 0.24, get_params will raise an '\n"
     ]
    },
    {
     "data": {
      "image/png": "[encoded data removed]",
      "text/plain": [
       "<Figure size 576x396 with 1 Axes>"
      ]
     },
     "metadata": {},
     "output_type": "display_data"
    },
    {
     "data": {
      "text/plain": [
       "<AxesSubplot:title={'center':'Precision-Recall Curve for MultinomialNB'}, xlabel='Recall', ylabel='Precision'>"
      ]
     },
     "execution_count": 50,
     "metadata": {},
     "output_type": "execute_result"
    }
   ],
   "source": [
    "# Load the dataset and split into train/test splits\n",
    "X = other_data\n",
    "y = deaths_array\n",
    "\n",
    "X_train_resampled, X_test, y_train_resampled, y_test = tts(\n",
    "    X, y, test_size=0.2, shuffle=True, random_state=0\n",
    ")\n",
    "\n",
    "# Create the visualizer, fit, score, and show it\n",
    "viz = PrecisionRecallCurve(DecisionTreeClassifier())\n",
    "viz.fit(X_train_resampled, y_train_resampled)\n",
    "viz.score(X_test, y_test)\n",
    "viz.show()\n",
    "\n",
    "viz = PrecisionRecallCurve(LogisticRegression())\n",
    "viz.fit(X_train_resampled, y_train_resampled)\n",
    "viz.score(X_test, y_test)\n",
    "viz.show()\n",
    "\n",
    "viz = PrecisionRecallCurve(MultinomialNB())\n",
    "viz.fit(X_train_resampled, y_train_resampled)\n",
    "viz.score(X_test, y_test)\n",
    "viz.show()"
   ]
  },
  {
   "cell_type": "markdown",
   "metadata": {},
   "source": [
    "# Random Search For Decision Dree"
   ]
  },
  {
   "cell_type": "code",
   "execution_count": 41,
   "metadata": {},
   "outputs": [
    {
     "name": "stdout",
     "output_type": "stream",
     "text": [
      "Tuned Decision Tree Parameters: {'criterion': 'entropy', 'max_depth': None, 'max_features': 4, 'min_samples_leaf': 3}\n",
      "Best score is 0.9615043916590741\n"
     ]
    }
   ],
   "source": [
    "param_dist = {\"max_depth\": [3, None],\n",
    "              \"max_features\": randint(1, 9),\n",
    "              \"min_samples_leaf\": randint(1, 9),\n",
    "              \"criterion\": [\"gini\", \"entropy\"]}\n",
    "\n",
    "tree = DecisionTreeClassifier()\n",
    "tree_cv = RandomizedSearchCV(tree, param_dist, cv=5)\n",
    "tree_cv.fit(X,y)\n",
    "print(\"Tuned Decision Tree Parameters: {}\".format(tree_cv.best_params_))\n",
    "print(\"Best score is {}\".format(tree_cv.best_score_))"
   ]
  },
  {
   "cell_type": "markdown",
   "metadata": {},
   "source": [
    "# Grid Search takes forever"
   ]
  },
  {
   "cell_type": "markdown",
   "metadata": {},
   "source": [
    "# grid search for logistic regression \n",
    "from sklearn.datasets import make_blobs\n",
    "from sklearn.model_selection import RepeatedStratifiedKFold\n",
    "from sklearn.model_selection import GridSearchCV\n",
    "from sklearn.linear_model import LogisticRegression\n",
    "# define dataset\n",
    "X = other_data\n",
    "y = deaths_array\n",
    "# define models and parameters\n",
    "model = LogisticRegression()\n",
    "solvers = ['newton-cg', 'lbfgs', 'liblinear']\n",
    "penalty = ['l2']\n",
    "c_values = [100, 10, 1.0, 0.1, 0.01]\n",
    "# define grid search\n",
    "grid = dict(solver=solvers,penalty=penalty,C=c_values)\n",
    "cv = RepeatedStratifiedKFold(n_splits=10, n_repeats=3, random_state=1)\n",
    "grid_search = GridSearchCV(estimator=model, param_grid=grid, n_jobs=-1, cv=cv, scoring='accuracy',error_score=0)\n",
    "grid_result = grid_search.fit(X, y)\n",
    "# summarize results\n",
    "print(\"Best: %f using %s\" % (grid_result.best_score_, grid_result.best_params_))\n",
    "means = grid_result.cv_results_['mean_test_score']\n",
    "stds = grid_result.cv_results_['std_test_score']\n",
    "params = grid_result.cv_results_['params']\n",
    "for mean, stdev, param in zip(means, stds, params):\n",
    "    print(\"%f (%f) with: %r\" % (mean, stdev, param))"
   ]
  },
  {
   "cell_type": "markdown",
   "metadata": {},
   "source": [
    "# Load libraries\n",
    "from scipy.stats import uniform\n",
    "from sklearn import linear_model, datasets\n",
    "from sklearn.model_selection import RandomizedSearchCV\n",
    "# Load data\n",
    "iris = datasets.load_iris()\n",
    "X = other_data\n",
    "y = deaths_array\n",
    "# Create logistic regression\n",
    "logistic = linear_model.LogisticRegression()\n",
    "# Create regularization penalty space\n",
    "penalty = ['l1', 'l2']\n",
    "\n",
    "# Create regularization hyperparameter distribution using uniform distribution\n",
    "C = uniform(loc=0, scale=4)\n",
    "\n",
    "# Create hyperparameter options\n",
    "hyperparameters = dict(C=C, penalty=penalty)\n",
    "# Create randomized search 5-fold cross validation and 100 iterations\n",
    "clf = RandomizedSearchCV(logistic, hyperparameters, random_state=1, n_iter=100, cv=5, verbose=0, n_jobs=-1)\n",
    "# Fit randomized search\n",
    "best_model = clf.fit(X, y)\n",
    "# View best hyperparameters\n",
    "print('Best Penalty:', best_model.best_estimator_.get_params()['penalty'])\n",
    "print('Best C:', best_model.best_estimator_.get_params()['C'])\n"
   ]
  },
  {
   "cell_type": "code",
   "execution_count": null,
   "metadata": {},
   "outputs": [],
   "source": []
  }
 ],
 "metadata": {
  "kernelspec": {
   "display_name": "Python 3",
   "language": "python",
   "name": "python3"
  },
  "language_info": {
   "codemirror_mode": {
    "name": "ipython",
    "version": 3
   },
   "file_extension": ".py",
   "mimetype": "text/x-python",
   "name": "python",
   "nbconvert_exporter": "python",
   "pygments_lexer": "ipython3",
   "version": "3.8.3"
  }
 },
 "nbformat": 4,
 "nbformat_minor": 4
}
